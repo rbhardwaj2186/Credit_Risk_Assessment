{
 "cells": [
  {
   "cell_type": "markdown",
   "id": "6ad39a5f",
   "metadata": {},
   "source": [
    "# Project 1 Starter\n",
    "\n",
    "**Here are some tips for submitting your project. You can use the points as partial check list before submission.**\n",
    "\n",
    "- **Give your notebook a clear and descriptive title.** \n",
    "- **Explain your work in Markdown cells.** This will make your notebook easier to read and understand. You can use different colors of font to highlight important points.\n",
    "- **Remove any unnecessary code or text.** For example, you should not include the template for training and scoring in your final submission.\n",
    "- **Package your submission in a single file.** I will deduct points for multiple files or incorrect folder structure.\n",
    "- **Name your notebooks correctly.** Include your name and Net-ID in the file name.\n",
    "- **Train your TE/WOE encoders on the training set only.** You can train them on the full dataset for your final model.\n",
    "- **Test your scoring function.** Most students scoring functions in the past din't work, so make sure to test yours before submitting your project.\n",
    "- **Avoid common mistakes in your scoring function.** For example, your scoring function should not:\n",
    "  - drop records, expect the target to be passed\n",
    "  - fit TE/WOE/Scalers\n",
    "  - return anything other than a Pandas DF.\n",
    "- **Make sure you have the required number of engineered features.** \n",
    "- **Don't create features and then not use them in the model**, if there is a reason not to use the feature in the model, explain.\n",
    "- **Don't include models in your notebook that you didn't train.** This is considered cheating and will result in a grade of zero for the project.\n",
    "- **Consistently display model performance metrics.** Use AUC or AUCPR for all models and iterations, and don't switch between metrics. For sure don't use accuracy, it is misleading metric for the imbalanced datasets. \n",
    "- **Discuss your model results in a Markdown cell.** Don't just print the results; explain what they mean.\n",
    "- **Include a conclusion section in your notebook.** This is your chance to summarize your findings and discuss the implications of your work.\n",
    "- **Treat your notebook like a project report that will be read by your manager who can't read Python code.** Make sure your notebook is clear, concise, and easy to understand.\n",
    "- **Display a preview of your dataset that you used for training.** This will help me understand what features you used in your model.\n",
    "- **Use the libraries versions specified on eLearning.** For example, you should use H2O 3.42.0.2  \n",
    "- **Use Python 3.10.11.** If you use another version and your code doesn't work on 3.10.11, it will be considered a bug in your code.\n",
    "- **When running H2O and want to suppress long prints (for example model summary), include \";\" at the end of the command.**\n",
    "- **Don't include the dataset with your deliverables.** "
   ]
  },
  {
   "cell_type": "markdown",
   "id": "da975e3a",
   "metadata": {},
   "source": [
    "## Project Requirements Summary"
   ]
  },
  {
   "cell_type": "markdown",
   "id": "9dca96cb",
   "metadata": {},
   "source": [
    "**This is draft - version 0 - changes are possible and will be announced.**\n",
    "\n",
    "Project 1 is to allow students to practice Data Science concepts learned so far.\n",
    "\n",
    "The project will include following tasks:\n",
    "- Load dataset. Don't use \"index\" column for training.\n",
    "- Clean up the data:\n",
    "    - Encode/replace missing values\n",
    "    - Replace features values that appear incorrect\n",
    "- Encode categorical variables\n",
    "- Split dataset to Train/Validation/Test\n",
    "- Add engineered features\n",
    "- Train and tune ML model\n",
    "- Provide final metrics using Test dataset\n",
    "- Provide a scoring function that can be used to score new data. You can test your scoring function on the provided \"scoring\" dataset.\n",
    "\n",
    "**Don't use PCA or TruncatedSVD for this project.** The goal of using Linear models is to be able to interpret the results via coefficients, and PCA/TruncatedSVD will make use of coefficients unusable for interpretation."
   ]
  },
  {
   "cell_type": "markdown",
   "id": "6e77b95f",
   "metadata": {},
   "source": [
    "### Types of models to train\n",
    "\n",
    "Your final submission should include single model. \n",
    "The model set you should try to come up with best model per type of model:\n",
    "1. Identify best model from: Sklearn Logistic Regression - try all combinations of regularization\n",
    "2. Identify best model from: H2O-3 GLM - try different combinations of regularization\n",
    "\n",
    "**Evaluation metric: AUCPR**"
   ]
  },
  {
   "cell_type": "markdown",
   "id": "38fbf8cf",
   "metadata": {},
   "source": [
    "### Feature engineering\n",
    "\n",
    "You should train/fit categorical features scalers and encoders on Train only. Use `transform` or equivalent function on Validation/Test datasets.\n",
    "\n",
    "It is important to understand all the steps before model training, so that you can reliably replicate and test them to produce scoring function.\n",
    "\n",
    "\n",
    "You should generate various new features. Examples of such features can be seen in the Module-3 lecture on GLMs.  \n",
    "Your final model should have at least **10** new engineered features.   \n",
    "On-hot-encoding, label encoding, and target encoding **is not included in the** **10** features to create.    \n",
    "You can attempt target encoding, however the technique is not expected to produce improvement for Linear models.\n",
    "\n",
    "Ideas for Feature engineering for various types of variables:\n",
    "1. https://docs.h2o.ai/driverless-ai/1-10-lts/docs/userguide/transformations.html\n",
    "2. GLM lecture and hands-on (Module-3)\n",
    "\n",
    "\n",
    "**Note**: \n",
    "- You don't have to perform feature engineering using H2O-3 even if you decided to use H2O-3 GLM for model training.\n",
    "- It is OK to perform feature engineering using any technique, as long as you can replicate it correctly in the Scoring function."
   ]
  },
  {
   "cell_type": "markdown",
   "id": "19881ad6",
   "metadata": {},
   "source": [
    "### Threshold calculation\n",
    "\n",
    "You will need to calculate optimal threshold for class assignment using F1 metric:\n",
    "- If using sklearn, use F1 `macro`: `f1_score(y_true, y_pred, average='macro')` \n",
    "- If using H2O-3, use F1\n",
    "\n",
    "You will need to find optimal probability threshold for class assignment, the threshold that maximizes above F1."
   ]
  },
  {
   "cell_type": "markdown",
   "id": "c91aca84",
   "metadata": {},
   "source": [
    "### Scoring function\n",
    "\n",
    "The Project-1 will be graded based on the completeness and performance of your final model against the hold-out dataset.\n",
    "The hold-out dataset will not be known to the students. As part of your deliverables, you will need to submit a scoring function. \n",
    "\n",
    "You need to submit a scoring function for the best model you trained, either Sklearn or H2O-3 model.  \n",
    "\n",
    "The scoring function will perform the following:\n",
    "- Accept dataset in the same format as provided with the project, minus \"MIS_Status\" column\n",
    "- Load trained model and any encoders/scalers that are needed to transform data\n",
    "- Transform dataset into format that can be scored with the trained model\n",
    "- Score the dataset and return the results, for each record\n",
    "    - Record ID\n",
    "    - Record label as determined by final model (0 or 1)\n",
    "    - If your model returns probabilities, you need to assign the label based on maximum F1 threshold\n",
    "    \n",
    "Scoring function header:\n",
    "```\n",
    "def project_1_scoring(data):\n",
    "    \"\"\"\n",
    "    Function to score input dataset.\n",
    "    \n",
    "    Input: dataset in Pandas DataFrame format\n",
    "    Output: Python list of labels in the same order as input records\n",
    "    \n",
    "    Flow:\n",
    "        - Load artifacts\n",
    "        - Transform dataset\n",
    "        - Score dataset\n",
    "        - Return labels\n",
    "    \n",
    "    \"\"\"\n",
    "    l = data.shape[0]\n",
    "    return l*[0]\n",
    "```\n",
    "\n",
    "Look for full example of scoring function at the bottom of the notebook. **Don't copy as is - this is just an example**"
   ]
  },
  {
   "cell_type": "markdown",
   "id": "eb7a4d90",
   "metadata": {},
   "source": [
    "### Deliverables in a single zip file in the following structure:\n",
    "- `notebook` (folder)\n",
    "    - Jupyter notebook with complete code to manipulate data, train and tune final model. `ipynb` format.\n",
    "    - Jupyter notebook with scoring function. `ipynb` format.\n",
    "- `artifacts` (folder)\n",
    "    - Model and any potential encoders in the \"pkl\" format or native H2O-3 format (for H2O-3 model)\n",
    "    - Scoring function that will load the final model and encoders. Separate from above notebook or `.py` file\n",
    "\n",
    "\n",
    "\n",
    "Your notebook should include explanations about your code and be designed to be easily followed and results replicated. Once you are done with the final version, you will need to test it by running all cells from top to bottom after restarting Kernel. It can be done by running `Kernel -> Restart & Run All`\n",
    "\n",
    "\n",
    "**Important**: To speed up progress, first produce working code using a small subset of the dataset."
   ]
  },
  {
   "cell_type": "markdown",
   "id": "456d6cf8",
   "metadata": {},
   "source": [
    "## Additional Details"
   ]
  },
  {
   "cell_type": "markdown",
   "id": "c341cb74",
   "metadata": {},
   "source": [
    "### Dataset description\n",
    "\n",
    "The dataset is from the U.S. Small Business Administration (SBA) The U.S. SBA was founded in 1953 on the principle of promoting and assisting small enterprises in the U.S. credit market (SBA Overview and History, US Small Business Administration (2015)). Small businesses have been a primary source of job creation in the United States; therefore, fostering small business formation and growth has social benefits by creating job opportunities and reducing unemployment. There have been many success stories of start-ups receiving SBA loan guarantees such as FedEx and Apple Computer. However, there have also been stories of small businesses and/or start-ups that have defaulted on their SBA-guaranteed loans.    \n",
    "\n",
    "\n",
    "More info on the original dataset: https://www.kaggle.com/mirbektoktogaraev/should-this-loan-be-approved-or-denied\n",
    "\n",
    "**Don't use original dataset, use only dataset provided with project requirements in eLearning**"
   ]
  },
  {
   "cell_type": "markdown",
   "id": "5fe1af41",
   "metadata": {},
   "source": [
    "### Dataset preparation and clean-up\n",
    "\n",
    "Modify and clean-up the dataset as following:\n",
    "- Replace encode Na/Null values\n",
    "- Convert the strings to floats/integers as needed\n",
    "\n",
    "Any additional clean-up as you find fit."
   ]
  },
  {
   "cell_type": "code",
   "execution_count": 1,
   "id": "49b5cc9a",
   "metadata": {},
   "outputs": [],
   "source": [
    "import h2o\n",
    "try:\n",
    "    h2o.cluster().shutdown()\n",
    "except:\n",
    "    pass "
   ]
  },
  {
   "cell_type": "code",
   "execution_count": 2,
   "id": "90c96083",
   "metadata": {},
   "outputs": [
    {
     "name": "stdout",
     "output_type": "stream",
     "text": [
      "Checking whether there is an H2O instance running at http://localhost:54321..... not found.\n",
      "Attempting to start a local H2O server...\n",
      "; Java HotSpot(TM) 64-Bit Server VM (build 25.361-b09, mixed mode)\n",
      "  Starting server from D:\\Work\\Gre\\UTD\\Courses\\Fall\\MIS6341\\Softwares\\Python\\ml-fall-2023\\Lib\\site-packages\\h2o\\backend\\bin\\h2o.jar\n",
      "  Ice root: C:\\Users\\Asus\\AppData\\Local\\Temp\\tmp_g6v6eoj\n",
      "  JVM stdout: C:\\Users\\Asus\\AppData\\Local\\Temp\\tmp_g6v6eoj\\h2o_Asus_started_from_python.out\n",
      "  JVM stderr: C:\\Users\\Asus\\AppData\\Local\\Temp\\tmp_g6v6eoj\\h2o_Asus_started_from_python.err\n",
      "  Server is running at http://127.0.0.1:54321\n",
      "Connecting to H2O server at http://127.0.0.1:54321 ... successful.\n"
     ]
    },
    {
     "data": {
      "text/html": [
       "\n",
       "<style>\n",
       "\n",
       "#h2o-table-1.h2o-container {\n",
       "  overflow-x: auto;\n",
       "}\n",
       "#h2o-table-1 .h2o-table {\n",
       "  /* width: 100%; */\n",
       "  margin-top: 1em;\n",
       "  margin-bottom: 1em;\n",
       "}\n",
       "#h2o-table-1 .h2o-table caption {\n",
       "  white-space: nowrap;\n",
       "  caption-side: top;\n",
       "  text-align: left;\n",
       "  /* margin-left: 1em; */\n",
       "  margin: 0;\n",
       "  font-size: larger;\n",
       "}\n",
       "#h2o-table-1 .h2o-table thead {\n",
       "  white-space: nowrap; \n",
       "  position: sticky;\n",
       "  top: 0;\n",
       "  box-shadow: 0 -1px inset;\n",
       "}\n",
       "#h2o-table-1 .h2o-table tbody {\n",
       "  overflow: auto;\n",
       "}\n",
       "#h2o-table-1 .h2o-table th,\n",
       "#h2o-table-1 .h2o-table td {\n",
       "  text-align: right;\n",
       "  /* border: 1px solid; */\n",
       "}\n",
       "#h2o-table-1 .h2o-table tr:nth-child(even) {\n",
       "  /* background: #F5F5F5 */\n",
       "}\n",
       "\n",
       "</style>      \n",
       "<div id=\"h2o-table-1\" class=\"h2o-container\">\n",
       "  <table class=\"h2o-table\">\n",
       "    <caption></caption>\n",
       "    <thead></thead>\n",
       "    <tbody><tr><td>H2O_cluster_uptime:</td>\n",
       "<td>06 secs</td></tr>\n",
       "<tr><td>H2O_cluster_timezone:</td>\n",
       "<td>America/Chicago</td></tr>\n",
       "<tr><td>H2O_data_parsing_timezone:</td>\n",
       "<td>UTC</td></tr>\n",
       "<tr><td>H2O_cluster_version:</td>\n",
       "<td>3.42.0.3</td></tr>\n",
       "<tr><td>H2O_cluster_version_age:</td>\n",
       "<td>2 months</td></tr>\n",
       "<tr><td>H2O_cluster_name:</td>\n",
       "<td>H2O_from_python_Asus_sqyxgy</td></tr>\n",
       "<tr><td>H2O_cluster_total_nodes:</td>\n",
       "<td>1</td></tr>\n",
       "<tr><td>H2O_cluster_free_memory:</td>\n",
       "<td>14.22 Gb</td></tr>\n",
       "<tr><td>H2O_cluster_total_cores:</td>\n",
       "<td>16</td></tr>\n",
       "<tr><td>H2O_cluster_allowed_cores:</td>\n",
       "<td>16</td></tr>\n",
       "<tr><td>H2O_cluster_status:</td>\n",
       "<td>locked, healthy</td></tr>\n",
       "<tr><td>H2O_connection_url:</td>\n",
       "<td>http://127.0.0.1:54321</td></tr>\n",
       "<tr><td>H2O_connection_proxy:</td>\n",
       "<td>{\"http\": null, \"https\": null}</td></tr>\n",
       "<tr><td>H2O_internal_security:</td>\n",
       "<td>False</td></tr>\n",
       "<tr><td>Python_version:</td>\n",
       "<td>3.10.11 final</td></tr></tbody>\n",
       "  </table>\n",
       "</div>\n"
      ],
      "text/plain": [
       "--------------------------  -----------------------------\n",
       "H2O_cluster_uptime:         06 secs\n",
       "H2O_cluster_timezone:       America/Chicago\n",
       "H2O_data_parsing_timezone:  UTC\n",
       "H2O_cluster_version:        3.42.0.3\n",
       "H2O_cluster_version_age:    2 months\n",
       "H2O_cluster_name:           H2O_from_python_Asus_sqyxgy\n",
       "H2O_cluster_total_nodes:    1\n",
       "H2O_cluster_free_memory:    14.22 Gb\n",
       "H2O_cluster_total_cores:    16\n",
       "H2O_cluster_allowed_cores:  16\n",
       "H2O_cluster_status:         locked, healthy\n",
       "H2O_connection_url:         http://127.0.0.1:54321\n",
       "H2O_connection_proxy:       {\"http\": null, \"https\": null}\n",
       "H2O_internal_security:      False\n",
       "Python_version:             3.10.11 final\n",
       "--------------------------  -----------------------------"
      ]
     },
     "metadata": {},
     "output_type": "display_data"
    },
    {
     "name": "stdout",
     "output_type": "stream",
     "text": [
      "Parse progress: |████████████████████████████████████████████████████████████████| (done) 100%\n"
     ]
    }
   ],
   "source": [
    "import h2o\n",
    "from h2o.frame import H2OFrame\n",
    "\n",
    "# Initialize the H2O cluster\n",
    "h2o.init(max_mem_size=\"16g\", nthreads=-1)\n",
    "\n",
    "input_csv = \"D:/Work/Gre/UTD/Courses/Fall/MIS6341/Softwares/Python/ml-fall-2023/Project1/SBA_loans_project_1.csv\"\n",
    "data = h2o.import_file(input_csv)"
   ]
  },
  {
   "cell_type": "code",
   "execution_count": 3,
   "id": "c8a0e0d3",
   "metadata": {},
   "outputs": [
    {
     "data": {
      "text/html": [
       "<table class='dataframe'>\n",
       "<thead>\n",
       "<tr><th style=\"text-align: right;\">  index</th><th>City         </th><th>State  </th><th style=\"text-align: right;\">  Zip</th><th>Bank                          </th><th>BankState  </th><th style=\"text-align: right;\">  NAICS</th><th style=\"text-align: right;\">  NoEmp</th><th style=\"text-align: right;\">  NewExist</th><th style=\"text-align: right;\">  CreateJob</th><th style=\"text-align: right;\">  RetainedJob</th><th style=\"text-align: right;\">  FranchiseCode</th><th style=\"text-align: right;\">  UrbanRural</th><th>RevLineCr  </th><th>LowDoc  </th><th style=\"text-align: right;\">  DisbursementGross</th><th style=\"text-align: right;\">  BalanceGross</th><th style=\"text-align: right;\">  GrAppv</th><th style=\"text-align: right;\">  SBA_Appv</th><th style=\"text-align: right;\">  MIS_Status</th></tr>\n",
       "</thead>\n",
       "<tbody>\n",
       "<tr><td style=\"text-align: right;\">      0</td><td>GLEN BURNIE  </td><td>MD     </td><td style=\"text-align: right;\">21060</td><td>BUSINESS FINANCE GROUP, INC.  </td><td>VA         </td><td style=\"text-align: right;\"> 811111</td><td style=\"text-align: right;\">      7</td><td style=\"text-align: right;\">         1</td><td style=\"text-align: right;\">          6</td><td style=\"text-align: right;\">            7</td><td style=\"text-align: right;\">              1</td><td style=\"text-align: right;\">           1</td><td>0          </td><td>N       </td><td style=\"text-align: right;\">             743000</td><td style=\"text-align: right;\">             0</td><td style=\"text-align: right;\">  743000</td><td style=\"text-align: right;\">    743000</td><td style=\"text-align: right;\">           0</td></tr>\n",
       "<tr><td style=\"text-align: right;\">      1</td><td>WEST BEND    </td><td>WI     </td><td style=\"text-align: right;\">53095</td><td>JPMORGAN CHASE BANK NATL ASSOC</td><td>IL         </td><td style=\"text-align: right;\"> 722410</td><td style=\"text-align: right;\">     20</td><td style=\"text-align: right;\">         1</td><td style=\"text-align: right;\">          0</td><td style=\"text-align: right;\">            0</td><td style=\"text-align: right;\">              1</td><td style=\"text-align: right;\">           0</td><td>N          </td><td>N       </td><td style=\"text-align: right;\">             137000</td><td style=\"text-align: right;\">             0</td><td style=\"text-align: right;\">  137000</td><td style=\"text-align: right;\">    109737</td><td style=\"text-align: right;\">           0</td></tr>\n",
       "<tr><td style=\"text-align: right;\">      2</td><td>SAN DIEGO    </td><td>CA     </td><td style=\"text-align: right;\">92128</td><td>UMPQUA BANK                   </td><td>OR         </td><td style=\"text-align: right;\">      0</td><td style=\"text-align: right;\">      2</td><td style=\"text-align: right;\">         1</td><td style=\"text-align: right;\">          0</td><td style=\"text-align: right;\">            0</td><td style=\"text-align: right;\">              1</td><td style=\"text-align: right;\">           0</td><td>0          </td><td>N       </td><td style=\"text-align: right;\">             280000</td><td style=\"text-align: right;\">             0</td><td style=\"text-align: right;\">  280000</td><td style=\"text-align: right;\">    210000</td><td style=\"text-align: right;\">           0</td></tr>\n",
       "<tr><td style=\"text-align: right;\">      3</td><td>WEBSTER      </td><td>MA     </td><td style=\"text-align: right;\"> 1570</td><td>HOMETOWN BANK A CO-OPERATIVE B</td><td>MA         </td><td style=\"text-align: right;\"> 621310</td><td style=\"text-align: right;\">      7</td><td style=\"text-align: right;\">         1</td><td style=\"text-align: right;\">          0</td><td style=\"text-align: right;\">            0</td><td style=\"text-align: right;\">              1</td><td style=\"text-align: right;\">           1</td><td>0          </td><td>Y       </td><td style=\"text-align: right;\">             144500</td><td style=\"text-align: right;\">             0</td><td style=\"text-align: right;\">  144500</td><td style=\"text-align: right;\">    122825</td><td style=\"text-align: right;\">           0</td></tr>\n",
       "<tr><td style=\"text-align: right;\">      4</td><td>JOPLIN       </td><td>MO     </td><td style=\"text-align: right;\">64804</td><td>U.S. BANK NATIONAL ASSOCIATION</td><td>OH         </td><td style=\"text-align: right;\">      0</td><td style=\"text-align: right;\">      2</td><td style=\"text-align: right;\">         2</td><td style=\"text-align: right;\">          0</td><td style=\"text-align: right;\">            0</td><td style=\"text-align: right;\">              1</td><td style=\"text-align: right;\">           0</td><td>N          </td><td>Y       </td><td style=\"text-align: right;\">              52500</td><td style=\"text-align: right;\">             0</td><td style=\"text-align: right;\">   52500</td><td style=\"text-align: right;\">     42000</td><td style=\"text-align: right;\">           0</td></tr>\n",
       "<tr><td style=\"text-align: right;\">      5</td><td>NEWTOWN      </td><td>OH     </td><td style=\"text-align: right;\">45244</td><td>HAMILTON CNTY DEVEL COMPANY IN</td><td>OH         </td><td style=\"text-align: right;\"> 234110</td><td style=\"text-align: right;\">      5</td><td style=\"text-align: right;\">         1</td><td style=\"text-align: right;\">          2</td><td style=\"text-align: right;\">            0</td><td style=\"text-align: right;\">              1</td><td style=\"text-align: right;\">           0</td><td>N          </td><td>N       </td><td style=\"text-align: right;\">              52000</td><td style=\"text-align: right;\">             0</td><td style=\"text-align: right;\">   52000</td><td style=\"text-align: right;\">     52000</td><td style=\"text-align: right;\">           0</td></tr>\n",
       "<tr><td style=\"text-align: right;\">      6</td><td>MISSION VIEJO</td><td>CA     </td><td style=\"text-align: right;\">92691</td><td>BANK OF AMERICA CALIFORNIA N.A</td><td>CA         </td><td style=\"text-align: right;\"> 445310</td><td style=\"text-align: right;\">      3</td><td style=\"text-align: right;\">         1</td><td style=\"text-align: right;\">          0</td><td style=\"text-align: right;\">            0</td><td style=\"text-align: right;\">              1</td><td style=\"text-align: right;\">           0</td><td>Y          </td><td>N       </td><td style=\"text-align: right;\">              50000</td><td style=\"text-align: right;\">             0</td><td style=\"text-align: right;\">   50000</td><td style=\"text-align: right;\">     25000</td><td style=\"text-align: right;\">           0</td></tr>\n",
       "<tr><td style=\"text-align: right;\">      7</td><td>OSWEGO       </td><td>IL     </td><td style=\"text-align: right;\">60543</td><td>JPMORGAN CHASE BANK NATL ASSOC</td><td>IL         </td><td style=\"text-align: right;\"> 812990</td><td style=\"text-align: right;\">      1</td><td style=\"text-align: right;\">         1</td><td style=\"text-align: right;\">          2</td><td style=\"text-align: right;\">            1</td><td style=\"text-align: right;\">              0</td><td style=\"text-align: right;\">           1</td><td>Y          </td><td>N       </td><td style=\"text-align: right;\">              38619</td><td style=\"text-align: right;\">             0</td><td style=\"text-align: right;\">   25000</td><td style=\"text-align: right;\">     12500</td><td style=\"text-align: right;\">           1</td></tr>\n",
       "<tr><td style=\"text-align: right;\">      8</td><td>DECATUR      </td><td>GA     </td><td style=\"text-align: right;\">30033</td><td>WELLS FARGO BANK NATL ASSOC   </td><td>SD         </td><td style=\"text-align: right;\"> 561421</td><td style=\"text-align: right;\">     10</td><td style=\"text-align: right;\">         1</td><td style=\"text-align: right;\">          1</td><td style=\"text-align: right;\">           11</td><td style=\"text-align: right;\">              1</td><td style=\"text-align: right;\">           1</td><td>Y          </td><td>N       </td><td style=\"text-align: right;\">              32714</td><td style=\"text-align: right;\">             0</td><td style=\"text-align: right;\">   20000</td><td style=\"text-align: right;\">     10000</td><td style=\"text-align: right;\">           1</td></tr>\n",
       "<tr><td style=\"text-align: right;\">      9</td><td>ROLLING HILLS</td><td>CA     </td><td style=\"text-align: right;\">90274</td><td>BANC OF CALIFORNIA NATL ASSOC </td><td>CA         </td><td style=\"text-align: right;\"> 541512</td><td style=\"text-align: right;\">      4</td><td style=\"text-align: right;\">         1</td><td style=\"text-align: right;\">          4</td><td style=\"text-align: right;\">            4</td><td style=\"text-align: right;\">              1</td><td style=\"text-align: right;\">           1</td><td>Y          </td><td>N       </td><td style=\"text-align: right;\">              90055</td><td style=\"text-align: right;\">             0</td><td style=\"text-align: right;\">   50000</td><td style=\"text-align: right;\">     25000</td><td style=\"text-align: right;\">           0</td></tr>\n",
       "</tbody>\n",
       "</table><pre style='font-size: smaller; margin-bottom: 1em;'>[809247 rows x 20 columns]</pre>"
      ],
      "text/plain": [
       "  index  City           State      Zip  Bank                            BankState      NAICS    NoEmp    NewExist    CreateJob    RetainedJob    FranchiseCode    UrbanRural  RevLineCr    LowDoc      DisbursementGross    BalanceGross    GrAppv    SBA_Appv    MIS_Status\n",
       "-------  -------------  -------  -----  ------------------------------  -----------  -------  -------  ----------  -----------  -------------  ---------------  ------------  -----------  --------  -------------------  --------------  --------  ----------  ------------\n",
       "      0  GLEN BURNIE    MD       21060  BUSINESS FINANCE GROUP, INC.    VA            811111        7           1            6              7                1             1  0            N                      743000               0    743000      743000             0\n",
       "      1  WEST BEND      WI       53095  JPMORGAN CHASE BANK NATL ASSOC  IL            722410       20           1            0              0                1             0  N            N                      137000               0    137000      109737             0\n",
       "      2  SAN DIEGO      CA       92128  UMPQUA BANK                     OR                 0        2           1            0              0                1             0  0            N                      280000               0    280000      210000             0\n",
       "      3  WEBSTER        MA        1570  HOMETOWN BANK A CO-OPERATIVE B  MA            621310        7           1            0              0                1             1  0            Y                      144500               0    144500      122825             0\n",
       "      4  JOPLIN         MO       64804  U.S. BANK NATIONAL ASSOCIATION  OH                 0        2           2            0              0                1             0  N            Y                       52500               0     52500       42000             0\n",
       "      5  NEWTOWN        OH       45244  HAMILTON CNTY DEVEL COMPANY IN  OH            234110        5           1            2              0                1             0  N            N                       52000               0     52000       52000             0\n",
       "      6  MISSION VIEJO  CA       92691  BANK OF AMERICA CALIFORNIA N.A  CA            445310        3           1            0              0                1             0  Y            N                       50000               0     50000       25000             0\n",
       "      7  OSWEGO         IL       60543  JPMORGAN CHASE BANK NATL ASSOC  IL            812990        1           1            2              1                0             1  Y            N                       38619               0     25000       12500             1\n",
       "      8  DECATUR        GA       30033  WELLS FARGO BANK NATL ASSOC     SD            561421       10           1            1             11                1             1  Y            N                       32714               0     20000       10000             1\n",
       "      9  ROLLING HILLS  CA       90274  BANC OF CALIFORNIA NATL ASSOC   CA            541512        4           1            4              4                1             1  Y            N                       90055               0     50000       25000             0\n",
       "[809247 rows x 20 columns]\n"
      ]
     },
     "execution_count": 3,
     "metadata": {},
     "output_type": "execute_result"
    }
   ],
   "source": [
    "data"
   ]
  },
  {
   "cell_type": "code",
   "execution_count": 4,
   "id": "4f77dd61",
   "metadata": {},
   "outputs": [
    {
     "data": {
      "text/plain": [
       "[809247, 20]"
      ]
     },
     "execution_count": 4,
     "metadata": {},
     "output_type": "execute_result"
    }
   ],
   "source": [
    "data.dim"
   ]
  },
  {
   "cell_type": "code",
   "execution_count": 5,
   "id": "1c9aeb03",
   "metadata": {},
   "outputs": [
    {
     "data": {
      "text/html": [
       "<pre style='margin: 1em 0 1em 0;'>Rows:809247\n",
       "Cols:20\n",
       "</pre>"
      ],
      "text/plain": [
       "Rows:809247\n",
       "Cols:20\n"
      ]
     },
     "metadata": {},
     "output_type": "display_data"
    },
    {
     "data": {
      "text/html": [
       "<table class='dataframe'>\n",
       "<thead>\n",
       "<tr><th>       </th><th>index             </th><th>City         </th><th>State  </th><th>Zip              </th><th>Bank                          </th><th>BankState  </th><th>NAICS             </th><th>NoEmp             </th><th>NewExist           </th><th>CreateJob         </th><th>RetainedJob       </th><th>FranchiseCode     </th><th>UrbanRural        </th><th>RevLineCr  </th><th>LowDoc  </th><th>DisbursementGross  </th><th>BalanceGross      </th><th>GrAppv            </th><th>SBA_Appv          </th><th>MIS_Status         </th></tr>\n",
       "</thead>\n",
       "<tbody>\n",
       "<tr><td>type   </td><td>int               </td><td>enum         </td><td>enum   </td><td>int              </td><td>enum                          </td><td>enum       </td><td>int               </td><td>int               </td><td>int                </td><td>int               </td><td>int               </td><td>int               </td><td>int               </td><td>enum       </td><td>enum    </td><td>int                </td><td>int               </td><td>int               </td><td>int               </td><td>int                </td></tr>\n",
       "<tr><td>mins   </td><td>0.0               </td><td>             </td><td>       </td><td>0.0              </td><td>                              </td><td>           </td><td>0.0               </td><td>0.0               </td><td>0.0                </td><td>0.0               </td><td>0.0               </td><td>0.0               </td><td>0.0               </td><td>           </td><td>        </td><td>0.0                </td><td>0.0               </td><td>200.0             </td><td>100.0             </td><td>0.0                </td></tr>\n",
       "<tr><td>mean   </td><td>404623.0          </td><td>             </td><td>       </td><td>53800.9370044004 </td><td>                              </td><td>           </td><td>398573.7836099488 </td><td>11.414083709917984</td><td>1.2802764488289113 </td><td>8.415865613341783 </td><td>10.773365857395833</td><td>2751.93917555456  </td><td>0.7577476345293829</td><td>           </td><td>        </td><td>201194.3958816036  </td><td>3.1859951288049255</td><td>192717.89713153083</td><td>149528.1544176252 </td><td>0.17528517251222434</td></tr>\n",
       "<tr><td>maxs   </td><td>809246.0          </td><td>             </td><td>       </td><td>99999.0          </td><td>                              </td><td>           </td><td>928120.0          </td><td>9999.0            </td><td>2.0                </td><td>8800.0            </td><td>9500.0            </td><td>99999.0           </td><td>2.0               </td><td>           </td><td>        </td><td>11446325.0         </td><td>996262.0          </td><td>5472000.0         </td><td>5472000.0         </td><td>1.0                </td></tr>\n",
       "<tr><td>sigma  </td><td>233609.63098297126</td><td>             </td><td>       </td><td>31186.36710873629</td><td>                              </td><td>           </td><td>263354.97981331375</td><td>74.52942885131719 </td><td>0.45169187889462253</td><td>236.28834837455483</td><td>236.61205316253333</td><td>12758.411810115618</td><td>0.6463471493041519</td><td>           </td><td>        </td><td>287848.92292755377 </td><td>1516.284729590831 </td><td>283166.5956093533 </td><td>228332.17708348396</td><td>0.38021107222877165</td></tr>\n",
       "<tr><td>zeros  </td><td>1                 </td><td>             </td><td>       </td><td>262              </td><td>                              </td><td>           </td><td>181845            </td><td>5937              </td><td>932                </td><td>566148            </td><td>396287            </td><td>187961            </td><td>290804            </td><td>           </td><td>        </td><td>169                </td><td>809235            </td><td>0                 </td><td>0                 </td><td>667398             </td></tr>\n",
       "<tr><td>missing</td><td>0                 </td><td>25           </td><td>12     </td><td>0                </td><td>1405                          </td><td>1411       </td><td>0                 </td><td>0                 </td><td>128                </td><td>0                 </td><td>0                 </td><td>0                 </td><td>0                 </td><td>4094       </td><td>3662    </td><td>0                  </td><td>0                 </td><td>0                 </td><td>0                 </td><td>0                  </td></tr>\n",
       "<tr><td>0      </td><td>0.0               </td><td>GLEN BURNIE  </td><td>MD     </td><td>21060.0          </td><td>BUSINESS FINANCE GROUP, INC.  </td><td>VA         </td><td>811111.0          </td><td>7.0               </td><td>1.0                </td><td>6.0               </td><td>7.0               </td><td>1.0               </td><td>1.0               </td><td>0          </td><td>N       </td><td>743000.0           </td><td>0.0               </td><td>743000.0          </td><td>743000.0          </td><td>0.0                </td></tr>\n",
       "<tr><td>1      </td><td>1.0               </td><td>WEST BEND    </td><td>WI     </td><td>53095.0          </td><td>JPMORGAN CHASE BANK NATL ASSOC</td><td>IL         </td><td>722410.0          </td><td>20.0              </td><td>1.0                </td><td>0.0               </td><td>0.0               </td><td>1.0               </td><td>0.0               </td><td>N          </td><td>N       </td><td>137000.0           </td><td>0.0               </td><td>137000.0          </td><td>109737.0          </td><td>0.0                </td></tr>\n",
       "<tr><td>2      </td><td>2.0               </td><td>SAN DIEGO    </td><td>CA     </td><td>92128.0          </td><td>UMPQUA BANK                   </td><td>OR         </td><td>0.0               </td><td>2.0               </td><td>1.0                </td><td>0.0               </td><td>0.0               </td><td>1.0               </td><td>0.0               </td><td>0          </td><td>N       </td><td>280000.0           </td><td>0.0               </td><td>280000.0          </td><td>210000.0          </td><td>0.0                </td></tr>\n",
       "<tr><td>3      </td><td>3.0               </td><td>WEBSTER      </td><td>MA     </td><td>1570.0           </td><td>HOMETOWN BANK A CO-OPERATIVE B</td><td>MA         </td><td>621310.0          </td><td>7.0               </td><td>1.0                </td><td>0.0               </td><td>0.0               </td><td>1.0               </td><td>1.0               </td><td>0          </td><td>Y       </td><td>144500.0           </td><td>0.0               </td><td>144500.0          </td><td>122825.0          </td><td>0.0                </td></tr>\n",
       "<tr><td>4      </td><td>4.0               </td><td>JOPLIN       </td><td>MO     </td><td>64804.0          </td><td>U.S. BANK NATIONAL ASSOCIATION</td><td>OH         </td><td>0.0               </td><td>2.0               </td><td>2.0                </td><td>0.0               </td><td>0.0               </td><td>1.0               </td><td>0.0               </td><td>N          </td><td>Y       </td><td>52500.0            </td><td>0.0               </td><td>52500.0           </td><td>42000.0           </td><td>0.0                </td></tr>\n",
       "<tr><td>5      </td><td>5.0               </td><td>NEWTOWN      </td><td>OH     </td><td>45244.0          </td><td>HAMILTON CNTY DEVEL COMPANY IN</td><td>OH         </td><td>234110.0          </td><td>5.0               </td><td>1.0                </td><td>2.0               </td><td>0.0               </td><td>1.0               </td><td>0.0               </td><td>N          </td><td>N       </td><td>52000.0            </td><td>0.0               </td><td>52000.0           </td><td>52000.0           </td><td>0.0                </td></tr>\n",
       "<tr><td>6      </td><td>6.0               </td><td>MISSION VIEJO</td><td>CA     </td><td>92691.0          </td><td>BANK OF AMERICA CALIFORNIA N.A</td><td>CA         </td><td>445310.0          </td><td>3.0               </td><td>1.0                </td><td>0.0               </td><td>0.0               </td><td>1.0               </td><td>0.0               </td><td>Y          </td><td>N       </td><td>50000.0            </td><td>0.0               </td><td>50000.0           </td><td>25000.0           </td><td>0.0                </td></tr>\n",
       "<tr><td>7      </td><td>7.0               </td><td>OSWEGO       </td><td>IL     </td><td>60543.0          </td><td>JPMORGAN CHASE BANK NATL ASSOC</td><td>IL         </td><td>812990.0          </td><td>1.0               </td><td>1.0                </td><td>2.0               </td><td>1.0               </td><td>0.0               </td><td>1.0               </td><td>Y          </td><td>N       </td><td>38619.0            </td><td>0.0               </td><td>25000.0           </td><td>12500.0           </td><td>1.0                </td></tr>\n",
       "<tr><td>8      </td><td>8.0               </td><td>DECATUR      </td><td>GA     </td><td>30033.0          </td><td>WELLS FARGO BANK NATL ASSOC   </td><td>SD         </td><td>561421.0          </td><td>10.0              </td><td>1.0                </td><td>1.0               </td><td>11.0              </td><td>1.0               </td><td>1.0               </td><td>Y          </td><td>N       </td><td>32714.0            </td><td>0.0               </td><td>20000.0           </td><td>10000.0           </td><td>1.0                </td></tr>\n",
       "<tr><td>9      </td><td>9.0               </td><td>ROLLING HILLS</td><td>CA     </td><td>90274.0          </td><td>BANC OF CALIFORNIA NATL ASSOC </td><td>CA         </td><td>541512.0          </td><td>4.0               </td><td>1.0                </td><td>4.0               </td><td>4.0               </td><td>1.0               </td><td>1.0               </td><td>Y          </td><td>N       </td><td>90055.0            </td><td>0.0               </td><td>50000.0           </td><td>25000.0           </td><td>0.0                </td></tr>\n",
       "</tbody>\n",
       "</table><pre style='font-size: smaller; margin-bottom: 1em;'>[809247 rows x 20 columns]</pre>"
      ],
      "text/plain": [
       "         index               City           State    Zip                Bank                            BankState    NAICS               NoEmp               NewExist             CreateJob           RetainedJob         FranchiseCode       UrbanRural          RevLineCr    LowDoc    DisbursementGross    BalanceGross        GrAppv              SBA_Appv            MIS_Status\n",
       "-------  ------------------  -------------  -------  -----------------  ------------------------------  -----------  ------------------  ------------------  -------------------  ------------------  ------------------  ------------------  ------------------  -----------  --------  -------------------  ------------------  ------------------  ------------------  -------------------\n",
       "type     int                 enum           enum     int                enum                            enum         int                 int                 int                  int                 int                 int                 int                 enum         enum      int                  int                 int                 int                 int\n",
       "mins     0.0                                         0.0                                                             0.0                 0.0                 0.0                  0.0                 0.0                 0.0                 0.0                                        0.0                  0.0                 200.0               100.0               0.0\n",
       "mean     404623.0                                    53800.9370044004                                                398573.7836099488   11.414083709917984  1.2802764488289113   8.415865613341783   10.773365857395833  2751.93917555456    0.7577476345293829                         201194.3958816036    3.1859951288049255  192717.89713153083  149528.1544176252   0.17528517251222434\n",
       "maxs     809246.0                                    99999.0                                                         928120.0            9999.0              2.0                  8800.0              9500.0              99999.0             2.0                                        11446325.0           996262.0            5472000.0           5472000.0           1.0\n",
       "sigma    233609.63098297126                          31186.36710873629                                               263354.97981331375  74.52942885131719   0.45169187889462253  236.28834837455483  236.61205316253333  12758.411810115618  0.6463471493041519                         287848.92292755377   1516.284729590831   283166.5956093533   228332.17708348396  0.38021107222877165\n",
       "zeros    1                                           262                                                             181845              5937                932                  566148              396287              187961              290804                                     169                  809235              0                   0                   667398\n",
       "missing  0                   25             12       0                  1405                            1411         0                   0                   128                  0                   0                   0                   0                   4094         3662      0                    0                   0                   0                   0\n",
       "0        0.0                 GLEN BURNIE    MD       21060.0            BUSINESS FINANCE GROUP, INC.    VA           811111.0            7.0                 1.0                  6.0                 7.0                 1.0                 1.0                 0            N         743000.0             0.0                 743000.0            743000.0            0.0\n",
       "1        1.0                 WEST BEND      WI       53095.0            JPMORGAN CHASE BANK NATL ASSOC  IL           722410.0            20.0                1.0                  0.0                 0.0                 1.0                 0.0                 N            N         137000.0             0.0                 137000.0            109737.0            0.0\n",
       "2        2.0                 SAN DIEGO      CA       92128.0            UMPQUA BANK                     OR           0.0                 2.0                 1.0                  0.0                 0.0                 1.0                 0.0                 0            N         280000.0             0.0                 280000.0            210000.0            0.0\n",
       "3        3.0                 WEBSTER        MA       1570.0             HOMETOWN BANK A CO-OPERATIVE B  MA           621310.0            7.0                 1.0                  0.0                 0.0                 1.0                 1.0                 0            Y         144500.0             0.0                 144500.0            122825.0            0.0\n",
       "4        4.0                 JOPLIN         MO       64804.0            U.S. BANK NATIONAL ASSOCIATION  OH           0.0                 2.0                 2.0                  0.0                 0.0                 1.0                 0.0                 N            Y         52500.0              0.0                 52500.0             42000.0             0.0\n",
       "5        5.0                 NEWTOWN        OH       45244.0            HAMILTON CNTY DEVEL COMPANY IN  OH           234110.0            5.0                 1.0                  2.0                 0.0                 1.0                 0.0                 N            N         52000.0              0.0                 52000.0             52000.0             0.0\n",
       "6        6.0                 MISSION VIEJO  CA       92691.0            BANK OF AMERICA CALIFORNIA N.A  CA           445310.0            3.0                 1.0                  0.0                 0.0                 1.0                 0.0                 Y            N         50000.0              0.0                 50000.0             25000.0             0.0\n",
       "7        7.0                 OSWEGO         IL       60543.0            JPMORGAN CHASE BANK NATL ASSOC  IL           812990.0            1.0                 1.0                  2.0                 1.0                 0.0                 1.0                 Y            N         38619.0              0.0                 25000.0             12500.0             1.0\n",
       "8        8.0                 DECATUR        GA       30033.0            WELLS FARGO BANK NATL ASSOC     SD           561421.0            10.0                1.0                  1.0                 11.0                1.0                 1.0                 Y            N         32714.0              0.0                 20000.0             10000.0             1.0\n",
       "9        9.0                 ROLLING HILLS  CA       90274.0            BANC OF CALIFORNIA NATL ASSOC   CA           541512.0            4.0                 1.0                  4.0                 4.0                 1.0                 1.0                 Y            N         90055.0              0.0                 50000.0             25000.0             0.0\n",
       "[809247 rows x 20 columns]\n"
      ]
     },
     "metadata": {},
     "output_type": "display_data"
    }
   ],
   "source": [
    "data.describe()"
   ]
  },
  {
   "cell_type": "markdown",
   "id": "4dd9bb1a",
   "metadata": {},
   "source": [
    "## \n",
    "\n",
    "We have the following columns missing\n",
    "- City\n",
    "- State\n",
    "- Bank\n",
    "- BankState\n",
    "- NewExist\n",
    "- RevLineCr\n",
    "- LowDoc"
   ]
  },
  {
   "cell_type": "code",
   "execution_count": 6,
   "id": "ac5e502d",
   "metadata": {},
   "outputs": [
    {
     "data": {
      "text/plain": [
       "['index',\n",
       " 'City',\n",
       " 'State',\n",
       " 'Zip',\n",
       " 'Bank',\n",
       " 'BankState',\n",
       " 'NAICS',\n",
       " 'NoEmp',\n",
       " 'NewExist',\n",
       " 'CreateJob',\n",
       " 'RetainedJob',\n",
       " 'FranchiseCode',\n",
       " 'UrbanRural',\n",
       " 'RevLineCr',\n",
       " 'LowDoc',\n",
       " 'DisbursementGross',\n",
       " 'BalanceGross',\n",
       " 'GrAppv',\n",
       " 'SBA_Appv',\n",
       " 'MIS_Status']"
      ]
     },
     "execution_count": 6,
     "metadata": {},
     "output_type": "execute_result"
    }
   ],
   "source": [
    "'''All Dataframe columns '''\n",
    "data.columns"
   ]
  },
  {
   "cell_type": "code",
   "execution_count": 7,
   "id": "0045a51e",
   "metadata": {},
   "outputs": [
    {
     "data": {
      "text/plain": [
       "[1.0, 2.0, 4.0, 5.0, 13.0, 14.0]"
      ]
     },
     "execution_count": 7,
     "metadata": {},
     "output_type": "execute_result"
    }
   ],
   "source": [
    "data.columns_by_type(coltype=\"categorical\")"
   ]
  },
  {
   "cell_type": "code",
   "execution_count": 8,
   "id": "021ed737",
   "metadata": {},
   "outputs": [],
   "source": [
    "num_col = data.columns_by_type(coltype=\"numeric\")\n",
    "str_col = data.columns_by_type(coltype=\"string\")\n",
    "enum_col = data.columns_by_type(coltype=\"categorical\")\n",
    "all_columns = data.columns"
   ]
  },
  {
   "cell_type": "code",
   "execution_count": 9,
   "id": "1169269d",
   "metadata": {},
   "outputs": [
    {
     "data": {
      "text/plain": [
       "[1.0, 2.0, 4.0, 5.0, 13.0, 14.0]"
      ]
     },
     "execution_count": 9,
     "metadata": {},
     "output_type": "execute_result"
    }
   ],
   "source": [
    "# str_col contains indexes to the categorical and string columns\n",
    "enum_col"
   ]
  },
  {
   "cell_type": "markdown",
   "id": "dd09bc9c",
   "metadata": {},
   "source": [
    "Checking for NA/NULL values and replacing with 0 in Numerical features and \"Unknown\" in Categorical features"
   ]
  },
  {
   "cell_type": "code",
   "execution_count": 10,
   "id": "1ea46966",
   "metadata": {},
   "outputs": [
    {
     "name": "stdout",
     "output_type": "stream",
     "text": [
      "Fillna for numerical column:... index\n",
      "Fillna for categorical column:... City\n"
     ]
    },
    {
     "name": "stdout",
     "output_type": "stream",
     "text": [
      "Fillna for categorical column:... State\n",
      "Fillna for numerical column:... Zip\n",
      "Fillna for categorical column:... Bank\n",
      "Fillna for categorical column:... BankState\n",
      "Fillna for numerical column:... NAICS\n",
      "Fillna for numerical column:... NoEmp\n",
      "Fillna for numerical column:... NewExist\n",
      "Fillna for numerical column:... CreateJob\n",
      "Fillna for numerical column:... RetainedJob\n",
      "Fillna for numerical column:... FranchiseCode\n",
      "Fillna for numerical column:... UrbanRural\n",
      "Fillna for categorical column:... RevLineCr\n",
      "Fillna for categorical column:... LowDoc\n",
      "Fillna for numerical column:... DisbursementGross\n",
      "Fillna for numerical column:... BalanceGross\n",
      "Fillna for numerical column:... GrAppv\n",
      "Fillna for numerical column:... SBA_Appv\n",
      "Fillna for numerical column:... MIS_Status\n"
     ]
    }
   ],
   "source": [
    "num_col = data.columns_by_type(coltype=\"numeric\")\n",
    "str_col = data.columns_by_type(coltype=\"string\")\n",
    "enum_col = data.columns_by_type(coltype=\"categorical\")\n",
    "all_columns = data.columns\n",
    "\n",
    "for col in all_columns:\n",
    "    if all_columns.index(col)*1.0 in num_col:\n",
    "        print(\"Fillna for numerical column:...\", col)\n",
    "        filled = data[col].fillna(method=\"forward\",axis=0,maxlen=1)\n",
    "        data[col] = filled\n",
    "        '''Alternative way '''\n",
    "        #df_h[df_h[col].isna(), col] = 0\n",
    "    elif all_columns.index(col)*1.0 in enum_col:\n",
    "        print(\"Fillna for categorical column:...\", col)\n",
    "        data[col] = data[col].ascharacter()\n",
    "        data[data[col].isna(), col] = \"Unknown\"\n",
    "        data[col] = data[col].asfactor()\n",
    "    elif all_columns.index(col)*1.0 in str_col:\n",
    "        print(\"Fillna for string column:...\", col)\n",
    "        data[data[col].isna(), col] = \"Unknown\""
   ]
  },
  {
   "cell_type": "code",
   "execution_count": 11,
   "id": "8702d659",
   "metadata": {},
   "outputs": [
    {
     "data": {
      "text/html": [
       "<pre style='margin: 1em 0 1em 0;'>Rows:809247\n",
       "Cols:20\n",
       "</pre>"
      ],
      "text/plain": [
       "Rows:809247\n",
       "Cols:20\n"
      ]
     },
     "metadata": {},
     "output_type": "display_data"
    },
    {
     "data": {
      "text/html": [
       "<table class='dataframe'>\n",
       "<thead>\n",
       "<tr><th>       </th><th>index             </th><th>City         </th><th>State  </th><th>Zip              </th><th>Bank                          </th><th>BankState  </th><th>NAICS             </th><th>NoEmp             </th><th>NewExist          </th><th>CreateJob         </th><th>RetainedJob       </th><th>FranchiseCode     </th><th>UrbanRural        </th><th>RevLineCr  </th><th>LowDoc  </th><th>DisbursementGross  </th><th>BalanceGross      </th><th>GrAppv            </th><th>SBA_Appv          </th><th>MIS_Status         </th></tr>\n",
       "</thead>\n",
       "<tbody>\n",
       "<tr><td>type   </td><td>int               </td><td>enum         </td><td>enum   </td><td>int              </td><td>enum                          </td><td>enum       </td><td>int               </td><td>int               </td><td>int               </td><td>int               </td><td>int               </td><td>int               </td><td>int               </td><td>enum       </td><td>enum    </td><td>int                </td><td>int               </td><td>int               </td><td>int               </td><td>int                </td></tr>\n",
       "<tr><td>mins   </td><td>0.0               </td><td>             </td><td>       </td><td>0.0              </td><td>                              </td><td>           </td><td>0.0               </td><td>0.0               </td><td>0.0               </td><td>0.0               </td><td>0.0               </td><td>0.0               </td><td>0.0               </td><td>           </td><td>        </td><td>0.0                </td><td>0.0               </td><td>200.0             </td><td>100.0             </td><td>0.0                </td></tr>\n",
       "<tr><td>mean   </td><td>404623.0          </td><td>             </td><td>       </td><td>53800.9370044004 </td><td>                              </td><td>           </td><td>398573.7836099488 </td><td>11.414083709917984</td><td>1.2802815456838275</td><td>8.415865613341783 </td><td>10.773365857395833</td><td>2751.93917555456  </td><td>0.7577476345293829</td><td>           </td><td>        </td><td>201194.3958816036  </td><td>3.1859951288049255</td><td>192717.89713153083</td><td>149528.1544176252 </td><td>0.17528517251222434</td></tr>\n",
       "<tr><td>maxs   </td><td>809246.0          </td><td>             </td><td>       </td><td>99999.0          </td><td>                              </td><td>           </td><td>928120.0          </td><td>9999.0            </td><td>2.0               </td><td>8800.0            </td><td>9500.0            </td><td>99999.0           </td><td>2.0               </td><td>           </td><td>        </td><td>11446325.0         </td><td>996262.0          </td><td>5472000.0         </td><td>5472000.0         </td><td>1.0                </td></tr>\n",
       "<tr><td>sigma  </td><td>233609.63098297126</td><td>             </td><td>       </td><td>31186.36710873629</td><td>                              </td><td>           </td><td>263354.97981331375</td><td>74.52942885131719 </td><td>0.4516939548049633</td><td>236.28834837455483</td><td>236.61205316253333</td><td>12758.411810115618</td><td>0.6463471493041519</td><td>           </td><td>        </td><td>287848.92292755377 </td><td>1516.284729590831 </td><td>283166.5956093533 </td><td>228332.17708348396</td><td>0.38021107222877165</td></tr>\n",
       "<tr><td>zeros  </td><td>1                 </td><td>             </td><td>       </td><td>262              </td><td>                              </td><td>           </td><td>181845            </td><td>5937              </td><td>932               </td><td>566148            </td><td>396287            </td><td>187961            </td><td>290804            </td><td>           </td><td>        </td><td>169                </td><td>809235            </td><td>0                 </td><td>0                 </td><td>667398             </td></tr>\n",
       "<tr><td>missing</td><td>0                 </td><td>0            </td><td>0      </td><td>0                </td><td>0                             </td><td>0          </td><td>0                 </td><td>0                 </td><td>0                 </td><td>0                 </td><td>0                 </td><td>0                 </td><td>0                 </td><td>0          </td><td>0       </td><td>0                  </td><td>0                 </td><td>0                 </td><td>0                 </td><td>0                  </td></tr>\n",
       "<tr><td>0      </td><td>0.0               </td><td>GLEN BURNIE  </td><td>MD     </td><td>21060.0          </td><td>BUSINESS FINANCE GROUP, INC.  </td><td>VA         </td><td>811111.0          </td><td>7.0               </td><td>1.0               </td><td>6.0               </td><td>7.0               </td><td>1.0               </td><td>1.0               </td><td>0          </td><td>N       </td><td>743000.0           </td><td>0.0               </td><td>743000.0          </td><td>743000.0          </td><td>0.0                </td></tr>\n",
       "<tr><td>1      </td><td>1.0               </td><td>WEST BEND    </td><td>WI     </td><td>53095.0          </td><td>JPMORGAN CHASE BANK NATL ASSOC</td><td>IL         </td><td>722410.0          </td><td>20.0              </td><td>1.0               </td><td>0.0               </td><td>0.0               </td><td>1.0               </td><td>0.0               </td><td>N          </td><td>N       </td><td>137000.0           </td><td>0.0               </td><td>137000.0          </td><td>109737.0          </td><td>0.0                </td></tr>\n",
       "<tr><td>2      </td><td>2.0               </td><td>SAN DIEGO    </td><td>CA     </td><td>92128.0          </td><td>UMPQUA BANK                   </td><td>OR         </td><td>0.0               </td><td>2.0               </td><td>1.0               </td><td>0.0               </td><td>0.0               </td><td>1.0               </td><td>0.0               </td><td>0          </td><td>N       </td><td>280000.0           </td><td>0.0               </td><td>280000.0          </td><td>210000.0          </td><td>0.0                </td></tr>\n",
       "<tr><td>3      </td><td>3.0               </td><td>WEBSTER      </td><td>MA     </td><td>1570.0           </td><td>HOMETOWN BANK A CO-OPERATIVE B</td><td>MA         </td><td>621310.0          </td><td>7.0               </td><td>1.0               </td><td>0.0               </td><td>0.0               </td><td>1.0               </td><td>1.0               </td><td>0          </td><td>Y       </td><td>144500.0           </td><td>0.0               </td><td>144500.0          </td><td>122825.0          </td><td>0.0                </td></tr>\n",
       "<tr><td>4      </td><td>4.0               </td><td>JOPLIN       </td><td>MO     </td><td>64804.0          </td><td>U.S. BANK NATIONAL ASSOCIATION</td><td>OH         </td><td>0.0               </td><td>2.0               </td><td>2.0               </td><td>0.0               </td><td>0.0               </td><td>1.0               </td><td>0.0               </td><td>N          </td><td>Y       </td><td>52500.0            </td><td>0.0               </td><td>52500.0           </td><td>42000.0           </td><td>0.0                </td></tr>\n",
       "<tr><td>5      </td><td>5.0               </td><td>NEWTOWN      </td><td>OH     </td><td>45244.0          </td><td>HAMILTON CNTY DEVEL COMPANY IN</td><td>OH         </td><td>234110.0          </td><td>5.0               </td><td>1.0               </td><td>2.0               </td><td>0.0               </td><td>1.0               </td><td>0.0               </td><td>N          </td><td>N       </td><td>52000.0            </td><td>0.0               </td><td>52000.0           </td><td>52000.0           </td><td>0.0                </td></tr>\n",
       "<tr><td>6      </td><td>6.0               </td><td>MISSION VIEJO</td><td>CA     </td><td>92691.0          </td><td>BANK OF AMERICA CALIFORNIA N.A</td><td>CA         </td><td>445310.0          </td><td>3.0               </td><td>1.0               </td><td>0.0               </td><td>0.0               </td><td>1.0               </td><td>0.0               </td><td>Y          </td><td>N       </td><td>50000.0            </td><td>0.0               </td><td>50000.0           </td><td>25000.0           </td><td>0.0                </td></tr>\n",
       "<tr><td>7      </td><td>7.0               </td><td>OSWEGO       </td><td>IL     </td><td>60543.0          </td><td>JPMORGAN CHASE BANK NATL ASSOC</td><td>IL         </td><td>812990.0          </td><td>1.0               </td><td>1.0               </td><td>2.0               </td><td>1.0               </td><td>0.0               </td><td>1.0               </td><td>Y          </td><td>N       </td><td>38619.0            </td><td>0.0               </td><td>25000.0           </td><td>12500.0           </td><td>1.0                </td></tr>\n",
       "<tr><td>8      </td><td>8.0               </td><td>DECATUR      </td><td>GA     </td><td>30033.0          </td><td>WELLS FARGO BANK NATL ASSOC   </td><td>SD         </td><td>561421.0          </td><td>10.0              </td><td>1.0               </td><td>1.0               </td><td>11.0              </td><td>1.0               </td><td>1.0               </td><td>Y          </td><td>N       </td><td>32714.0            </td><td>0.0               </td><td>20000.0           </td><td>10000.0           </td><td>1.0                </td></tr>\n",
       "<tr><td>9      </td><td>9.0               </td><td>ROLLING HILLS</td><td>CA     </td><td>90274.0          </td><td>BANC OF CALIFORNIA NATL ASSOC </td><td>CA         </td><td>541512.0          </td><td>4.0               </td><td>1.0               </td><td>4.0               </td><td>4.0               </td><td>1.0               </td><td>1.0               </td><td>Y          </td><td>N       </td><td>90055.0            </td><td>0.0               </td><td>50000.0           </td><td>25000.0           </td><td>0.0                </td></tr>\n",
       "</tbody>\n",
       "</table><pre style='font-size: smaller; margin-bottom: 1em;'>[809247 rows x 20 columns]</pre>"
      ],
      "text/plain": [
       "         index               City           State    Zip                Bank                            BankState    NAICS               NoEmp               NewExist            CreateJob           RetainedJob         FranchiseCode       UrbanRural          RevLineCr    LowDoc    DisbursementGross    BalanceGross        GrAppv              SBA_Appv            MIS_Status\n",
       "-------  ------------------  -------------  -------  -----------------  ------------------------------  -----------  ------------------  ------------------  ------------------  ------------------  ------------------  ------------------  ------------------  -----------  --------  -------------------  ------------------  ------------------  ------------------  -------------------\n",
       "type     int                 enum           enum     int                enum                            enum         int                 int                 int                 int                 int                 int                 int                 enum         enum      int                  int                 int                 int                 int\n",
       "mins     0.0                                         0.0                                                             0.0                 0.0                 0.0                 0.0                 0.0                 0.0                 0.0                                        0.0                  0.0                 200.0               100.0               0.0\n",
       "mean     404623.0                                    53800.9370044004                                                398573.7836099488   11.414083709917984  1.2802815456838275  8.415865613341783   10.773365857395833  2751.93917555456    0.7577476345293829                         201194.3958816036    3.1859951288049255  192717.89713153083  149528.1544176252   0.17528517251222434\n",
       "maxs     809246.0                                    99999.0                                                         928120.0            9999.0              2.0                 8800.0              9500.0              99999.0             2.0                                        11446325.0           996262.0            5472000.0           5472000.0           1.0\n",
       "sigma    233609.63098297126                          31186.36710873629                                               263354.97981331375  74.52942885131719   0.4516939548049633  236.28834837455483  236.61205316253333  12758.411810115618  0.6463471493041519                         287848.92292755377   1516.284729590831   283166.5956093533   228332.17708348396  0.38021107222877165\n",
       "zeros    1                                           262                                                             181845              5937                932                 566148              396287              187961              290804                                     169                  809235              0                   0                   667398\n",
       "missing  0                   0              0        0                  0                               0            0                   0                   0                   0                   0                   0                   0                   0            0         0                    0                   0                   0                   0\n",
       "0        0.0                 GLEN BURNIE    MD       21060.0            BUSINESS FINANCE GROUP, INC.    VA           811111.0            7.0                 1.0                 6.0                 7.0                 1.0                 1.0                 0            N         743000.0             0.0                 743000.0            743000.0            0.0\n",
       "1        1.0                 WEST BEND      WI       53095.0            JPMORGAN CHASE BANK NATL ASSOC  IL           722410.0            20.0                1.0                 0.0                 0.0                 1.0                 0.0                 N            N         137000.0             0.0                 137000.0            109737.0            0.0\n",
       "2        2.0                 SAN DIEGO      CA       92128.0            UMPQUA BANK                     OR           0.0                 2.0                 1.0                 0.0                 0.0                 1.0                 0.0                 0            N         280000.0             0.0                 280000.0            210000.0            0.0\n",
       "3        3.0                 WEBSTER        MA       1570.0             HOMETOWN BANK A CO-OPERATIVE B  MA           621310.0            7.0                 1.0                 0.0                 0.0                 1.0                 1.0                 0            Y         144500.0             0.0                 144500.0            122825.0            0.0\n",
       "4        4.0                 JOPLIN         MO       64804.0            U.S. BANK NATIONAL ASSOCIATION  OH           0.0                 2.0                 2.0                 0.0                 0.0                 1.0                 0.0                 N            Y         52500.0              0.0                 52500.0             42000.0             0.0\n",
       "5        5.0                 NEWTOWN        OH       45244.0            HAMILTON CNTY DEVEL COMPANY IN  OH           234110.0            5.0                 1.0                 2.0                 0.0                 1.0                 0.0                 N            N         52000.0              0.0                 52000.0             52000.0             0.0\n",
       "6        6.0                 MISSION VIEJO  CA       92691.0            BANK OF AMERICA CALIFORNIA N.A  CA           445310.0            3.0                 1.0                 0.0                 0.0                 1.0                 0.0                 Y            N         50000.0              0.0                 50000.0             25000.0             0.0\n",
       "7        7.0                 OSWEGO         IL       60543.0            JPMORGAN CHASE BANK NATL ASSOC  IL           812990.0            1.0                 1.0                 2.0                 1.0                 0.0                 1.0                 Y            N         38619.0              0.0                 25000.0             12500.0             1.0\n",
       "8        8.0                 DECATUR        GA       30033.0            WELLS FARGO BANK NATL ASSOC     SD           561421.0            10.0                1.0                 1.0                 11.0                1.0                 1.0                 Y            N         32714.0              0.0                 20000.0             10000.0             1.0\n",
       "9        9.0                 ROLLING HILLS  CA       90274.0            BANC OF CALIFORNIA NATL ASSOC   CA           541512.0            4.0                 1.0                 4.0                 4.0                 1.0                 1.0                 Y            N         90055.0              0.0                 50000.0             25000.0             0.0\n",
       "[809247 rows x 20 columns]\n"
      ]
     },
     "metadata": {},
     "output_type": "display_data"
    }
   ],
   "source": [
    "data.describe()    \n",
    "  \n",
    "        \n",
    "    "
   ]
  },
  {
   "cell_type": "code",
   "execution_count": 12,
   "id": "29c7b2b5",
   "metadata": {},
   "outputs": [
    {
     "data": {
      "text/html": [
       "<table class='dataframe'>\n",
       "<thead>\n",
       "<tr><th style=\"text-align: right;\">  MIS_Status</th><th style=\"text-align: right;\">  Count</th></tr>\n",
       "</thead>\n",
       "<tbody>\n",
       "<tr><td style=\"text-align: right;\">           0</td><td style=\"text-align: right;\"> 667398</td></tr>\n",
       "<tr><td style=\"text-align: right;\">           1</td><td style=\"text-align: right;\"> 141849</td></tr>\n",
       "</tbody>\n",
       "</table><pre style='font-size: smaller; margin-bottom: 1em;'>[2 rows x 2 columns]</pre>"
      ],
      "text/plain": [
       "  MIS_Status    Count\n",
       "------------  -------\n",
       "           0   667398\n",
       "           1   141849\n",
       "[2 rows x 2 columns]\n"
      ]
     },
     "execution_count": 12,
     "metadata": {},
     "output_type": "execute_result"
    }
   ],
   "source": [
    "data[\"MIS_Status\"].table()"
   ]
  },
  {
   "cell_type": "code",
   "execution_count": 13,
   "id": "362e0ee7",
   "metadata": {},
   "outputs": [
    {
     "data": {
      "text/html": [
       "<pre style='margin: 1em 0 1em 0;'>Rows:809247\n",
       "Cols:20\n",
       "</pre>"
      ],
      "text/plain": [
       "Rows:809247\n",
       "Cols:20\n"
      ]
     },
     "metadata": {},
     "output_type": "display_data"
    },
    {
     "data": {
      "text/html": [
       "<table class='dataframe'>\n",
       "<thead>\n",
       "<tr><th>       </th><th>index             </th><th>City         </th><th>State  </th><th>Zip              </th><th>Bank                          </th><th>BankState  </th><th>NAICS             </th><th>NoEmp             </th><th>NewExist          </th><th>CreateJob         </th><th>RetainedJob       </th><th>FranchiseCode     </th><th>UrbanRural        </th><th>RevLineCr  </th><th>LowDoc  </th><th>DisbursementGross  </th><th>BalanceGross      </th><th>GrAppv            </th><th>SBA_Appv          </th><th>MIS_Status         </th></tr>\n",
       "</thead>\n",
       "<tbody>\n",
       "<tr><td>type   </td><td>int               </td><td>enum         </td><td>enum   </td><td>int              </td><td>enum                          </td><td>enum       </td><td>int               </td><td>int               </td><td>int               </td><td>int               </td><td>int               </td><td>int               </td><td>int               </td><td>enum       </td><td>enum    </td><td>int                </td><td>int               </td><td>int               </td><td>int               </td><td>int                </td></tr>\n",
       "<tr><td>mins   </td><td>0.0               </td><td>             </td><td>       </td><td>0.0              </td><td>                              </td><td>           </td><td>0.0               </td><td>0.0               </td><td>0.0               </td><td>0.0               </td><td>0.0               </td><td>0.0               </td><td>0.0               </td><td>           </td><td>        </td><td>0.0                </td><td>0.0               </td><td>200.0             </td><td>100.0             </td><td>0.0                </td></tr>\n",
       "<tr><td>mean   </td><td>404623.0          </td><td>             </td><td>       </td><td>53800.9370044004 </td><td>                              </td><td>           </td><td>398573.7836099488 </td><td>11.414083709917984</td><td>1.2802815456838275</td><td>8.415865613341783 </td><td>10.773365857395833</td><td>2751.93917555456  </td><td>0.7577476345293829</td><td>           </td><td>        </td><td>201194.3958816036  </td><td>3.1859951288049255</td><td>192717.89713153083</td><td>149528.1544176252 </td><td>0.17528517251222434</td></tr>\n",
       "<tr><td>maxs   </td><td>809246.0          </td><td>             </td><td>       </td><td>99999.0          </td><td>                              </td><td>           </td><td>928120.0          </td><td>9999.0            </td><td>2.0               </td><td>8800.0            </td><td>9500.0            </td><td>99999.0           </td><td>2.0               </td><td>           </td><td>        </td><td>11446325.0         </td><td>996262.0          </td><td>5472000.0         </td><td>5472000.0         </td><td>1.0                </td></tr>\n",
       "<tr><td>sigma  </td><td>233609.63098297126</td><td>             </td><td>       </td><td>31186.36710873629</td><td>                              </td><td>           </td><td>263354.97981331375</td><td>74.52942885131719 </td><td>0.4516939548049633</td><td>236.28834837455483</td><td>236.61205316253333</td><td>12758.411810115618</td><td>0.6463471493041519</td><td>           </td><td>        </td><td>287848.92292755377 </td><td>1516.284729590831 </td><td>283166.5956093533 </td><td>228332.17708348396</td><td>0.38021107222877165</td></tr>\n",
       "<tr><td>zeros  </td><td>1                 </td><td>             </td><td>       </td><td>262              </td><td>                              </td><td>           </td><td>181845            </td><td>5937              </td><td>932               </td><td>566148            </td><td>396287            </td><td>187961            </td><td>290804            </td><td>           </td><td>        </td><td>169                </td><td>809235            </td><td>0                 </td><td>0                 </td><td>667398             </td></tr>\n",
       "<tr><td>missing</td><td>0                 </td><td>0            </td><td>0      </td><td>0                </td><td>0                             </td><td>0          </td><td>0                 </td><td>0                 </td><td>0                 </td><td>0                 </td><td>0                 </td><td>0                 </td><td>0                 </td><td>0          </td><td>0       </td><td>0                  </td><td>0                 </td><td>0                 </td><td>0                 </td><td>0                  </td></tr>\n",
       "<tr><td>0      </td><td>0.0               </td><td>GLEN BURNIE  </td><td>MD     </td><td>21060.0          </td><td>BUSINESS FINANCE GROUP, INC.  </td><td>VA         </td><td>811111.0          </td><td>7.0               </td><td>1.0               </td><td>6.0               </td><td>7.0               </td><td>1.0               </td><td>1.0               </td><td>0          </td><td>N       </td><td>743000.0           </td><td>0.0               </td><td>743000.0          </td><td>743000.0          </td><td>0.0                </td></tr>\n",
       "<tr><td>1      </td><td>1.0               </td><td>WEST BEND    </td><td>WI     </td><td>53095.0          </td><td>JPMORGAN CHASE BANK NATL ASSOC</td><td>IL         </td><td>722410.0          </td><td>20.0              </td><td>1.0               </td><td>0.0               </td><td>0.0               </td><td>1.0               </td><td>0.0               </td><td>N          </td><td>N       </td><td>137000.0           </td><td>0.0               </td><td>137000.0          </td><td>109737.0          </td><td>0.0                </td></tr>\n",
       "<tr><td>2      </td><td>2.0               </td><td>SAN DIEGO    </td><td>CA     </td><td>92128.0          </td><td>UMPQUA BANK                   </td><td>OR         </td><td>0.0               </td><td>2.0               </td><td>1.0               </td><td>0.0               </td><td>0.0               </td><td>1.0               </td><td>0.0               </td><td>0          </td><td>N       </td><td>280000.0           </td><td>0.0               </td><td>280000.0          </td><td>210000.0          </td><td>0.0                </td></tr>\n",
       "<tr><td>3      </td><td>3.0               </td><td>WEBSTER      </td><td>MA     </td><td>1570.0           </td><td>HOMETOWN BANK A CO-OPERATIVE B</td><td>MA         </td><td>621310.0          </td><td>7.0               </td><td>1.0               </td><td>0.0               </td><td>0.0               </td><td>1.0               </td><td>1.0               </td><td>0          </td><td>Y       </td><td>144500.0           </td><td>0.0               </td><td>144500.0          </td><td>122825.0          </td><td>0.0                </td></tr>\n",
       "<tr><td>4      </td><td>4.0               </td><td>JOPLIN       </td><td>MO     </td><td>64804.0          </td><td>U.S. BANK NATIONAL ASSOCIATION</td><td>OH         </td><td>0.0               </td><td>2.0               </td><td>2.0               </td><td>0.0               </td><td>0.0               </td><td>1.0               </td><td>0.0               </td><td>N          </td><td>Y       </td><td>52500.0            </td><td>0.0               </td><td>52500.0           </td><td>42000.0           </td><td>0.0                </td></tr>\n",
       "<tr><td>5      </td><td>5.0               </td><td>NEWTOWN      </td><td>OH     </td><td>45244.0          </td><td>HAMILTON CNTY DEVEL COMPANY IN</td><td>OH         </td><td>234110.0          </td><td>5.0               </td><td>1.0               </td><td>2.0               </td><td>0.0               </td><td>1.0               </td><td>0.0               </td><td>N          </td><td>N       </td><td>52000.0            </td><td>0.0               </td><td>52000.0           </td><td>52000.0           </td><td>0.0                </td></tr>\n",
       "<tr><td>6      </td><td>6.0               </td><td>MISSION VIEJO</td><td>CA     </td><td>92691.0          </td><td>BANK OF AMERICA CALIFORNIA N.A</td><td>CA         </td><td>445310.0          </td><td>3.0               </td><td>1.0               </td><td>0.0               </td><td>0.0               </td><td>1.0               </td><td>0.0               </td><td>Y          </td><td>N       </td><td>50000.0            </td><td>0.0               </td><td>50000.0           </td><td>25000.0           </td><td>0.0                </td></tr>\n",
       "<tr><td>7      </td><td>7.0               </td><td>OSWEGO       </td><td>IL     </td><td>60543.0          </td><td>JPMORGAN CHASE BANK NATL ASSOC</td><td>IL         </td><td>812990.0          </td><td>1.0               </td><td>1.0               </td><td>2.0               </td><td>1.0               </td><td>0.0               </td><td>1.0               </td><td>Y          </td><td>N       </td><td>38619.0            </td><td>0.0               </td><td>25000.0           </td><td>12500.0           </td><td>1.0                </td></tr>\n",
       "<tr><td>8      </td><td>8.0               </td><td>DECATUR      </td><td>GA     </td><td>30033.0          </td><td>WELLS FARGO BANK NATL ASSOC   </td><td>SD         </td><td>561421.0          </td><td>10.0              </td><td>1.0               </td><td>1.0               </td><td>11.0              </td><td>1.0               </td><td>1.0               </td><td>Y          </td><td>N       </td><td>32714.0            </td><td>0.0               </td><td>20000.0           </td><td>10000.0           </td><td>1.0                </td></tr>\n",
       "<tr><td>9      </td><td>9.0               </td><td>ROLLING HILLS</td><td>CA     </td><td>90274.0          </td><td>BANC OF CALIFORNIA NATL ASSOC </td><td>CA         </td><td>541512.0          </td><td>4.0               </td><td>1.0               </td><td>4.0               </td><td>4.0               </td><td>1.0               </td><td>1.0               </td><td>Y          </td><td>N       </td><td>90055.0            </td><td>0.0               </td><td>50000.0           </td><td>25000.0           </td><td>0.0                </td></tr>\n",
       "</tbody>\n",
       "</table><pre style='font-size: smaller; margin-bottom: 1em;'>[809247 rows x 20 columns]</pre>"
      ],
      "text/plain": [
       "         index               City           State    Zip                Bank                            BankState    NAICS               NoEmp               NewExist            CreateJob           RetainedJob         FranchiseCode       UrbanRural          RevLineCr    LowDoc    DisbursementGross    BalanceGross        GrAppv              SBA_Appv            MIS_Status\n",
       "-------  ------------------  -------------  -------  -----------------  ------------------------------  -----------  ------------------  ------------------  ------------------  ------------------  ------------------  ------------------  ------------------  -----------  --------  -------------------  ------------------  ------------------  ------------------  -------------------\n",
       "type     int                 enum           enum     int                enum                            enum         int                 int                 int                 int                 int                 int                 int                 enum         enum      int                  int                 int                 int                 int\n",
       "mins     0.0                                         0.0                                                             0.0                 0.0                 0.0                 0.0                 0.0                 0.0                 0.0                                        0.0                  0.0                 200.0               100.0               0.0\n",
       "mean     404623.0                                    53800.9370044004                                                398573.7836099488   11.414083709917984  1.2802815456838275  8.415865613341783   10.773365857395833  2751.93917555456    0.7577476345293829                         201194.3958816036    3.1859951288049255  192717.89713153083  149528.1544176252   0.17528517251222434\n",
       "maxs     809246.0                                    99999.0                                                         928120.0            9999.0              2.0                 8800.0              9500.0              99999.0             2.0                                        11446325.0           996262.0            5472000.0           5472000.0           1.0\n",
       "sigma    233609.63098297126                          31186.36710873629                                               263354.97981331375  74.52942885131719   0.4516939548049633  236.28834837455483  236.61205316253333  12758.411810115618  0.6463471493041519                         287848.92292755377   1516.284729590831   283166.5956093533   228332.17708348396  0.38021107222877165\n",
       "zeros    1                                           262                                                             181845              5937                932                 566148              396287              187961              290804                                     169                  809235              0                   0                   667398\n",
       "missing  0                   0              0        0                  0                               0            0                   0                   0                   0                   0                   0                   0                   0            0         0                    0                   0                   0                   0\n",
       "0        0.0                 GLEN BURNIE    MD       21060.0            BUSINESS FINANCE GROUP, INC.    VA           811111.0            7.0                 1.0                 6.0                 7.0                 1.0                 1.0                 0            N         743000.0             0.0                 743000.0            743000.0            0.0\n",
       "1        1.0                 WEST BEND      WI       53095.0            JPMORGAN CHASE BANK NATL ASSOC  IL           722410.0            20.0                1.0                 0.0                 0.0                 1.0                 0.0                 N            N         137000.0             0.0                 137000.0            109737.0            0.0\n",
       "2        2.0                 SAN DIEGO      CA       92128.0            UMPQUA BANK                     OR           0.0                 2.0                 1.0                 0.0                 0.0                 1.0                 0.0                 0            N         280000.0             0.0                 280000.0            210000.0            0.0\n",
       "3        3.0                 WEBSTER        MA       1570.0             HOMETOWN BANK A CO-OPERATIVE B  MA           621310.0            7.0                 1.0                 0.0                 0.0                 1.0                 1.0                 0            Y         144500.0             0.0                 144500.0            122825.0            0.0\n",
       "4        4.0                 JOPLIN         MO       64804.0            U.S. BANK NATIONAL ASSOCIATION  OH           0.0                 2.0                 2.0                 0.0                 0.0                 1.0                 0.0                 N            Y         52500.0              0.0                 52500.0             42000.0             0.0\n",
       "5        5.0                 NEWTOWN        OH       45244.0            HAMILTON CNTY DEVEL COMPANY IN  OH           234110.0            5.0                 1.0                 2.0                 0.0                 1.0                 0.0                 N            N         52000.0              0.0                 52000.0             52000.0             0.0\n",
       "6        6.0                 MISSION VIEJO  CA       92691.0            BANK OF AMERICA CALIFORNIA N.A  CA           445310.0            3.0                 1.0                 0.0                 0.0                 1.0                 0.0                 Y            N         50000.0              0.0                 50000.0             25000.0             0.0\n",
       "7        7.0                 OSWEGO         IL       60543.0            JPMORGAN CHASE BANK NATL ASSOC  IL           812990.0            1.0                 1.0                 2.0                 1.0                 0.0                 1.0                 Y            N         38619.0              0.0                 25000.0             12500.0             1.0\n",
       "8        8.0                 DECATUR        GA       30033.0            WELLS FARGO BANK NATL ASSOC     SD           561421.0            10.0                1.0                 1.0                 11.0                1.0                 1.0                 Y            N         32714.0              0.0                 20000.0             10000.0             1.0\n",
       "9        9.0                 ROLLING HILLS  CA       90274.0            BANC OF CALIFORNIA NATL ASSOC   CA           541512.0            4.0                 1.0                 4.0                 4.0                 1.0                 1.0                 Y            N         90055.0              0.0                 50000.0             25000.0             0.0\n",
       "[809247 rows x 20 columns]\n"
      ]
     },
     "metadata": {},
     "output_type": "display_data"
    }
   ],
   "source": [
    "data.describe()"
   ]
  },
  {
   "cell_type": "code",
   "execution_count": 14,
   "id": "0494201f",
   "metadata": {},
   "outputs": [
    {
     "data": {
      "text/html": [
       "<table class='dataframe'>\n",
       "<thead>\n",
       "<tr><th style=\"text-align: right;\">  index</th><th>City         </th><th>State  </th><th style=\"text-align: right;\">  Zip</th><th>Bank                          </th><th>BankState  </th><th style=\"text-align: right;\">  NAICS</th><th style=\"text-align: right;\">  NoEmp</th><th style=\"text-align: right;\">  NewExist</th><th style=\"text-align: right;\">  CreateJob</th><th style=\"text-align: right;\">  RetainedJob</th><th style=\"text-align: right;\">  FranchiseCode</th><th style=\"text-align: right;\">  UrbanRural</th><th>RevLineCr  </th><th>LowDoc  </th><th style=\"text-align: right;\">  DisbursementGross</th><th style=\"text-align: right;\">  BalanceGross</th><th style=\"text-align: right;\">  GrAppv</th><th style=\"text-align: right;\">  SBA_Appv</th><th style=\"text-align: right;\">  MIS_Status</th></tr>\n",
       "</thead>\n",
       "<tbody>\n",
       "<tr><td style=\"text-align: right;\">      0</td><td>GLEN BURNIE  </td><td>MD     </td><td style=\"text-align: right;\">21060</td><td>BUSINESS FINANCE GROUP, INC.  </td><td>VA         </td><td style=\"text-align: right;\"> 811111</td><td style=\"text-align: right;\">      7</td><td style=\"text-align: right;\">         1</td><td style=\"text-align: right;\">          6</td><td style=\"text-align: right;\">            7</td><td style=\"text-align: right;\">              1</td><td style=\"text-align: right;\">           1</td><td>0          </td><td>N       </td><td style=\"text-align: right;\">             743000</td><td style=\"text-align: right;\">             0</td><td style=\"text-align: right;\">  743000</td><td style=\"text-align: right;\">    743000</td><td style=\"text-align: right;\">           0</td></tr>\n",
       "<tr><td style=\"text-align: right;\">      1</td><td>WEST BEND    </td><td>WI     </td><td style=\"text-align: right;\">53095</td><td>JPMORGAN CHASE BANK NATL ASSOC</td><td>IL         </td><td style=\"text-align: right;\"> 722410</td><td style=\"text-align: right;\">     20</td><td style=\"text-align: right;\">         1</td><td style=\"text-align: right;\">          0</td><td style=\"text-align: right;\">            0</td><td style=\"text-align: right;\">              1</td><td style=\"text-align: right;\">           0</td><td>N          </td><td>N       </td><td style=\"text-align: right;\">             137000</td><td style=\"text-align: right;\">             0</td><td style=\"text-align: right;\">  137000</td><td style=\"text-align: right;\">    109737</td><td style=\"text-align: right;\">           0</td></tr>\n",
       "<tr><td style=\"text-align: right;\">      2</td><td>SAN DIEGO    </td><td>CA     </td><td style=\"text-align: right;\">92128</td><td>UMPQUA BANK                   </td><td>OR         </td><td style=\"text-align: right;\">      0</td><td style=\"text-align: right;\">      2</td><td style=\"text-align: right;\">         1</td><td style=\"text-align: right;\">          0</td><td style=\"text-align: right;\">            0</td><td style=\"text-align: right;\">              1</td><td style=\"text-align: right;\">           0</td><td>0          </td><td>N       </td><td style=\"text-align: right;\">             280000</td><td style=\"text-align: right;\">             0</td><td style=\"text-align: right;\">  280000</td><td style=\"text-align: right;\">    210000</td><td style=\"text-align: right;\">           0</td></tr>\n",
       "<tr><td style=\"text-align: right;\">      3</td><td>WEBSTER      </td><td>MA     </td><td style=\"text-align: right;\"> 1570</td><td>HOMETOWN BANK A CO-OPERATIVE B</td><td>MA         </td><td style=\"text-align: right;\"> 621310</td><td style=\"text-align: right;\">      7</td><td style=\"text-align: right;\">         1</td><td style=\"text-align: right;\">          0</td><td style=\"text-align: right;\">            0</td><td style=\"text-align: right;\">              1</td><td style=\"text-align: right;\">           1</td><td>0          </td><td>Y       </td><td style=\"text-align: right;\">             144500</td><td style=\"text-align: right;\">             0</td><td style=\"text-align: right;\">  144500</td><td style=\"text-align: right;\">    122825</td><td style=\"text-align: right;\">           0</td></tr>\n",
       "<tr><td style=\"text-align: right;\">      4</td><td>JOPLIN       </td><td>MO     </td><td style=\"text-align: right;\">64804</td><td>U.S. BANK NATIONAL ASSOCIATION</td><td>OH         </td><td style=\"text-align: right;\">      0</td><td style=\"text-align: right;\">      2</td><td style=\"text-align: right;\">         2</td><td style=\"text-align: right;\">          0</td><td style=\"text-align: right;\">            0</td><td style=\"text-align: right;\">              1</td><td style=\"text-align: right;\">           0</td><td>N          </td><td>Y       </td><td style=\"text-align: right;\">              52500</td><td style=\"text-align: right;\">             0</td><td style=\"text-align: right;\">   52500</td><td style=\"text-align: right;\">     42000</td><td style=\"text-align: right;\">           0</td></tr>\n",
       "<tr><td style=\"text-align: right;\">      5</td><td>NEWTOWN      </td><td>OH     </td><td style=\"text-align: right;\">45244</td><td>HAMILTON CNTY DEVEL COMPANY IN</td><td>OH         </td><td style=\"text-align: right;\"> 234110</td><td style=\"text-align: right;\">      5</td><td style=\"text-align: right;\">         1</td><td style=\"text-align: right;\">          2</td><td style=\"text-align: right;\">            0</td><td style=\"text-align: right;\">              1</td><td style=\"text-align: right;\">           0</td><td>N          </td><td>N       </td><td style=\"text-align: right;\">              52000</td><td style=\"text-align: right;\">             0</td><td style=\"text-align: right;\">   52000</td><td style=\"text-align: right;\">     52000</td><td style=\"text-align: right;\">           0</td></tr>\n",
       "<tr><td style=\"text-align: right;\">      6</td><td>MISSION VIEJO</td><td>CA     </td><td style=\"text-align: right;\">92691</td><td>BANK OF AMERICA CALIFORNIA N.A</td><td>CA         </td><td style=\"text-align: right;\"> 445310</td><td style=\"text-align: right;\">      3</td><td style=\"text-align: right;\">         1</td><td style=\"text-align: right;\">          0</td><td style=\"text-align: right;\">            0</td><td style=\"text-align: right;\">              1</td><td style=\"text-align: right;\">           0</td><td>Y          </td><td>N       </td><td style=\"text-align: right;\">              50000</td><td style=\"text-align: right;\">             0</td><td style=\"text-align: right;\">   50000</td><td style=\"text-align: right;\">     25000</td><td style=\"text-align: right;\">           0</td></tr>\n",
       "<tr><td style=\"text-align: right;\">      7</td><td>OSWEGO       </td><td>IL     </td><td style=\"text-align: right;\">60543</td><td>JPMORGAN CHASE BANK NATL ASSOC</td><td>IL         </td><td style=\"text-align: right;\"> 812990</td><td style=\"text-align: right;\">      1</td><td style=\"text-align: right;\">         1</td><td style=\"text-align: right;\">          2</td><td style=\"text-align: right;\">            1</td><td style=\"text-align: right;\">              0</td><td style=\"text-align: right;\">           1</td><td>Y          </td><td>N       </td><td style=\"text-align: right;\">              38619</td><td style=\"text-align: right;\">             0</td><td style=\"text-align: right;\">   25000</td><td style=\"text-align: right;\">     12500</td><td style=\"text-align: right;\">           1</td></tr>\n",
       "<tr><td style=\"text-align: right;\">      8</td><td>DECATUR      </td><td>GA     </td><td style=\"text-align: right;\">30033</td><td>WELLS FARGO BANK NATL ASSOC   </td><td>SD         </td><td style=\"text-align: right;\"> 561421</td><td style=\"text-align: right;\">     10</td><td style=\"text-align: right;\">         1</td><td style=\"text-align: right;\">          1</td><td style=\"text-align: right;\">           11</td><td style=\"text-align: right;\">              1</td><td style=\"text-align: right;\">           1</td><td>Y          </td><td>N       </td><td style=\"text-align: right;\">              32714</td><td style=\"text-align: right;\">             0</td><td style=\"text-align: right;\">   20000</td><td style=\"text-align: right;\">     10000</td><td style=\"text-align: right;\">           1</td></tr>\n",
       "<tr><td style=\"text-align: right;\">      9</td><td>ROLLING HILLS</td><td>CA     </td><td style=\"text-align: right;\">90274</td><td>BANC OF CALIFORNIA NATL ASSOC </td><td>CA         </td><td style=\"text-align: right;\"> 541512</td><td style=\"text-align: right;\">      4</td><td style=\"text-align: right;\">         1</td><td style=\"text-align: right;\">          4</td><td style=\"text-align: right;\">            4</td><td style=\"text-align: right;\">              1</td><td style=\"text-align: right;\">           1</td><td>Y          </td><td>N       </td><td style=\"text-align: right;\">              90055</td><td style=\"text-align: right;\">             0</td><td style=\"text-align: right;\">   50000</td><td style=\"text-align: right;\">     25000</td><td style=\"text-align: right;\">           0</td></tr>\n",
       "</tbody>\n",
       "</table><pre style='font-size: smaller; margin-bottom: 1em;'>[809247 rows x 20 columns]</pre>"
      ],
      "text/plain": [
       "  index  City           State      Zip  Bank                            BankState      NAICS    NoEmp    NewExist    CreateJob    RetainedJob    FranchiseCode    UrbanRural  RevLineCr    LowDoc      DisbursementGross    BalanceGross    GrAppv    SBA_Appv    MIS_Status\n",
       "-------  -------------  -------  -----  ------------------------------  -----------  -------  -------  ----------  -----------  -------------  ---------------  ------------  -----------  --------  -------------------  --------------  --------  ----------  ------------\n",
       "      0  GLEN BURNIE    MD       21060  BUSINESS FINANCE GROUP, INC.    VA            811111        7           1            6              7                1             1  0            N                      743000               0    743000      743000             0\n",
       "      1  WEST BEND      WI       53095  JPMORGAN CHASE BANK NATL ASSOC  IL            722410       20           1            0              0                1             0  N            N                      137000               0    137000      109737             0\n",
       "      2  SAN DIEGO      CA       92128  UMPQUA BANK                     OR                 0        2           1            0              0                1             0  0            N                      280000               0    280000      210000             0\n",
       "      3  WEBSTER        MA        1570  HOMETOWN BANK A CO-OPERATIVE B  MA            621310        7           1            0              0                1             1  0            Y                      144500               0    144500      122825             0\n",
       "      4  JOPLIN         MO       64804  U.S. BANK NATIONAL ASSOCIATION  OH                 0        2           2            0              0                1             0  N            Y                       52500               0     52500       42000             0\n",
       "      5  NEWTOWN        OH       45244  HAMILTON CNTY DEVEL COMPANY IN  OH            234110        5           1            2              0                1             0  N            N                       52000               0     52000       52000             0\n",
       "      6  MISSION VIEJO  CA       92691  BANK OF AMERICA CALIFORNIA N.A  CA            445310        3           1            0              0                1             0  Y            N                       50000               0     50000       25000             0\n",
       "      7  OSWEGO         IL       60543  JPMORGAN CHASE BANK NATL ASSOC  IL            812990        1           1            2              1                0             1  Y            N                       38619               0     25000       12500             1\n",
       "      8  DECATUR        GA       30033  WELLS FARGO BANK NATL ASSOC     SD            561421       10           1            1             11                1             1  Y            N                       32714               0     20000       10000             1\n",
       "      9  ROLLING HILLS  CA       90274  BANC OF CALIFORNIA NATL ASSOC   CA            541512        4           1            4              4                1             1  Y            N                       90055               0     50000       25000             0\n",
       "[809247 rows x 20 columns]\n"
      ]
     },
     "execution_count": 14,
     "metadata": {},
     "output_type": "execute_result"
    }
   ],
   "source": [
    "data\n"
   ]
  },
  {
   "cell_type": "code",
   "execution_count": 15,
   "id": "100e389a",
   "metadata": {},
   "outputs": [
    {
     "data": {
      "text/html": [
       "<table class='dataframe'>\n",
       "<thead>\n",
       "<tr><th>LowDoc  </th><th style=\"text-align: right;\">  Count</th></tr>\n",
       "</thead>\n",
       "<tbody>\n",
       "<tr><td>1       </td><td style=\"text-align: right;\">      1</td></tr>\n",
       "<tr><td>A       </td><td style=\"text-align: right;\">    449</td></tr>\n",
       "<tr><td>C       </td><td style=\"text-align: right;\">    681</td></tr>\n",
       "<tr><td>N       </td><td style=\"text-align: right;\"> 704515</td></tr>\n",
       "<tr><td>R       </td><td style=\"text-align: right;\">     66</td></tr>\n",
       "<tr><td>S       </td><td style=\"text-align: right;\">    534</td></tr>\n",
       "<tr><td>Unknown </td><td style=\"text-align: right;\">   3662</td></tr>\n",
       "<tr><td>Y       </td><td style=\"text-align: right;\">  99339</td></tr>\n",
       "</tbody>\n",
       "</table><pre style='font-size: smaller; margin-bottom: 1em;'>[8 rows x 2 columns]</pre>"
      ],
      "text/plain": [
       "LowDoc      Count\n",
       "--------  -------\n",
       "1               1\n",
       "A             449\n",
       "C             681\n",
       "N          704515\n",
       "R              66\n",
       "S             534\n",
       "Unknown      3662\n",
       "Y           99339\n",
       "[8 rows x 2 columns]\n"
      ]
     },
     "execution_count": 15,
     "metadata": {},
     "output_type": "execute_result"
    }
   ],
   "source": [
    "data[\"LowDoc\"].table()"
   ]
  },
  {
   "cell_type": "code",
   "execution_count": 182,
   "id": "f2eb56fa",
   "metadata": {},
   "outputs": [],
   "source": [
    "data[\"LowDoc\"].table()\n",
    "\n",
    "# Lets remove all rows except containing 'Y' and 'N'\n",
    "data[data[\"LowDoc\"].isin(list(['1', 'A', 'C', 'R', 'S', 'Unknown']))][0] # we can see we have 5393 rows that needs to be deleted\n",
    "\n",
    "# converting the set of rows to pandas data frame\n",
    "pd_data = data[data[\"LowDoc\"].isin(list(['1', 'A', 'C', 'R', 'S', 'Unknown']))][0].as_data_frame()\n",
    "\n",
    "# Extracting the list of indices of the rows to be removed\n",
    "indices = pd_data['index'].tolist()\n",
    "\n",
    "# Removing the indices from the our data \n",
    "data = data.drop(index=indices, axis=0)\n",
    "\n",
    "\n",
    "\n",
    "\n"
   ]
  },
  {
   "cell_type": "code",
   "execution_count": 17,
   "id": "89488279",
   "metadata": {},
   "outputs": [
    {
     "data": {
      "text/html": [
       "<table class='dataframe'>\n",
       "<thead>\n",
       "<tr><th>LowDoc  </th><th style=\"text-align: right;\">  Count</th></tr>\n",
       "</thead>\n",
       "<tbody>\n",
       "<tr><td>N       </td><td style=\"text-align: right;\"> 704515</td></tr>\n",
       "<tr><td>Y       </td><td style=\"text-align: right;\">  99339</td></tr>\n",
       "</tbody>\n",
       "</table><pre style='font-size: smaller; margin-bottom: 1em;'>[2 rows x 2 columns]</pre>"
      ],
      "text/plain": [
       "LowDoc      Count\n",
       "--------  -------\n",
       "N          704515\n",
       "Y           99339\n",
       "[2 rows x 2 columns]\n"
      ]
     },
     "execution_count": 17,
     "metadata": {},
     "output_type": "execute_result"
    }
   ],
   "source": [
    "# Removing the rows containing values other than 'Y' and 'N from LowDoc\n",
    "data[\"LowDoc\"].table().head(18)\n",
    "data = data[data[\"LowDoc\"].isin(list(['Y', 'N']))]\n",
    "data[\"LowDoc\"].table()"
   ]
  },
  {
   "cell_type": "code",
   "execution_count": 18,
   "id": "8f3b2c38",
   "metadata": {},
   "outputs": [
    {
     "data": {
      "text/html": [
       "<table class='dataframe'>\n",
       "<thead>\n",
       "<tr><th>C1     </th></tr>\n",
       "</thead>\n",
       "<tbody>\n",
       "<tr><td>-      </td></tr>\n",
       "<tr><td>.      </td></tr>\n",
       "<tr><td>0      </td></tr>\n",
       "<tr><td>1      </td></tr>\n",
       "<tr><td>2      </td></tr>\n",
       "<tr><td>3      </td></tr>\n",
       "<tr><td>5      </td></tr>\n",
       "<tr><td>7      </td></tr>\n",
       "<tr><td>A      </td></tr>\n",
       "<tr><td>C      </td></tr>\n",
       "<tr><td>N      </td></tr>\n",
       "<tr><td>Q      </td></tr>\n",
       "<tr><td>R      </td></tr>\n",
       "<tr><td>T      </td></tr>\n",
       "<tr><td>Unknown</td></tr>\n",
       "<tr><td>Y      </td></tr>\n",
       "<tr><td>`      </td></tr>\n",
       "</tbody>\n",
       "</table><pre style='font-size: smaller; margin-bottom: 1em;'>[17 rows x 1 column]</pre>"
      ],
      "text/plain": [
       "C1\n",
       "-------\n",
       "-\n",
       ".\n",
       "0\n",
       "1\n",
       "2\n",
       "3\n",
       "5\n",
       "7\n",
       "A\n",
       "C\n",
       "N\n",
       "Q\n",
       "R\n",
       "T\n",
       "Unknown\n",
       "Y\n",
       "`\n",
       "[17 rows x 1 column]\n"
      ]
     },
     "execution_count": 18,
     "metadata": {},
     "output_type": "execute_result"
    }
   ],
   "source": [
    "# Checking the RevLineCr feature\n",
    "data[\"RevLineCr\"].unique().head(17)\n"
   ]
  },
  {
   "cell_type": "code",
   "execution_count": 19,
   "id": "7f96c305",
   "metadata": {},
   "outputs": [
    {
     "data": {
      "text/plain": [
       "(803854, 20)"
      ]
     },
     "execution_count": 19,
     "metadata": {},
     "output_type": "execute_result"
    }
   ],
   "source": [
    "data.shape"
   ]
  },
  {
   "cell_type": "code",
   "execution_count": 21,
   "id": "cc53d084",
   "metadata": {},
   "outputs": [
    {
     "data": {
      "text/html": [
       "<table class='dataframe'>\n",
       "<thead>\n",
       "<tr><th>RevLineCr  </th><th style=\"text-align: right;\">  Count</th></tr>\n",
       "</thead>\n",
       "<tbody>\n",
       "<tr><td>0          </td><td style=\"text-align: right;\"> 231434</td></tr>\n",
       "<tr><td>N          </td><td style=\"text-align: right;\"> 374672</td></tr>\n",
       "<tr><td>Unknown    </td><td style=\"text-align: right;\">   3867</td></tr>\n",
       "<tr><td>Y          </td><td style=\"text-align: right;\"> 180185</td></tr>\n",
       "</tbody>\n",
       "</table><pre style='font-size: smaller; margin-bottom: 1em;'>[4 rows x 2 columns]</pre>"
      ],
      "text/plain": [
       "RevLineCr      Count\n",
       "-----------  -------\n",
       "0             231434\n",
       "N             374672\n",
       "Unknown         3867\n",
       "Y             180185\n",
       "[4 rows x 2 columns]\n"
      ]
     },
     "execution_count": 21,
     "metadata": {},
     "output_type": "execute_result"
    }
   ],
   "source": [
    "# Removing the rows containing values other than 'Y' and 'N' and 'Unknown', and '0' from RevLineCr\n",
    "data[\"RevLineCr\"].table().head(18)\n",
    "data = data[data[\"RevLineCr\"].isin(list(['Y', 'N', '0', 'Unknown']))]\n",
    "data[\"RevLineCr\"].table()\n",
    "#print(data.shape)"
   ]
  },
  {
   "cell_type": "markdown",
   "id": "766fbc66",
   "metadata": {},
   "source": [
    "# Cleaned data view"
   ]
  },
  {
   "cell_type": "code",
   "execution_count": 22,
   "id": "a16c9682",
   "metadata": {},
   "outputs": [
    {
     "data": {
      "text/html": [
       "<table class='dataframe'>\n",
       "<thead>\n",
       "<tr><th style=\"text-align: right;\">  index</th><th>City         </th><th>State  </th><th style=\"text-align: right;\">  Zip</th><th>Bank                          </th><th>BankState  </th><th style=\"text-align: right;\">  NAICS</th><th style=\"text-align: right;\">  NoEmp</th><th style=\"text-align: right;\">  NewExist</th><th style=\"text-align: right;\">  CreateJob</th><th style=\"text-align: right;\">  RetainedJob</th><th style=\"text-align: right;\">  FranchiseCode</th><th style=\"text-align: right;\">  UrbanRural</th><th>RevLineCr  </th><th>LowDoc  </th><th style=\"text-align: right;\">  DisbursementGross</th><th style=\"text-align: right;\">  BalanceGross</th><th style=\"text-align: right;\">  GrAppv</th><th style=\"text-align: right;\">  SBA_Appv</th><th style=\"text-align: right;\">  MIS_Status</th></tr>\n",
       "</thead>\n",
       "<tbody>\n",
       "<tr><td style=\"text-align: right;\">      0</td><td>GLEN BURNIE  </td><td>MD     </td><td style=\"text-align: right;\">21060</td><td>BUSINESS FINANCE GROUP, INC.  </td><td>VA         </td><td style=\"text-align: right;\"> 811111</td><td style=\"text-align: right;\">      7</td><td style=\"text-align: right;\">         1</td><td style=\"text-align: right;\">          6</td><td style=\"text-align: right;\">            7</td><td style=\"text-align: right;\">              1</td><td style=\"text-align: right;\">           1</td><td>0          </td><td>N       </td><td style=\"text-align: right;\">             743000</td><td style=\"text-align: right;\">             0</td><td style=\"text-align: right;\">  743000</td><td style=\"text-align: right;\">    743000</td><td style=\"text-align: right;\">           0</td></tr>\n",
       "<tr><td style=\"text-align: right;\">      1</td><td>WEST BEND    </td><td>WI     </td><td style=\"text-align: right;\">53095</td><td>JPMORGAN CHASE BANK NATL ASSOC</td><td>IL         </td><td style=\"text-align: right;\"> 722410</td><td style=\"text-align: right;\">     20</td><td style=\"text-align: right;\">         1</td><td style=\"text-align: right;\">          0</td><td style=\"text-align: right;\">            0</td><td style=\"text-align: right;\">              1</td><td style=\"text-align: right;\">           0</td><td>N          </td><td>N       </td><td style=\"text-align: right;\">             137000</td><td style=\"text-align: right;\">             0</td><td style=\"text-align: right;\">  137000</td><td style=\"text-align: right;\">    109737</td><td style=\"text-align: right;\">           0</td></tr>\n",
       "<tr><td style=\"text-align: right;\">      2</td><td>SAN DIEGO    </td><td>CA     </td><td style=\"text-align: right;\">92128</td><td>UMPQUA BANK                   </td><td>OR         </td><td style=\"text-align: right;\">      0</td><td style=\"text-align: right;\">      2</td><td style=\"text-align: right;\">         1</td><td style=\"text-align: right;\">          0</td><td style=\"text-align: right;\">            0</td><td style=\"text-align: right;\">              1</td><td style=\"text-align: right;\">           0</td><td>0          </td><td>N       </td><td style=\"text-align: right;\">             280000</td><td style=\"text-align: right;\">             0</td><td style=\"text-align: right;\">  280000</td><td style=\"text-align: right;\">    210000</td><td style=\"text-align: right;\">           0</td></tr>\n",
       "<tr><td style=\"text-align: right;\">      3</td><td>WEBSTER      </td><td>MA     </td><td style=\"text-align: right;\"> 1570</td><td>HOMETOWN BANK A CO-OPERATIVE B</td><td>MA         </td><td style=\"text-align: right;\"> 621310</td><td style=\"text-align: right;\">      7</td><td style=\"text-align: right;\">         1</td><td style=\"text-align: right;\">          0</td><td style=\"text-align: right;\">            0</td><td style=\"text-align: right;\">              1</td><td style=\"text-align: right;\">           1</td><td>0          </td><td>Y       </td><td style=\"text-align: right;\">             144500</td><td style=\"text-align: right;\">             0</td><td style=\"text-align: right;\">  144500</td><td style=\"text-align: right;\">    122825</td><td style=\"text-align: right;\">           0</td></tr>\n",
       "<tr><td style=\"text-align: right;\">      4</td><td>JOPLIN       </td><td>MO     </td><td style=\"text-align: right;\">64804</td><td>U.S. BANK NATIONAL ASSOCIATION</td><td>OH         </td><td style=\"text-align: right;\">      0</td><td style=\"text-align: right;\">      2</td><td style=\"text-align: right;\">         2</td><td style=\"text-align: right;\">          0</td><td style=\"text-align: right;\">            0</td><td style=\"text-align: right;\">              1</td><td style=\"text-align: right;\">           0</td><td>N          </td><td>Y       </td><td style=\"text-align: right;\">              52500</td><td style=\"text-align: right;\">             0</td><td style=\"text-align: right;\">   52500</td><td style=\"text-align: right;\">     42000</td><td style=\"text-align: right;\">           0</td></tr>\n",
       "<tr><td style=\"text-align: right;\">      5</td><td>NEWTOWN      </td><td>OH     </td><td style=\"text-align: right;\">45244</td><td>HAMILTON CNTY DEVEL COMPANY IN</td><td>OH         </td><td style=\"text-align: right;\"> 234110</td><td style=\"text-align: right;\">      5</td><td style=\"text-align: right;\">         1</td><td style=\"text-align: right;\">          2</td><td style=\"text-align: right;\">            0</td><td style=\"text-align: right;\">              1</td><td style=\"text-align: right;\">           0</td><td>N          </td><td>N       </td><td style=\"text-align: right;\">              52000</td><td style=\"text-align: right;\">             0</td><td style=\"text-align: right;\">   52000</td><td style=\"text-align: right;\">     52000</td><td style=\"text-align: right;\">           0</td></tr>\n",
       "<tr><td style=\"text-align: right;\">      6</td><td>MISSION VIEJO</td><td>CA     </td><td style=\"text-align: right;\">92691</td><td>BANK OF AMERICA CALIFORNIA N.A</td><td>CA         </td><td style=\"text-align: right;\"> 445310</td><td style=\"text-align: right;\">      3</td><td style=\"text-align: right;\">         1</td><td style=\"text-align: right;\">          0</td><td style=\"text-align: right;\">            0</td><td style=\"text-align: right;\">              1</td><td style=\"text-align: right;\">           0</td><td>Y          </td><td>N       </td><td style=\"text-align: right;\">              50000</td><td style=\"text-align: right;\">             0</td><td style=\"text-align: right;\">   50000</td><td style=\"text-align: right;\">     25000</td><td style=\"text-align: right;\">           0</td></tr>\n",
       "<tr><td style=\"text-align: right;\">      7</td><td>OSWEGO       </td><td>IL     </td><td style=\"text-align: right;\">60543</td><td>JPMORGAN CHASE BANK NATL ASSOC</td><td>IL         </td><td style=\"text-align: right;\"> 812990</td><td style=\"text-align: right;\">      1</td><td style=\"text-align: right;\">         1</td><td style=\"text-align: right;\">          2</td><td style=\"text-align: right;\">            1</td><td style=\"text-align: right;\">              0</td><td style=\"text-align: right;\">           1</td><td>Y          </td><td>N       </td><td style=\"text-align: right;\">              38619</td><td style=\"text-align: right;\">             0</td><td style=\"text-align: right;\">   25000</td><td style=\"text-align: right;\">     12500</td><td style=\"text-align: right;\">           1</td></tr>\n",
       "<tr><td style=\"text-align: right;\">      8</td><td>DECATUR      </td><td>GA     </td><td style=\"text-align: right;\">30033</td><td>WELLS FARGO BANK NATL ASSOC   </td><td>SD         </td><td style=\"text-align: right;\"> 561421</td><td style=\"text-align: right;\">     10</td><td style=\"text-align: right;\">         1</td><td style=\"text-align: right;\">          1</td><td style=\"text-align: right;\">           11</td><td style=\"text-align: right;\">              1</td><td style=\"text-align: right;\">           1</td><td>Y          </td><td>N       </td><td style=\"text-align: right;\">              32714</td><td style=\"text-align: right;\">             0</td><td style=\"text-align: right;\">   20000</td><td style=\"text-align: right;\">     10000</td><td style=\"text-align: right;\">           1</td></tr>\n",
       "<tr><td style=\"text-align: right;\">      9</td><td>ROLLING HILLS</td><td>CA     </td><td style=\"text-align: right;\">90274</td><td>BANC OF CALIFORNIA NATL ASSOC </td><td>CA         </td><td style=\"text-align: right;\"> 541512</td><td style=\"text-align: right;\">      4</td><td style=\"text-align: right;\">         1</td><td style=\"text-align: right;\">          4</td><td style=\"text-align: right;\">            4</td><td style=\"text-align: right;\">              1</td><td style=\"text-align: right;\">           1</td><td>Y          </td><td>N       </td><td style=\"text-align: right;\">              90055</td><td style=\"text-align: right;\">             0</td><td style=\"text-align: right;\">   50000</td><td style=\"text-align: right;\">     25000</td><td style=\"text-align: right;\">           0</td></tr>\n",
       "</tbody>\n",
       "</table><pre style='font-size: smaller; margin-bottom: 1em;'>[790158 rows x 20 columns]</pre>"
      ],
      "text/plain": [
       "  index  City           State      Zip  Bank                            BankState      NAICS    NoEmp    NewExist    CreateJob    RetainedJob    FranchiseCode    UrbanRural  RevLineCr    LowDoc      DisbursementGross    BalanceGross    GrAppv    SBA_Appv    MIS_Status\n",
       "-------  -------------  -------  -----  ------------------------------  -----------  -------  -------  ----------  -----------  -------------  ---------------  ------------  -----------  --------  -------------------  --------------  --------  ----------  ------------\n",
       "      0  GLEN BURNIE    MD       21060  BUSINESS FINANCE GROUP, INC.    VA            811111        7           1            6              7                1             1  0            N                      743000               0    743000      743000             0\n",
       "      1  WEST BEND      WI       53095  JPMORGAN CHASE BANK NATL ASSOC  IL            722410       20           1            0              0                1             0  N            N                      137000               0    137000      109737             0\n",
       "      2  SAN DIEGO      CA       92128  UMPQUA BANK                     OR                 0        2           1            0              0                1             0  0            N                      280000               0    280000      210000             0\n",
       "      3  WEBSTER        MA        1570  HOMETOWN BANK A CO-OPERATIVE B  MA            621310        7           1            0              0                1             1  0            Y                      144500               0    144500      122825             0\n",
       "      4  JOPLIN         MO       64804  U.S. BANK NATIONAL ASSOCIATION  OH                 0        2           2            0              0                1             0  N            Y                       52500               0     52500       42000             0\n",
       "      5  NEWTOWN        OH       45244  HAMILTON CNTY DEVEL COMPANY IN  OH            234110        5           1            2              0                1             0  N            N                       52000               0     52000       52000             0\n",
       "      6  MISSION VIEJO  CA       92691  BANK OF AMERICA CALIFORNIA N.A  CA            445310        3           1            0              0                1             0  Y            N                       50000               0     50000       25000             0\n",
       "      7  OSWEGO         IL       60543  JPMORGAN CHASE BANK NATL ASSOC  IL            812990        1           1            2              1                0             1  Y            N                       38619               0     25000       12500             1\n",
       "      8  DECATUR        GA       30033  WELLS FARGO BANK NATL ASSOC     SD            561421       10           1            1             11                1             1  Y            N                       32714               0     20000       10000             1\n",
       "      9  ROLLING HILLS  CA       90274  BANC OF CALIFORNIA NATL ASSOC   CA            541512        4           1            4              4                1             1  Y            N                       90055               0     50000       25000             0\n",
       "[790158 rows x 20 columns]\n"
      ]
     },
     "execution_count": 22,
     "metadata": {},
     "output_type": "execute_result"
    }
   ],
   "source": [
    "data"
   ]
  },
  {
   "cell_type": "markdown",
   "id": "b7f21dcf",
   "metadata": {},
   "source": [
    "### Categorical and numerical variables encoding\n",
    "\n",
    "Encode categorical variables using either one of the techniques below. Don't use LabelEncoder.\n",
    "- One-hot-encoder for variables with less than 10 valid values. Name your new columns \"Original_name\"_valid_value. If you drop one of the columns, make it clear what valid value is reference value.\n",
    "- Target encoder from the following library: https://contrib.scikit-learn.org/category_encoders/index.html . Name your new column \"Original_name\"_trg\n",
    "- WOE encoder from the following library: https://contrib.scikit-learn.org/category_encoders/index.html . Name your new column \"Original_name\"_woe\n",
    "\n",
    "\n",
    "WOE encoder can be used with numerical variables too. \n",
    "\n",
    "\n",
    "Example of use for target encoder:\n",
    "```\n",
    "import category_encoders as ce\n",
    "\n",
    "encoder = ce.TargetEncoder(cols=[...])\n",
    "\n",
    "encoder.fit(X, y)\n",
    "X_cleaned = encoder.transform(X_dirty)\n",
    "```"
   ]
  },
  {
   "cell_type": "markdown",
   "id": "08f61b08",
   "metadata": {},
   "source": [
    "##\n",
    "\n",
    "We Perform Target encoding on the categorical features\n",
    "\n",
    "Perform target encoding on the following columns:\n",
    "- ZIP\n",
    "- City\n",
    "- State\n",
    "- Bank\n",
    "- BankState\n",
    "- RevLineCr\n",
    "- LowDoc\n"
   ]
  },
  {
   "cell_type": "code",
   "execution_count": 84,
   "id": "82f065dd",
   "metadata": {},
   "outputs": [
    {
     "name": "stdout",
     "output_type": "stream",
     "text": [
      "targetencoder Model Build progress: |████████████████████████████████████████████| (done) 100%\n"
     ]
    }
   ],
   "source": [
    "from h2o.estimators import H2OTargetEncoderEstimator\n",
    "\n",
    "# Set response column as a factor\n",
    "data['MIS_Status'] = data['MIS_Status'].asfactor()\n",
    "response='survived'\n",
    "\n",
    "# Split the dataset into train and test\n",
    "train, test = data.split_frame(ratios = [.6], seed = 1234)\n",
    "\n",
    "# Choose columns to encode\n",
    "encoded_columns = [\"Zip\", \"City\", \"State\", \"Bank\", \"BankState\", \"RevLineCr\", \"LowDoc\"]\n",
    "response = \"MIS_Status\"\n",
    "\n",
    "data[encoded_columns] = data[encoded_columns].asfactor()\n",
    "\n",
    "# Train a TE model\n",
    "data_te = H2OTargetEncoderEstimator(#fold_column=fold_column,\n",
    "                                    data_leakage_handling=None,\n",
    "                                    blending=True,\n",
    "                                    inflection_point=10,\n",
    "                                    smoothing=300,\n",
    "                                    noise=0.015,\n",
    "                                    seed=2331,\n",
    "                                    keep_original_categorical_columns=False\n",
    "                                    )   \n",
    "\n",
    "data_te.train(x=encoded_columns,\n",
    "              y=response,\n",
    "              training_frame=train)\n",
    "\n",
    "# New target encoded dataset\n",
    "train_te = data_te.transform(frame=train, as_training=True)\n",
    "test_te = data_te.transform(frame=test, as_training=False)\n"
   ]
  },
  {
   "cell_type": "code",
   "execution_count": 85,
   "id": "6fa59d62",
   "metadata": {},
   "outputs": [
    {
     "data": {
      "text/html": [
       "<pre style='margin: 1em 0 1em 0;'>Rows:474537\n",
       "Cols:20\n",
       "</pre>"
      ],
      "text/plain": [
       "Rows:474537\n",
       "Cols:20\n"
      ]
     },
     "metadata": {},
     "output_type": "display_data"
    },
    {
     "data": {
      "text/html": [
       "<table class='dataframe'>\n",
       "<thead>\n",
       "<tr><th>       </th><th>City_te             </th><th>State_te           </th><th>Zip_te             </th><th>Bank_te              </th><th>BankState_te       </th><th>RevLineCr_te        </th><th>LowDoc_te          </th><th>index             </th><th>NAICS             </th><th>NoEmp            </th><th>NewExist           </th><th>CreateJob        </th><th>RetainedJob       </th><th>FranchiseCode     </th><th>UrbanRural        </th><th>DisbursementGross  </th><th>BalanceGross      </th><th>GrAppv            </th><th>SBA_Appv          </th><th>MIS_Status  </th></tr>\n",
       "</thead>\n",
       "<tbody>\n",
       "<tr><td>type   </td><td>real                </td><td>real               </td><td>real               </td><td>real                 </td><td>real               </td><td>real                </td><td>real               </td><td>int               </td><td>int               </td><td>int              </td><td>int                </td><td>int              </td><td>int               </td><td>int               </td><td>int               </td><td>int                </td><td>int               </td><td>int               </td><td>int               </td><td>enum        </td></tr>\n",
       "<tr><td>mins   </td><td>0.050250119367146476</td><td>0.05378190361767601</td><td>0.06035538515099934</td><td>-0.014823829423143397</td><td>0.0364146736947475 </td><td>0.005640814144486292</td><td>0.0757603055693507 </td><td>1.0               </td><td>0.0               </td><td>0.0              </td><td>0.0                </td><td>0.0              </td><td>0.0               </td><td>0.0               </td><td>0.0               </td><td>0.0                </td><td>0.0               </td><td>200.0             </td><td>100.0             </td><td>            </td></tr>\n",
       "<tr><td>mean   </td><td>0.17122785690918718 </td><td>0.17002790025736367</td><td>0.16997025504804622</td><td>0.17786347875335332  </td><td>0.17006039529938144</td><td>0.17003231884667125 </td><td>0.17003200304891508</td><td>404422.7399170138 </td><td>396568.1153292578 </td><td>11.42516389659816</td><td>1.281088724377657  </td><td>8.660351036905448</td><td>11.002457131899094</td><td>2787.471153987991 </td><td>0.7518655025846238</td><td>203078.02506443136 </td><td>5.024807338521549 </td><td>195041.55395891154</td><td>151669.76895584536</td><td>            </td></tr>\n",
       "<tr><td>maxs   </td><td>0.5961687120121717  </td><td>0.27320350506365837</td><td>0.5950282970191646 </td><td>0.7500016309323115   </td><td>0.39503970722759324</td><td>0.26818237944165724 </td><td>0.19646223190933038</td><td>809246.0          </td><td>928120.0          </td><td>9999.0           </td><td>2.0                </td><td>8800.0           </td><td>8800.0            </td><td>99999.0           </td><td>2.0               </td><td>11446325.0         </td><td>996262.0          </td><td>5000000.0         </td><td>5000000.0         </td><td>            </td></tr>\n",
       "<tr><td>sigma  </td><td>0.06256874932894671 </td><td>0.04067078265752939</td><td>0.06193998100036642</td><td>0.11287012761429108  </td><td>0.07095655305557438</td><td>0.04676942874365501 </td><td>0.03131151200894823</td><td>233555.75581549632</td><td>264359.56648609537</td><td>72.17700511416847</td><td>0.45222330083931095</td><td>240.8391863161609</td><td>241.05158981485943</td><td>12838.182180485299</td><td>0.6491304741391511</td><td>288624.88181677787 </td><td>1971.6433976029557</td><td>284560.5303583031 </td><td>230040.42890459258</td><td>            </td></tr>\n",
       "<tr><td>zeros  </td><td>0                   </td><td>0                  </td><td>0                  </td><td>0                    </td><td>0                  </td><td>0                   </td><td>0                  </td><td>0                 </td><td>108556            </td><td>3400             </td><td>576                </td><td>333035           </td><td>235957            </td><td>107883            </td><td>173461            </td><td>100                </td><td>474531            </td><td>0                 </td><td>0                 </td><td>            </td></tr>\n",
       "<tr><td>missing</td><td>0                   </td><td>0                  </td><td>0                  </td><td>0                    </td><td>0                  </td><td>0                   </td><td>0                  </td><td>0                 </td><td>0                 </td><td>0                </td><td>0                  </td><td>0                </td><td>0                 </td><td>0                 </td><td>0                 </td><td>0                  </td><td>0                 </td><td>0                 </td><td>0                 </td><td>0           </td></tr>\n",
       "<tr><td>0      </td><td>0.1269873580269154  </td><td>0.12071165346538923</td><td>0.13944230254355583</td><td>0.2720282910214418   </td><td>0.21905467926204408</td><td>0.1420542693631385  </td><td>0.17864290658145712</td><td>1.0               </td><td>722410.0          </td><td>20.0             </td><td>1.0                </td><td>0.0              </td><td>0.0               </td><td>1.0               </td><td>0.0               </td><td>137000.0           </td><td>0.0               </td><td>137000.0          </td><td>109737.0          </td><td>0           </td></tr>\n",
       "<tr><td>1      </td><td>0.17466434076794354 </td><td>0.1514526228355938 </td><td>0.18494444954974698</td><td>0.1696889359187519   </td><td>0.15412173091678047</td><td>0.14305760150120003 </td><td>0.0889439779974818 </td><td>4.0               </td><td>0.0               </td><td>2.0              </td><td>2.0                </td><td>0.0              </td><td>0.0               </td><td>1.0               </td><td>0.0               </td><td>52500.0            </td><td>0.0               </td><td>52500.0           </td><td>42000.0           </td><td>0           </td></tr>\n",
       "<tr><td>2      </td><td>0.14324606573690019 </td><td>0.16740034475755117</td><td>0.15443920201046177</td><td>0.04924806155129522  </td><td>0.1639812755515995 </td><td>0.15291714613601906 </td><td>0.18950578335433768</td><td>5.0               </td><td>234110.0          </td><td>5.0              </td><td>1.0                </td><td>2.0              </td><td>0.0               </td><td>1.0               </td><td>0.0               </td><td>52000.0            </td><td>0.0               </td><td>52000.0           </td><td>52000.0           </td><td>0           </td></tr>\n",
       "<tr><td>3      </td><td>0.14095661525506584 </td><td>0.16647462905033922</td><td>0.15131527121719873</td><td>0.07160091641725055  </td><td>0.20813890161942666</td><td>0.24430848582307357 </td><td>0.17258833829074668</td><td>6.0               </td><td>445310.0          </td><td>3.0              </td><td>1.0                </td><td>0.0              </td><td>0.0               </td><td>1.0               </td><td>0.0               </td><td>50000.0            </td><td>0.0               </td><td>50000.0           </td><td>25000.0           </td><td>0           </td></tr>\n",
       "<tr><td>4      </td><td>0.18695955994255797 </td><td>0.21124559510812213</td><td>0.23775146534196953</td><td>0.2674321238146776   </td><td>0.21445851205527988</td><td>0.2457668869070198  </td><td>0.17404673937469292</td><td>7.0               </td><td>812990.0          </td><td>1.0              </td><td>1.0                </td><td>2.0              </td><td>1.0               </td><td>0.0               </td><td>1.0               </td><td>38619.0            </td><td>0.0               </td><td>25000.0           </td><td>12500.0           </td><td>1           </td></tr>\n",
       "<tr><td>5      </td><td>0.19118686784458944 </td><td>0.2155484255472049 </td><td>0.17978669238672218</td><td>0.13150191029177327  </td><td>0.1692662377845488 </td><td>0.24257069869557876 </td><td>0.17085055116325187</td><td>8.0               </td><td>561421.0          </td><td>10.0             </td><td>1.0                </td><td>1.0              </td><td>11.0              </td><td>1.0               </td><td>1.0               </td><td>32714.0            </td><td>0.0               </td><td>20000.0           </td><td>10000.0           </td><td>1           </td></tr>\n",
       "<tr><td>6      </td><td>0.12481495655516778 </td><td>0.16504312515839434</td><td>0.15000959601054795</td><td>0.1683459786861865   </td><td>0.20670739772748178</td><td>0.13456819718048318 </td><td>0.1711568343988018 </td><td>10.0              </td><td>0.0               </td><td>3.0              </td><td>1.0                </td><td>0.0              </td><td>0.0               </td><td>0.0               </td><td>0.0               </td><td>100000.0           </td><td>0.0               </td><td>100000.0          </td><td>90000.0           </td><td>0           </td></tr>\n",
       "<tr><td>7      </td><td>0.1318622413658092  </td><td>0.22002394179905016</td><td>0.2024474313318744 </td><td>0.24112086278345846  </td><td>0.12978951803066713</td><td>0.14166381917852383 </td><td>0.17428869072109032</td><td>11.0              </td><td>323110.0          </td><td>18.0             </td><td>1.0                </td><td>0.0              </td><td>18.0              </td><td>1.0               </td><td>1.0               </td><td>500000.0           </td><td>0.0               </td><td>500000.0          </td><td>375000.0          </td><td>0           </td></tr>\n",
       "<tr><td>8      </td><td>0.16557423697942875 </td><td>0.17638460747808812</td><td>0.15664059124863405</td><td>0.05455021970470646  </td><td>0.13893157571123263</td><td>0.13321632807419045 </td><td>0.16980496529250907</td><td>13.0              </td><td>721110.0          </td><td>1.0              </td><td>1.0                </td><td>0.0              </td><td>15.0              </td><td>22470.0           </td><td>1.0               </td><td>856000.0           </td><td>0.0               </td><td>856000.0          </td><td>856000.0          </td><td>0           </td></tr>\n",
       "<tr><td>9      </td><td>0.3143082611408121  </td><td>0.2628836551110394 </td><td>0.29231470779787755</td><td>0.19163953471173578  </td><td>0.1632316803863468 </td><td>0.15216755097076637 </td><td>0.188756188189085  </td><td>14.0              </td><td>0.0               </td><td>3.0              </td><td>1.0                </td><td>0.0              </td><td>0.0               </td><td>1.0               </td><td>0.0               </td><td>185100.0           </td><td>0.0               </td><td>185100.0          </td><td>138825.0          </td><td>0           </td></tr>\n",
       "</tbody>\n",
       "</table><pre style='font-size: smaller; margin-bottom: 1em;'>[474537 rows x 20 columns]</pre>"
      ],
      "text/plain": [
       "         City_te               State_te             Zip_te               Bank_te                BankState_te         RevLineCr_te          LowDoc_te            index               NAICS               NoEmp              NewExist             CreateJob          RetainedJob         FranchiseCode       UrbanRural          DisbursementGross    BalanceGross        GrAppv              SBA_Appv            MIS_Status\n",
       "-------  --------------------  -------------------  -------------------  ---------------------  -------------------  --------------------  -------------------  ------------------  ------------------  -----------------  -------------------  -----------------  ------------------  ------------------  ------------------  -------------------  ------------------  ------------------  ------------------  ------------\n",
       "type     real                  real                 real                 real                   real                 real                  real                 int                 int                 int                int                  int                int                 int                 int                 int                  int                 int                 int                 enum\n",
       "mins     0.050250119367146476  0.05378190361767601  0.06035538515099934  -0.014823829423143397  0.0364146736947475   0.005640814144486292  0.0757603055693507   1.0                 0.0                 0.0                0.0                  0.0                0.0                 0.0                 0.0                 0.0                  0.0                 200.0               100.0\n",
       "mean     0.17122785690918718   0.17002790025736367  0.16997025504804622  0.17786347875335332    0.17006039529938144  0.17003231884667125   0.17003200304891508  404422.7399170138   396568.1153292578   11.42516389659816  1.281088724377657    8.660351036905448  11.002457131899094  2787.471153987991   0.7518655025846238  203078.02506443136   5.024807338521549   195041.55395891154  151669.76895584536\n",
       "maxs     0.5961687120121717    0.27320350506365837  0.5950282970191646   0.7500016309323115     0.39503970722759324  0.26818237944165724   0.19646223190933038  809246.0            928120.0            9999.0             2.0                  8800.0             8800.0              99999.0             2.0                 11446325.0           996262.0            5000000.0           5000000.0\n",
       "sigma    0.06256874932894671   0.04067078265752939  0.06193998100036642  0.11287012761429108    0.07095655305557438  0.04676942874365501   0.03131151200894823  233555.75581549632  264359.56648609537  72.17700511416847  0.45222330083931095  240.8391863161609  241.05158981485943  12838.182180485299  0.6491304741391511  288624.88181677787   1971.6433976029557  284560.5303583031   230040.42890459258\n",
       "zeros    0                     0                    0                    0                      0                    0                     0                    0                   108556              3400               576                  333035             235957              107883              173461              100                  474531              0                   0\n",
       "missing  0                     0                    0                    0                      0                    0                     0                    0                   0                   0                  0                    0                  0                   0                   0                   0                    0                   0                   0                   0\n",
       "0        0.1269873580269154    0.12071165346538923  0.13944230254355583  0.2720282910214418     0.21905467926204408  0.1420542693631385    0.17864290658145712  1.0                 722410.0            20.0               1.0                  0.0                0.0                 1.0                 0.0                 137000.0             0.0                 137000.0            109737.0            0\n",
       "1        0.17466434076794354   0.1514526228355938   0.18494444954974698  0.1696889359187519     0.15412173091678047  0.14305760150120003   0.0889439779974818   4.0                 0.0                 2.0                2.0                  0.0                0.0                 1.0                 0.0                 52500.0              0.0                 52500.0             42000.0             0\n",
       "2        0.14324606573690019   0.16740034475755117  0.15443920201046177  0.04924806155129522    0.1639812755515995   0.15291714613601906   0.18950578335433768  5.0                 234110.0            5.0                1.0                  2.0                0.0                 1.0                 0.0                 52000.0              0.0                 52000.0             52000.0             0\n",
       "3        0.14095661525506584   0.16647462905033922  0.15131527121719873  0.07160091641725055    0.20813890161942666  0.24430848582307357   0.17258833829074668  6.0                 445310.0            3.0                1.0                  0.0                0.0                 1.0                 0.0                 50000.0              0.0                 50000.0             25000.0             0\n",
       "4        0.18695955994255797   0.21124559510812213  0.23775146534196953  0.2674321238146776     0.21445851205527988  0.2457668869070198    0.17404673937469292  7.0                 812990.0            1.0                1.0                  2.0                1.0                 0.0                 1.0                 38619.0              0.0                 25000.0             12500.0             1\n",
       "5        0.19118686784458944   0.2155484255472049   0.17978669238672218  0.13150191029177327    0.1692662377845488   0.24257069869557876   0.17085055116325187  8.0                 561421.0            10.0               1.0                  1.0                11.0                1.0                 1.0                 32714.0              0.0                 20000.0             10000.0             1\n",
       "6        0.12481495655516778   0.16504312515839434  0.15000959601054795  0.1683459786861865     0.20670739772748178  0.13456819718048318   0.1711568343988018   10.0                0.0                 3.0                1.0                  0.0                0.0                 0.0                 0.0                 100000.0             0.0                 100000.0            90000.0             0\n",
       "7        0.1318622413658092    0.22002394179905016  0.2024474313318744   0.24112086278345846    0.12978951803066713  0.14166381917852383   0.17428869072109032  11.0                323110.0            18.0               1.0                  0.0                18.0                1.0                 1.0                 500000.0             0.0                 500000.0            375000.0            0\n",
       "8        0.16557423697942875   0.17638460747808812  0.15664059124863405  0.05455021970470646    0.13893157571123263  0.13321632807419045   0.16980496529250907  13.0                721110.0            1.0                1.0                  0.0                15.0                22470.0             1.0                 856000.0             0.0                 856000.0            856000.0            0\n",
       "9        0.3143082611408121    0.2628836551110394   0.29231470779787755  0.19163953471173578    0.1632316803863468   0.15216755097076637   0.188756188189085    14.0                0.0                 3.0                1.0                  0.0                0.0                 1.0                 0.0                 185100.0             0.0                 185100.0            138825.0            0\n",
       "[474537 rows x 20 columns]\n"
      ]
     },
     "metadata": {},
     "output_type": "display_data"
    }
   ],
   "source": [
    "train_te.describe()"
   ]
  },
  {
   "cell_type": "code",
   "execution_count": 86,
   "id": "70d34abc",
   "metadata": {},
   "outputs": [
    {
     "data": {
      "text/html": [
       "<table class='dataframe'>\n",
       "<thead>\n",
       "<tr><th style=\"text-align: right;\">  City_trg</th><th style=\"text-align: right;\">  State_trg</th><th style=\"text-align: right;\">  Zip_trg</th><th style=\"text-align: right;\">  Bank_trg</th><th style=\"text-align: right;\">  BankState_trg</th><th style=\"text-align: right;\">  RevLineCr_trg</th><th style=\"text-align: right;\">  LowDoc_trg</th><th style=\"text-align: right;\">  index</th><th style=\"text-align: right;\">  NAICS</th><th style=\"text-align: right;\">  NoEmp</th><th style=\"text-align: right;\">  NewExist</th><th style=\"text-align: right;\">  CreateJob</th><th style=\"text-align: right;\">  RetainedJob</th><th style=\"text-align: right;\">  FranchiseCode</th><th style=\"text-align: right;\">  UrbanRural</th><th style=\"text-align: right;\">  DisbursementGross</th><th style=\"text-align: right;\">  BalanceGross</th><th style=\"text-align: right;\">  GrAppv</th><th style=\"text-align: right;\">  SBA_Appv</th><th style=\"text-align: right;\">  MIS_Status</th></tr>\n",
       "</thead>\n",
       "<tbody>\n",
       "<tr><td style=\"text-align: right;\">  0.126987</td><td style=\"text-align: right;\">   0.120712</td><td style=\"text-align: right;\"> 0.139442</td><td style=\"text-align: right;\"> 0.272028 </td><td style=\"text-align: right;\">       0.219055</td><td style=\"text-align: right;\">       0.142054</td><td style=\"text-align: right;\">    0.178643</td><td style=\"text-align: right;\">      1</td><td style=\"text-align: right;\"> 722410</td><td style=\"text-align: right;\">     20</td><td style=\"text-align: right;\">         1</td><td style=\"text-align: right;\">          0</td><td style=\"text-align: right;\">            0</td><td style=\"text-align: right;\">              1</td><td style=\"text-align: right;\">           0</td><td style=\"text-align: right;\">             137000</td><td style=\"text-align: right;\">             0</td><td style=\"text-align: right;\">  137000</td><td style=\"text-align: right;\">    109737</td><td style=\"text-align: right;\">           0</td></tr>\n",
       "<tr><td style=\"text-align: right;\">  0.174664</td><td style=\"text-align: right;\">   0.151453</td><td style=\"text-align: right;\"> 0.184944</td><td style=\"text-align: right;\"> 0.169689 </td><td style=\"text-align: right;\">       0.154122</td><td style=\"text-align: right;\">       0.143058</td><td style=\"text-align: right;\">    0.088944</td><td style=\"text-align: right;\">      4</td><td style=\"text-align: right;\">      0</td><td style=\"text-align: right;\">      2</td><td style=\"text-align: right;\">         2</td><td style=\"text-align: right;\">          0</td><td style=\"text-align: right;\">            0</td><td style=\"text-align: right;\">              1</td><td style=\"text-align: right;\">           0</td><td style=\"text-align: right;\">              52500</td><td style=\"text-align: right;\">             0</td><td style=\"text-align: right;\">   52500</td><td style=\"text-align: right;\">     42000</td><td style=\"text-align: right;\">           0</td></tr>\n",
       "<tr><td style=\"text-align: right;\">  0.143246</td><td style=\"text-align: right;\">   0.1674  </td><td style=\"text-align: right;\"> 0.154439</td><td style=\"text-align: right;\"> 0.0492481</td><td style=\"text-align: right;\">       0.163981</td><td style=\"text-align: right;\">       0.152917</td><td style=\"text-align: right;\">    0.189506</td><td style=\"text-align: right;\">      5</td><td style=\"text-align: right;\"> 234110</td><td style=\"text-align: right;\">      5</td><td style=\"text-align: right;\">         1</td><td style=\"text-align: right;\">          2</td><td style=\"text-align: right;\">            0</td><td style=\"text-align: right;\">              1</td><td style=\"text-align: right;\">           0</td><td style=\"text-align: right;\">              52000</td><td style=\"text-align: right;\">             0</td><td style=\"text-align: right;\">   52000</td><td style=\"text-align: right;\">     52000</td><td style=\"text-align: right;\">           0</td></tr>\n",
       "<tr><td style=\"text-align: right;\">  0.140957</td><td style=\"text-align: right;\">   0.166475</td><td style=\"text-align: right;\"> 0.151315</td><td style=\"text-align: right;\"> 0.0716009</td><td style=\"text-align: right;\">       0.208139</td><td style=\"text-align: right;\">       0.244308</td><td style=\"text-align: right;\">    0.172588</td><td style=\"text-align: right;\">      6</td><td style=\"text-align: right;\"> 445310</td><td style=\"text-align: right;\">      3</td><td style=\"text-align: right;\">         1</td><td style=\"text-align: right;\">          0</td><td style=\"text-align: right;\">            0</td><td style=\"text-align: right;\">              1</td><td style=\"text-align: right;\">           0</td><td style=\"text-align: right;\">              50000</td><td style=\"text-align: right;\">             0</td><td style=\"text-align: right;\">   50000</td><td style=\"text-align: right;\">     25000</td><td style=\"text-align: right;\">           0</td></tr>\n",
       "<tr><td style=\"text-align: right;\">  0.18696 </td><td style=\"text-align: right;\">   0.211246</td><td style=\"text-align: right;\"> 0.237751</td><td style=\"text-align: right;\"> 0.267432 </td><td style=\"text-align: right;\">       0.214459</td><td style=\"text-align: right;\">       0.245767</td><td style=\"text-align: right;\">    0.174047</td><td style=\"text-align: right;\">      7</td><td style=\"text-align: right;\"> 812990</td><td style=\"text-align: right;\">      1</td><td style=\"text-align: right;\">         1</td><td style=\"text-align: right;\">          2</td><td style=\"text-align: right;\">            1</td><td style=\"text-align: right;\">              0</td><td style=\"text-align: right;\">           1</td><td style=\"text-align: right;\">              38619</td><td style=\"text-align: right;\">             0</td><td style=\"text-align: right;\">   25000</td><td style=\"text-align: right;\">     12500</td><td style=\"text-align: right;\">           1</td></tr>\n",
       "<tr><td style=\"text-align: right;\">  0.191187</td><td style=\"text-align: right;\">   0.215548</td><td style=\"text-align: right;\"> 0.179787</td><td style=\"text-align: right;\"> 0.131502 </td><td style=\"text-align: right;\">       0.169266</td><td style=\"text-align: right;\">       0.242571</td><td style=\"text-align: right;\">    0.170851</td><td style=\"text-align: right;\">      8</td><td style=\"text-align: right;\"> 561421</td><td style=\"text-align: right;\">     10</td><td style=\"text-align: right;\">         1</td><td style=\"text-align: right;\">          1</td><td style=\"text-align: right;\">           11</td><td style=\"text-align: right;\">              1</td><td style=\"text-align: right;\">           1</td><td style=\"text-align: right;\">              32714</td><td style=\"text-align: right;\">             0</td><td style=\"text-align: right;\">   20000</td><td style=\"text-align: right;\">     10000</td><td style=\"text-align: right;\">           1</td></tr>\n",
       "<tr><td style=\"text-align: right;\">  0.124815</td><td style=\"text-align: right;\">   0.165043</td><td style=\"text-align: right;\"> 0.15001 </td><td style=\"text-align: right;\"> 0.168346 </td><td style=\"text-align: right;\">       0.206707</td><td style=\"text-align: right;\">       0.134568</td><td style=\"text-align: right;\">    0.171157</td><td style=\"text-align: right;\">     10</td><td style=\"text-align: right;\">      0</td><td style=\"text-align: right;\">      3</td><td style=\"text-align: right;\">         1</td><td style=\"text-align: right;\">          0</td><td style=\"text-align: right;\">            0</td><td style=\"text-align: right;\">              0</td><td style=\"text-align: right;\">           0</td><td style=\"text-align: right;\">             100000</td><td style=\"text-align: right;\">             0</td><td style=\"text-align: right;\">  100000</td><td style=\"text-align: right;\">     90000</td><td style=\"text-align: right;\">           0</td></tr>\n",
       "<tr><td style=\"text-align: right;\">  0.131862</td><td style=\"text-align: right;\">   0.220024</td><td style=\"text-align: right;\"> 0.202447</td><td style=\"text-align: right;\"> 0.241121 </td><td style=\"text-align: right;\">       0.12979 </td><td style=\"text-align: right;\">       0.141664</td><td style=\"text-align: right;\">    0.174289</td><td style=\"text-align: right;\">     11</td><td style=\"text-align: right;\"> 323110</td><td style=\"text-align: right;\">     18</td><td style=\"text-align: right;\">         1</td><td style=\"text-align: right;\">          0</td><td style=\"text-align: right;\">           18</td><td style=\"text-align: right;\">              1</td><td style=\"text-align: right;\">           1</td><td style=\"text-align: right;\">             500000</td><td style=\"text-align: right;\">             0</td><td style=\"text-align: right;\">  500000</td><td style=\"text-align: right;\">    375000</td><td style=\"text-align: right;\">           0</td></tr>\n",
       "<tr><td style=\"text-align: right;\">  0.165574</td><td style=\"text-align: right;\">   0.176385</td><td style=\"text-align: right;\"> 0.156641</td><td style=\"text-align: right;\"> 0.0545502</td><td style=\"text-align: right;\">       0.138932</td><td style=\"text-align: right;\">       0.133216</td><td style=\"text-align: right;\">    0.169805</td><td style=\"text-align: right;\">     13</td><td style=\"text-align: right;\"> 721110</td><td style=\"text-align: right;\">      1</td><td style=\"text-align: right;\">         1</td><td style=\"text-align: right;\">          0</td><td style=\"text-align: right;\">           15</td><td style=\"text-align: right;\">          22470</td><td style=\"text-align: right;\">           1</td><td style=\"text-align: right;\">             856000</td><td style=\"text-align: right;\">             0</td><td style=\"text-align: right;\">  856000</td><td style=\"text-align: right;\">    856000</td><td style=\"text-align: right;\">           0</td></tr>\n",
       "<tr><td style=\"text-align: right;\">  0.314308</td><td style=\"text-align: right;\">   0.262884</td><td style=\"text-align: right;\"> 0.292315</td><td style=\"text-align: right;\"> 0.19164  </td><td style=\"text-align: right;\">       0.163232</td><td style=\"text-align: right;\">       0.152168</td><td style=\"text-align: right;\">    0.188756</td><td style=\"text-align: right;\">     14</td><td style=\"text-align: right;\">      0</td><td style=\"text-align: right;\">      3</td><td style=\"text-align: right;\">         1</td><td style=\"text-align: right;\">          0</td><td style=\"text-align: right;\">            0</td><td style=\"text-align: right;\">              1</td><td style=\"text-align: right;\">           0</td><td style=\"text-align: right;\">             185100</td><td style=\"text-align: right;\">             0</td><td style=\"text-align: right;\">  185100</td><td style=\"text-align: right;\">    138825</td><td style=\"text-align: right;\">           0</td></tr>\n",
       "</tbody>\n",
       "</table><pre style='font-size: smaller; margin-bottom: 1em;'>[474537 rows x 20 columns]</pre>"
      ],
      "text/plain": [
       "  City_trg    State_trg    Zip_trg    Bank_trg    BankState_trg    RevLineCr_trg    LowDoc_trg    index    NAICS    NoEmp    NewExist    CreateJob    RetainedJob    FranchiseCode    UrbanRural    DisbursementGross    BalanceGross    GrAppv    SBA_Appv    MIS_Status\n",
       "----------  -----------  ---------  ----------  ---------------  ---------------  ------------  -------  -------  -------  ----------  -----------  -------------  ---------------  ------------  -------------------  --------------  --------  ----------  ------------\n",
       "  0.126987     0.120712   0.139442   0.272028          0.219055         0.142054      0.178643        1   722410       20           1            0              0                1             0               137000               0    137000      109737             0\n",
       "  0.174664     0.151453   0.184944   0.169689          0.154122         0.143058      0.088944        4        0        2           2            0              0                1             0                52500               0     52500       42000             0\n",
       "  0.143246     0.1674     0.154439   0.0492481         0.163981         0.152917      0.189506        5   234110        5           1            2              0                1             0                52000               0     52000       52000             0\n",
       "  0.140957     0.166475   0.151315   0.0716009         0.208139         0.244308      0.172588        6   445310        3           1            0              0                1             0                50000               0     50000       25000             0\n",
       "  0.18696      0.211246   0.237751   0.267432          0.214459         0.245767      0.174047        7   812990        1           1            2              1                0             1                38619               0     25000       12500             1\n",
       "  0.191187     0.215548   0.179787   0.131502          0.169266         0.242571      0.170851        8   561421       10           1            1             11                1             1                32714               0     20000       10000             1\n",
       "  0.124815     0.165043   0.15001    0.168346          0.206707         0.134568      0.171157       10        0        3           1            0              0                0             0               100000               0    100000       90000             0\n",
       "  0.131862     0.220024   0.202447   0.241121          0.12979          0.141664      0.174289       11   323110       18           1            0             18                1             1               500000               0    500000      375000             0\n",
       "  0.165574     0.176385   0.156641   0.0545502         0.138932         0.133216      0.169805       13   721110        1           1            0             15            22470             1               856000               0    856000      856000             0\n",
       "  0.314308     0.262884   0.292315   0.19164           0.163232         0.152168      0.188756       14        0        3           1            0              0                1             0               185100               0    185100      138825             0\n",
       "[474537 rows x 20 columns]\n"
      ]
     },
     "execution_count": 86,
     "metadata": {},
     "output_type": "execute_result"
    }
   ],
   "source": [
    "train_te.columns\n",
    "train_te.set_names(['City_trg',\n",
    " 'State_trg',\n",
    " 'Zip_trg',\n",
    " 'Bank_trg',\n",
    " 'BankState_trg',\n",
    " 'RevLineCr_trg',\n",
    " 'LowDoc_trg',\n",
    " 'index',\n",
    " 'NAICS',\n",
    " 'NoEmp',\n",
    " 'NewExist',\n",
    " 'CreateJob',\n",
    " 'RetainedJob',\n",
    " 'FranchiseCode',\n",
    " 'UrbanRural',\n",
    " 'DisbursementGross',\n",
    " 'BalanceGross',\n",
    " 'GrAppv',\n",
    " 'SBA_Appv',\n",
    " 'MIS_Status'])\n",
    "\n"
   ]
  },
  {
   "cell_type": "code",
   "execution_count": 87,
   "id": "729ac35a",
   "metadata": {},
   "outputs": [
    {
     "data": {
      "text/html": [
       "<pre style='margin: 1em 0 1em 0;'>Rows:315621\n",
       "Cols:20\n",
       "</pre>"
      ],
      "text/plain": [
       "Rows:315621\n",
       "Cols:20\n"
      ]
     },
     "metadata": {},
     "output_type": "display_data"
    },
    {
     "data": {
      "text/html": [
       "<table class='dataframe'>\n",
       "<thead>\n",
       "<tr><th>       </th><th>City_te            </th><th>State_te           </th><th>Zip_te             </th><th>Bank_te              </th><th>BankState_te        </th><th>RevLineCr_te       </th><th>LowDoc_te           </th><th>index             </th><th>NAICS             </th><th>NoEmp             </th><th>NewExist           </th><th>CreateJob         </th><th>RetainedJob       </th><th>FranchiseCode     </th><th>UrbanRural        </th><th>DisbursementGross  </th><th>BalanceGross       </th><th>GrAppv            </th><th>SBA_Appv          </th><th>MIS_Status  </th></tr>\n",
       "</thead>\n",
       "<tbody>\n",
       "<tr><td>type   </td><td>real               </td><td>real               </td><td>real               </td><td>real                 </td><td>real                </td><td>real               </td><td>real                </td><td>int               </td><td>int               </td><td>int               </td><td>int                </td><td>int               </td><td>int               </td><td>int               </td><td>int               </td><td>int                </td><td>int                </td><td>int               </td><td>int               </td><td>enum        </td></tr>\n",
       "<tr><td>mins   </td><td>0.05024720470001696</td><td>0.05380293034821343</td><td>0.06008749147900991</td><td>-0.014802214394762049</td><td>0.036433701285499144</td><td>0.0056630764793099 </td><td>0.07576067213791607 </td><td>0.0               </td><td>0.0               </td><td>0.0               </td><td>0.0                </td><td>0.0               </td><td>0.0               </td><td>0.0               </td><td>0.0               </td><td>0.0                </td><td>0.0                </td><td>500.0             </td><td>250.0             </td><td>            </td></tr>\n",
       "<tr><td>mean   </td><td>0.17122785475317606</td><td>0.16991238829948896</td><td>0.16989167830342605</td><td>0.1780098863254843   </td><td>0.1700649134694947  </td><td>0.17024717415255222</td><td>0.17008775628342335 </td><td>404865.50683889835</td><td>397661.55431039125</td><td>11.617607827109095</td><td>1.280149292981139  </td><td>8.44967857018386  </td><td>10.763453635848059</td><td>2793.001676060845 </td><td>0.7534226176331739</td><td>203046.137044113   </td><td>0.48251225362063993</td><td>194972.68876278828</td><td>151408.07665839724</td><td>            </td></tr>\n",
       "<tr><td>maxs   </td><td>0.5944577783589338 </td><td>0.27321426429808676</td><td>0.5950735945205773 </td><td>0.7500141103567881   </td><td>0.3950360129317101  </td><td>0.2681811939052727 </td><td>0.19646181348472405 </td><td>809245.0          </td><td>928120.0          </td><td>9999.0            </td><td>2.0                </td><td>8800.0            </td><td>9500.0            </td><td>92006.0           </td><td>2.0               </td><td>11000000.0         </td><td>115820.0           </td><td>5472000.0         </td><td>5472000.0         </td><td>            </td></tr>\n",
       "<tr><td>sigma  </td><td>0.05939465126600869</td><td>0.04061027767806027</td><td>0.06063917637843517</td><td>0.11272198850025195  </td><td>0.07099408352775508 </td><td>0.0468750716188848 </td><td>0.031273706942326396</td><td>233738.0044641726 </td><td>264436.9373233092 </td><td>79.89326222717797 </td><td>0.45150727076594327</td><td>236.50849575337756</td><td>237.00735375056456</td><td>12847.539470963151</td><td>0.6468671368691081</td><td>289305.45975794806 </td><td>211.55447761437125 </td><td>284875.81384310493</td><td>229003.967947236  </td><td>            </td></tr>\n",
       "<tr><td>zeros  </td><td>0                  </td><td>0                  </td><td>0                  </td><td>0                    </td><td>0                   </td><td>0                  </td><td>0                   </td><td>1                 </td><td>71842             </td><td>2288              </td><td>346                </td><td>220965            </td><td>156099            </td><td>72263             </td><td>114541            </td><td>68                 </td><td>315616             </td><td>0                 </td><td>0                 </td><td>            </td></tr>\n",
       "<tr><td>missing</td><td>0                  </td><td>0                  </td><td>0                  </td><td>0                    </td><td>0                   </td><td>0                  </td><td>0                   </td><td>0                 </td><td>0                 </td><td>0                 </td><td>0                  </td><td>0                 </td><td>0                 </td><td>0                 </td><td>0                 </td><td>0                  </td><td>0                  </td><td>0                 </td><td>0                 </td><td>0           </td></tr>\n",
       "<tr><td>0      </td><td>0.1803810180100757 </td><td>0.18898322749003973</td><td>0.2218073926331766 </td><td>0.02278680182433487  </td><td>0.3772216264447029  </td><td>0.14601803503889063</td><td>0.17864290658145712 </td><td>0.0               </td><td>811111.0          </td><td>7.0               </td><td>1.0                </td><td>6.0               </td><td>7.0               </td><td>1.0               </td><td>1.0               </td><td>743000.0           </td><td>0.0                </td><td>743000.0          </td><td>743000.0          </td><td>0           </td></tr>\n",
       "<tr><td>1      </td><td>0.14267848930183266</td><td>0.17353252947911119</td><td>0.17723627607274908</td><td>0.25153615035038823  </td><td>0.1697945152649029  </td><td>0.14702136717695216</td><td>0.17964623871951865 </td><td>2.0               </td><td>0.0               </td><td>2.0               </td><td>1.0                </td><td>0.0               </td><td>0.0               </td><td>1.0               </td><td>0.0               </td><td>280000.0           </td><td>0.0                </td><td>280000.0          </td><td>210000.0          </td><td>0           </td></tr>\n",
       "<tr><td>2      </td><td>0.17313440440477498</td><td>0.13061060531493052</td><td>0.1578526882435564 </td><td>0.1143247542476234   </td><td>0.07019194146117655 </td><td>0.1568809118117712 </td><td>0.09880352263230083 </td><td>3.0               </td><td>621310.0          </td><td>7.0               </td><td>1.0                </td><td>0.0               </td><td>0.0               </td><td>1.0               </td><td>1.0               </td><td>144500.0           </td><td>0.0                </td><td>144500.0          </td><td>122825.0          </td><td>0           </td></tr>\n",
       "<tr><td>3      </td><td>0.1476433897426888 </td><td>0.16647462905033922</td><td>0.10333544805584023</td><td>0.19422076190451626  </td><td>0.20813890161942666 </td><td>0.24430848582307357</td><td>0.17258833829074668 </td><td>9.0               </td><td>541512.0          </td><td>4.0               </td><td>1.0                </td><td>4.0               </td><td>4.0               </td><td>1.0               </td><td>1.0               </td><td>90055.0            </td><td>0.0                </td><td>50000.0           </td><td>25000.0           </td><td>0           </td></tr>\n",
       "<tr><td>4      </td><td>0.11356507965085529</td><td>0.21124559510812213</td><td>0.22017322237422432</td><td>0.16852416375565232  </td><td>0.21445851205527988 </td><td>0.2457668869070198 </td><td>0.17404673937469292 </td><td>15.0              </td><td>453910.0          </td><td>5.0               </td><td>2.0                </td><td>0.0               </td><td>5.0               </td><td>65152.0           </td><td>1.0               </td><td>10000.0            </td><td>0.0                </td><td>10000.0           </td><td>5000.0            </td><td>0           </td></tr>\n",
       "<tr><td>5      </td><td>0.0837426195000617 </td><td>0.11291929804718397</td><td>0.07525925010903586</td><td>0.07511756076865041  </td><td>0.10757012134254672 </td><td>0.13426191394493325</td><td>0.08014829044121502 </td><td>17.0              </td><td>235110.0          </td><td>1.0               </td><td>2.0                </td><td>0.0               </td><td>0.0               </td><td>1.0               </td><td>0.0               </td><td>43085.0            </td><td>0.0                </td><td>43085.0           </td><td>38777.0           </td><td>0           </td></tr>\n",
       "<tr><td>6      </td><td>0.12876534650030355</td><td>0.11914652985428745</td><td>0.12701369817212227</td><td>0.05902661067386413  </td><td>0.08401880036291147 </td><td>0.13456819718048318</td><td>0.1711568343988018  </td><td>18.0              </td><td>0.0               </td><td>25.0              </td><td>1.0                </td><td>15.0              </td><td>0.0               </td><td>1.0               </td><td>0.0               </td><td>538000.0           </td><td>0.0                </td><td>538000.0          </td><td>538000.0          </td><td>0           </td></tr>\n",
       "<tr><td>7      </td><td>0.19751858510498868</td><td>0.1294009860788441 </td><td>0.19751858510498868</td><td>0.13494004984961172  </td><td>0.17270437734238725 </td><td>0.14166381917852383</td><td>0.08358642999905345 </td><td>19.0              </td><td>541110.0          </td><td>2.0               </td><td>2.0                </td><td>0.0               </td><td>0.0               </td><td>1.0               </td><td>1.0               </td><td>15600.0            </td><td>0.0                </td><td>15600.0           </td><td>12480.0           </td><td>0           </td></tr>\n",
       "<tr><td>8      </td><td>0.13283721587482308</td><td>0.1636912560521016 </td><td>0.2206155206426105 </td><td>0.5379653284991747   </td><td>0.20535552862118905 </td><td>0.13718009374994258</td><td>0.16980496529250907 </td><td>20.0              </td><td>446120.0          </td><td>1.0               </td><td>2.0                </td><td>1.0               </td><td>1.0               </td><td>1.0               </td><td>1.0               </td><td>5000.0             </td><td>0.0                </td><td>5000.0            </td><td>4250.0            </td><td>0           </td></tr>\n",
       "<tr><td>9      </td><td>0.1434828955268072 </td><td>0.18264247894867752</td><td>0.27180992402797055</td><td>0.0074674285543422595</td><td>0.22430675151776497 </td><td>0.1561313166465185 </td><td>0.188756188189085   </td><td>21.0              </td><td>421210.0          </td><td>11.0              </td><td>1.0                </td><td>20.0              </td><td>11.0              </td><td>1.0               </td><td>1.0               </td><td>628000.0           </td><td>0.0                </td><td>628000.0          </td><td>628000.0          </td><td>0           </td></tr>\n",
       "</tbody>\n",
       "</table><pre style='font-size: smaller; margin-bottom: 1em;'>[315621 rows x 20 columns]</pre>"
      ],
      "text/plain": [
       "         City_te              State_te             Zip_te               Bank_te                BankState_te          RevLineCr_te         LowDoc_te             index               NAICS               NoEmp               NewExist             CreateJob           RetainedJob         FranchiseCode       UrbanRural          DisbursementGross    BalanceGross         GrAppv              SBA_Appv            MIS_Status\n",
       "-------  -------------------  -------------------  -------------------  ---------------------  --------------------  -------------------  --------------------  ------------------  ------------------  ------------------  -------------------  ------------------  ------------------  ------------------  ------------------  -------------------  -------------------  ------------------  ------------------  ------------\n",
       "type     real                 real                 real                 real                   real                  real                 real                  int                 int                 int                 int                  int                 int                 int                 int                 int                  int                  int                 int                 enum\n",
       "mins     0.05024720470001696  0.05380293034821343  0.06008749147900991  -0.014802214394762049  0.036433701285499144  0.0056630764793099   0.07576067213791607   0.0                 0.0                 0.0                 0.0                  0.0                 0.0                 0.0                 0.0                 0.0                  0.0                  500.0               250.0\n",
       "mean     0.17122785475317606  0.16991238829948896  0.16989167830342605  0.1780098863254843     0.1700649134694947    0.17024717415255222  0.17008775628342335   404865.50683889835  397661.55431039125  11.617607827109095  1.280149292981139    8.44967857018386    10.763453635848059  2793.001676060845   0.7534226176331739  203046.137044113     0.48251225362063993  194972.68876278828  151408.07665839724\n",
       "maxs     0.5944577783589338   0.27321426429808676  0.5950735945205773   0.7500141103567881     0.3950360129317101    0.2681811939052727   0.19646181348472405   809245.0            928120.0            9999.0              2.0                  8800.0              9500.0              92006.0             2.0                 11000000.0           115820.0             5472000.0           5472000.0\n",
       "sigma    0.05939465126600869  0.04061027767806027  0.06063917637843517  0.11272198850025195    0.07099408352775508   0.0468750716188848   0.031273706942326396  233738.0044641726   264436.9373233092   79.89326222717797   0.45150727076594327  236.50849575337756  237.00735375056456  12847.539470963151  0.6468671368691081  289305.45975794806   211.55447761437125   284875.81384310493  229003.967947236\n",
       "zeros    0                    0                    0                    0                      0                     0                    0                     1                   71842               2288                346                  220965              156099              72263               114541              68                   315616               0                   0\n",
       "missing  0                    0                    0                    0                      0                     0                    0                     0                   0                   0                   0                    0                   0                   0                   0                   0                    0                    0                   0                   0\n",
       "0        0.1803810180100757   0.18898322749003973  0.2218073926331766   0.02278680182433487    0.3772216264447029    0.14601803503889063  0.17864290658145712   0.0                 811111.0            7.0                 1.0                  6.0                 7.0                 1.0                 1.0                 743000.0             0.0                  743000.0            743000.0            0\n",
       "1        0.14267848930183266  0.17353252947911119  0.17723627607274908  0.25153615035038823    0.1697945152649029    0.14702136717695216  0.17964623871951865   2.0                 0.0                 2.0                 1.0                  0.0                 0.0                 1.0                 0.0                 280000.0             0.0                  280000.0            210000.0            0\n",
       "2        0.17313440440477498  0.13061060531493052  0.1578526882435564   0.1143247542476234     0.07019194146117655   0.1568809118117712   0.09880352263230083   3.0                 621310.0            7.0                 1.0                  0.0                 0.0                 1.0                 1.0                 144500.0             0.0                  144500.0            122825.0            0\n",
       "3        0.1476433897426888   0.16647462905033922  0.10333544805584023  0.19422076190451626    0.20813890161942666   0.24430848582307357  0.17258833829074668   9.0                 541512.0            4.0                 1.0                  4.0                 4.0                 1.0                 1.0                 90055.0              0.0                  50000.0             25000.0             0\n",
       "4        0.11356507965085529  0.21124559510812213  0.22017322237422432  0.16852416375565232    0.21445851205527988   0.2457668869070198   0.17404673937469292   15.0                453910.0            5.0                 2.0                  0.0                 5.0                 65152.0             1.0                 10000.0              0.0                  10000.0             5000.0              0\n",
       "5        0.0837426195000617   0.11291929804718397  0.07525925010903586  0.07511756076865041    0.10757012134254672   0.13426191394493325  0.08014829044121502   17.0                235110.0            1.0                 2.0                  0.0                 0.0                 1.0                 0.0                 43085.0              0.0                  43085.0             38777.0             0\n",
       "6        0.12876534650030355  0.11914652985428745  0.12701369817212227  0.05902661067386413    0.08401880036291147   0.13456819718048318  0.1711568343988018    18.0                0.0                 25.0                1.0                  15.0                0.0                 1.0                 0.0                 538000.0             0.0                  538000.0            538000.0            0\n",
       "7        0.19751858510498868  0.1294009860788441   0.19751858510498868  0.13494004984961172    0.17270437734238725   0.14166381917852383  0.08358642999905345   19.0                541110.0            2.0                 2.0                  0.0                 0.0                 1.0                 1.0                 15600.0              0.0                  15600.0             12480.0             0\n",
       "8        0.13283721587482308  0.1636912560521016   0.2206155206426105   0.5379653284991747     0.20535552862118905   0.13718009374994258  0.16980496529250907   20.0                446120.0            1.0                 2.0                  1.0                 1.0                 1.0                 1.0                 5000.0               0.0                  5000.0              4250.0              0\n",
       "9        0.1434828955268072   0.18264247894867752  0.27180992402797055  0.0074674285543422595  0.22430675151776497   0.1561313166465185   0.188756188189085     21.0                421210.0            11.0                1.0                  20.0                11.0                1.0                 1.0                 628000.0             0.0                  628000.0            628000.0            0\n",
       "[315621 rows x 20 columns]\n"
      ]
     },
     "metadata": {},
     "output_type": "display_data"
    }
   ],
   "source": [
    "test_te.describe()"
   ]
  },
  {
   "cell_type": "code",
   "execution_count": 88,
   "id": "9a8d349b",
   "metadata": {},
   "outputs": [
    {
     "data": {
      "text/html": [
       "<table class='dataframe'>\n",
       "<thead>\n",
       "<tr><th style=\"text-align: right;\">  City_trg</th><th style=\"text-align: right;\">  State_trg</th><th style=\"text-align: right;\">  Zip_trg</th><th style=\"text-align: right;\">  Bank_trg</th><th style=\"text-align: right;\">  BankState_trg</th><th style=\"text-align: right;\">  RevLineCr_trg</th><th style=\"text-align: right;\">  LowDoc_trg</th><th style=\"text-align: right;\">  index</th><th style=\"text-align: right;\">  NAICS</th><th style=\"text-align: right;\">  NoEmp</th><th style=\"text-align: right;\">  NewExist</th><th style=\"text-align: right;\">  CreateJob</th><th style=\"text-align: right;\">  RetainedJob</th><th style=\"text-align: right;\">  FranchiseCode</th><th style=\"text-align: right;\">  UrbanRural</th><th style=\"text-align: right;\">  DisbursementGross</th><th style=\"text-align: right;\">  BalanceGross</th><th style=\"text-align: right;\">  GrAppv</th><th style=\"text-align: right;\">  SBA_Appv</th><th style=\"text-align: right;\">  MIS_Status</th></tr>\n",
       "</thead>\n",
       "<tbody>\n",
       "<tr><td style=\"text-align: right;\"> 0.180381 </td><td style=\"text-align: right;\">   0.188983</td><td style=\"text-align: right;\">0.221807 </td><td style=\"text-align: right;\">0.0227868 </td><td style=\"text-align: right;\">      0.377222 </td><td style=\"text-align: right;\">       0.146018</td><td style=\"text-align: right;\">   0.178643 </td><td style=\"text-align: right;\">      0</td><td style=\"text-align: right;\"> 811111</td><td style=\"text-align: right;\">      7</td><td style=\"text-align: right;\">         1</td><td style=\"text-align: right;\">          6</td><td style=\"text-align: right;\">            7</td><td style=\"text-align: right;\">              1</td><td style=\"text-align: right;\">           1</td><td style=\"text-align: right;\">             743000</td><td style=\"text-align: right;\">             0</td><td style=\"text-align: right;\">  743000</td><td style=\"text-align: right;\">    743000</td><td style=\"text-align: right;\">           0</td></tr>\n",
       "<tr><td style=\"text-align: right;\"> 0.142678 </td><td style=\"text-align: right;\">   0.173533</td><td style=\"text-align: right;\">0.177236 </td><td style=\"text-align: right;\">0.251536  </td><td style=\"text-align: right;\">      0.169795 </td><td style=\"text-align: right;\">       0.147021</td><td style=\"text-align: right;\">   0.179646 </td><td style=\"text-align: right;\">      2</td><td style=\"text-align: right;\">      0</td><td style=\"text-align: right;\">      2</td><td style=\"text-align: right;\">         1</td><td style=\"text-align: right;\">          0</td><td style=\"text-align: right;\">            0</td><td style=\"text-align: right;\">              1</td><td style=\"text-align: right;\">           0</td><td style=\"text-align: right;\">             280000</td><td style=\"text-align: right;\">             0</td><td style=\"text-align: right;\">  280000</td><td style=\"text-align: right;\">    210000</td><td style=\"text-align: right;\">           0</td></tr>\n",
       "<tr><td style=\"text-align: right;\"> 0.173134 </td><td style=\"text-align: right;\">   0.130611</td><td style=\"text-align: right;\">0.157853 </td><td style=\"text-align: right;\">0.114325  </td><td style=\"text-align: right;\">      0.0701919</td><td style=\"text-align: right;\">       0.156881</td><td style=\"text-align: right;\">   0.0988035</td><td style=\"text-align: right;\">      3</td><td style=\"text-align: right;\"> 621310</td><td style=\"text-align: right;\">      7</td><td style=\"text-align: right;\">         1</td><td style=\"text-align: right;\">          0</td><td style=\"text-align: right;\">            0</td><td style=\"text-align: right;\">              1</td><td style=\"text-align: right;\">           1</td><td style=\"text-align: right;\">             144500</td><td style=\"text-align: right;\">             0</td><td style=\"text-align: right;\">  144500</td><td style=\"text-align: right;\">    122825</td><td style=\"text-align: right;\">           0</td></tr>\n",
       "<tr><td style=\"text-align: right;\"> 0.147643 </td><td style=\"text-align: right;\">   0.166475</td><td style=\"text-align: right;\">0.103335 </td><td style=\"text-align: right;\">0.194221  </td><td style=\"text-align: right;\">      0.208139 </td><td style=\"text-align: right;\">       0.244308</td><td style=\"text-align: right;\">   0.172588 </td><td style=\"text-align: right;\">      9</td><td style=\"text-align: right;\"> 541512</td><td style=\"text-align: right;\">      4</td><td style=\"text-align: right;\">         1</td><td style=\"text-align: right;\">          4</td><td style=\"text-align: right;\">            4</td><td style=\"text-align: right;\">              1</td><td style=\"text-align: right;\">           1</td><td style=\"text-align: right;\">              90055</td><td style=\"text-align: right;\">             0</td><td style=\"text-align: right;\">   50000</td><td style=\"text-align: right;\">     25000</td><td style=\"text-align: right;\">           0</td></tr>\n",
       "<tr><td style=\"text-align: right;\"> 0.113565 </td><td style=\"text-align: right;\">   0.211246</td><td style=\"text-align: right;\">0.220173 </td><td style=\"text-align: right;\">0.168524  </td><td style=\"text-align: right;\">      0.214459 </td><td style=\"text-align: right;\">       0.245767</td><td style=\"text-align: right;\">   0.174047 </td><td style=\"text-align: right;\">     15</td><td style=\"text-align: right;\"> 453910</td><td style=\"text-align: right;\">      5</td><td style=\"text-align: right;\">         2</td><td style=\"text-align: right;\">          0</td><td style=\"text-align: right;\">            5</td><td style=\"text-align: right;\">          65152</td><td style=\"text-align: right;\">           1</td><td style=\"text-align: right;\">              10000</td><td style=\"text-align: right;\">             0</td><td style=\"text-align: right;\">   10000</td><td style=\"text-align: right;\">      5000</td><td style=\"text-align: right;\">           0</td></tr>\n",
       "<tr><td style=\"text-align: right;\"> 0.0837426</td><td style=\"text-align: right;\">   0.112919</td><td style=\"text-align: right;\">0.0752593</td><td style=\"text-align: right;\">0.0751176 </td><td style=\"text-align: right;\">      0.10757  </td><td style=\"text-align: right;\">       0.134262</td><td style=\"text-align: right;\">   0.0801483</td><td style=\"text-align: right;\">     17</td><td style=\"text-align: right;\"> 235110</td><td style=\"text-align: right;\">      1</td><td style=\"text-align: right;\">         2</td><td style=\"text-align: right;\">          0</td><td style=\"text-align: right;\">            0</td><td style=\"text-align: right;\">              1</td><td style=\"text-align: right;\">           0</td><td style=\"text-align: right;\">              43085</td><td style=\"text-align: right;\">             0</td><td style=\"text-align: right;\">   43085</td><td style=\"text-align: right;\">     38777</td><td style=\"text-align: right;\">           0</td></tr>\n",
       "<tr><td style=\"text-align: right;\"> 0.128765 </td><td style=\"text-align: right;\">   0.119147</td><td style=\"text-align: right;\">0.127014 </td><td style=\"text-align: right;\">0.0590266 </td><td style=\"text-align: right;\">      0.0840188</td><td style=\"text-align: right;\">       0.134568</td><td style=\"text-align: right;\">   0.171157 </td><td style=\"text-align: right;\">     18</td><td style=\"text-align: right;\">      0</td><td style=\"text-align: right;\">     25</td><td style=\"text-align: right;\">         1</td><td style=\"text-align: right;\">         15</td><td style=\"text-align: right;\">            0</td><td style=\"text-align: right;\">              1</td><td style=\"text-align: right;\">           0</td><td style=\"text-align: right;\">             538000</td><td style=\"text-align: right;\">             0</td><td style=\"text-align: right;\">  538000</td><td style=\"text-align: right;\">    538000</td><td style=\"text-align: right;\">           0</td></tr>\n",
       "<tr><td style=\"text-align: right;\"> 0.197519 </td><td style=\"text-align: right;\">   0.129401</td><td style=\"text-align: right;\">0.197519 </td><td style=\"text-align: right;\">0.13494   </td><td style=\"text-align: right;\">      0.172704 </td><td style=\"text-align: right;\">       0.141664</td><td style=\"text-align: right;\">   0.0835864</td><td style=\"text-align: right;\">     19</td><td style=\"text-align: right;\"> 541110</td><td style=\"text-align: right;\">      2</td><td style=\"text-align: right;\">         2</td><td style=\"text-align: right;\">          0</td><td style=\"text-align: right;\">            0</td><td style=\"text-align: right;\">              1</td><td style=\"text-align: right;\">           1</td><td style=\"text-align: right;\">              15600</td><td style=\"text-align: right;\">             0</td><td style=\"text-align: right;\">   15600</td><td style=\"text-align: right;\">     12480</td><td style=\"text-align: right;\">           0</td></tr>\n",
       "<tr><td style=\"text-align: right;\"> 0.132837 </td><td style=\"text-align: right;\">   0.163691</td><td style=\"text-align: right;\">0.220616 </td><td style=\"text-align: right;\">0.537965  </td><td style=\"text-align: right;\">      0.205356 </td><td style=\"text-align: right;\">       0.13718 </td><td style=\"text-align: right;\">   0.169805 </td><td style=\"text-align: right;\">     20</td><td style=\"text-align: right;\"> 446120</td><td style=\"text-align: right;\">      1</td><td style=\"text-align: right;\">         2</td><td style=\"text-align: right;\">          1</td><td style=\"text-align: right;\">            1</td><td style=\"text-align: right;\">              1</td><td style=\"text-align: right;\">           1</td><td style=\"text-align: right;\">               5000</td><td style=\"text-align: right;\">             0</td><td style=\"text-align: right;\">    5000</td><td style=\"text-align: right;\">      4250</td><td style=\"text-align: right;\">           0</td></tr>\n",
       "<tr><td style=\"text-align: right;\"> 0.143483 </td><td style=\"text-align: right;\">   0.182642</td><td style=\"text-align: right;\">0.27181  </td><td style=\"text-align: right;\">0.00746743</td><td style=\"text-align: right;\">      0.224307 </td><td style=\"text-align: right;\">       0.156131</td><td style=\"text-align: right;\">   0.188756 </td><td style=\"text-align: right;\">     21</td><td style=\"text-align: right;\"> 421210</td><td style=\"text-align: right;\">     11</td><td style=\"text-align: right;\">         1</td><td style=\"text-align: right;\">         20</td><td style=\"text-align: right;\">           11</td><td style=\"text-align: right;\">              1</td><td style=\"text-align: right;\">           1</td><td style=\"text-align: right;\">             628000</td><td style=\"text-align: right;\">             0</td><td style=\"text-align: right;\">  628000</td><td style=\"text-align: right;\">    628000</td><td style=\"text-align: right;\">           0</td></tr>\n",
       "</tbody>\n",
       "</table><pre style='font-size: smaller; margin-bottom: 1em;'>[315621 rows x 20 columns]</pre>"
      ],
      "text/plain": [
       "  City_trg    State_trg    Zip_trg    Bank_trg    BankState_trg    RevLineCr_trg    LowDoc_trg    index    NAICS    NoEmp    NewExist    CreateJob    RetainedJob    FranchiseCode    UrbanRural    DisbursementGross    BalanceGross    GrAppv    SBA_Appv    MIS_Status\n",
       "----------  -----------  ---------  ----------  ---------------  ---------------  ------------  -------  -------  -------  ----------  -----------  -------------  ---------------  ------------  -------------------  --------------  --------  ----------  ------------\n",
       " 0.180381      0.188983  0.221807   0.0227868         0.377222          0.146018     0.178643         0   811111        7           1            6              7                1             1               743000               0    743000      743000             0\n",
       " 0.142678      0.173533  0.177236   0.251536          0.169795          0.147021     0.179646         2        0        2           1            0              0                1             0               280000               0    280000      210000             0\n",
       " 0.173134      0.130611  0.157853   0.114325          0.0701919         0.156881     0.0988035        3   621310        7           1            0              0                1             1               144500               0    144500      122825             0\n",
       " 0.147643      0.166475  0.103335   0.194221          0.208139          0.244308     0.172588         9   541512        4           1            4              4                1             1                90055               0     50000       25000             0\n",
       " 0.113565      0.211246  0.220173   0.168524          0.214459          0.245767     0.174047        15   453910        5           2            0              5            65152             1                10000               0     10000        5000             0\n",
       " 0.0837426     0.112919  0.0752593  0.0751176         0.10757           0.134262     0.0801483       17   235110        1           2            0              0                1             0                43085               0     43085       38777             0\n",
       " 0.128765      0.119147  0.127014   0.0590266         0.0840188         0.134568     0.171157        18        0       25           1           15              0                1             0               538000               0    538000      538000             0\n",
       " 0.197519      0.129401  0.197519   0.13494           0.172704          0.141664     0.0835864       19   541110        2           2            0              0                1             1                15600               0     15600       12480             0\n",
       " 0.132837      0.163691  0.220616   0.537965          0.205356          0.13718      0.169805        20   446120        1           2            1              1                1             1                 5000               0      5000        4250             0\n",
       " 0.143483      0.182642  0.27181    0.00746743        0.224307          0.156131     0.188756        21   421210       11           1           20             11                1             1               628000               0    628000      628000             0\n",
       "[315621 rows x 20 columns]\n"
      ]
     },
     "execution_count": 88,
     "metadata": {},
     "output_type": "execute_result"
    }
   ],
   "source": [
    "test_te.columns\n",
    "test_te.set_names(['City_trg',\n",
    " 'State_trg',\n",
    " 'Zip_trg',\n",
    " 'Bank_trg',\n",
    " 'BankState_trg',\n",
    " 'RevLineCr_trg',\n",
    " 'LowDoc_trg',\n",
    " 'index',\n",
    " 'NAICS',\n",
    " 'NoEmp',\n",
    " 'NewExist',\n",
    " 'CreateJob',\n",
    " 'RetainedJob',\n",
    " 'FranchiseCode',\n",
    " 'UrbanRural',\n",
    " 'DisbursementGross',\n",
    " 'BalanceGross',\n",
    " 'GrAppv',\n",
    " 'SBA_Appv',\n",
    " 'MIS_Status'])"
   ]
  },
  {
   "cell_type": "code",
   "execution_count": 90,
   "id": "5945299c",
   "metadata": {},
   "outputs": [],
   "source": [
    "# Prepare predictors and response columns\n",
    "data_X = train_te.columns\n",
    "data_y = \"MIS_Status\"\n",
    "data_X.remove(data_y) "
   ]
  },
  {
   "cell_type": "markdown",
   "id": "6bc10816",
   "metadata": {},
   "source": [
    "## First Classification GLM Model\n",
    " This is a Binomial problem, so lets begin by creating our first GLM Binomial model\n",
    " We use the Limited-memory Broyden–Fletcher–Goldfarb–Shanno (L-BFGS) algorithm to ensure that this demo can be run in almost all environments."
   ]
  },
  {
   "cell_type": "code",
   "execution_count": 92,
   "id": "21d3b896",
   "metadata": {},
   "outputs": [],
   "source": [
    "from h2o.estimators.glm import H2OGeneralizedLinearEstimator\n",
    "\n",
    "glm_binom_v1 = H2OGeneralizedLinearEstimator(\n",
    "                    model_id=\"glm_v3\",\n",
    "                    solver=\"l_bfgs\",\n",
    "                    family=\"binomial\",\n",
    "                    stopping_metric=\"aucpr\",\n",
    "                    standardize=True)"
   ]
  },
  {
   "cell_type": "code",
   "execution_count": 93,
   "id": "6dfa9775",
   "metadata": {},
   "outputs": [
    {
     "name": "stdout",
     "output_type": "stream",
     "text": [
      "glm Model Build progress: |"
     ]
    },
    {
     "name": "stdout",
     "output_type": "stream",
     "text": [
      "██████████████████████████████████████████████████████| (done) 100%\n"
     ]
    },
    {
     "data": {
      "text/html": [
       "\n",
       "<style>\n",
       "\n",
       "#h2o-table-37.h2o-container {\n",
       "  overflow-x: auto;\n",
       "}\n",
       "#h2o-table-37 .h2o-table {\n",
       "  /* width: 100%; */\n",
       "  margin-top: 1em;\n",
       "  margin-bottom: 1em;\n",
       "}\n",
       "#h2o-table-37 .h2o-table caption {\n",
       "  white-space: nowrap;\n",
       "  caption-side: top;\n",
       "  text-align: left;\n",
       "  /* margin-left: 1em; */\n",
       "  margin: 0;\n",
       "  font-size: larger;\n",
       "}\n",
       "#h2o-table-37 .h2o-table thead {\n",
       "  white-space: nowrap; \n",
       "  position: sticky;\n",
       "  top: 0;\n",
       "  box-shadow: 0 -1px inset;\n",
       "}\n",
       "#h2o-table-37 .h2o-table tbody {\n",
       "  overflow: auto;\n",
       "}\n",
       "#h2o-table-37 .h2o-table th,\n",
       "#h2o-table-37 .h2o-table td {\n",
       "  text-align: right;\n",
       "  /* border: 1px solid; */\n",
       "}\n",
       "#h2o-table-37 .h2o-table tr:nth-child(even) {\n",
       "  /* background: #F5F5F5 */\n",
       "}\n",
       "\n",
       "</style>      \n",
       "<div id=\"h2o-table-37\" class=\"h2o-container\">\n",
       "  <table class=\"h2o-table\">\n",
       "    <caption>GLM Model: summary</caption>\n",
       "    <thead><tr><th></th>\n",
       "<th>family</th>\n",
       "<th>link</th>\n",
       "<th>regularization</th>\n",
       "<th>number_of_predictors_total</th>\n",
       "<th>number_of_active_predictors</th>\n",
       "<th>number_of_iterations</th>\n",
       "<th>training_frame</th></tr></thead>\n",
       "    <tbody><tr><td></td>\n",
       "<td>binomial</td>\n",
       "<td>logit</td>\n",
       "<td>Ridge ( lambda = 1.245E-4 )</td>\n",
       "<td>19</td>\n",
       "<td>19</td>\n",
       "<td>8</td>\n",
       "<td>py_89_sid_9ce1</td></tr></tbody>\n",
       "  </table>\n",
       "</div>\n"
      ],
      "text/plain": [
       "GLM Model: summary\n",
       "    family    link    regularization               number_of_predictors_total    number_of_active_predictors    number_of_iterations    training_frame\n",
       "--  --------  ------  ---------------------------  ----------------------------  -----------------------------  ----------------------  ----------------\n",
       "    binomial  logit   Ridge ( lambda = 1.245E-4 )  19                            19                             8                       py_89_sid_9ce1"
      ]
     },
     "execution_count": 93,
     "metadata": {},
     "output_type": "execute_result"
    }
   ],
   "source": [
    "glm_binom_v1.train(x=data_X, y=data_y, training_frame=train_te);\n",
    "glm_binom_v1.summary()"
   ]
  },
  {
   "cell_type": "code",
   "execution_count": 94,
   "id": "c05dfa24",
   "metadata": {},
   "outputs": [
    {
     "data": {
      "text/html": [
       "<pre style='margin: 1em 0 1em 0;'>ModelMetricsBinomialGLM: glm\n",
       "** Reported on test data. **\n",
       "\n",
       "MSE: 0.12818605686114784\n",
       "RMSE: 0.358030804346704\n",
       "LogLoss: 0.4134600645217923\n",
       "AUC: 0.7325938132903483\n",
       "AUCPR: 0.37233309164729506\n",
       "Gini: 0.4651876265806967\n",
       "Null degrees of freedom: 315620\n",
       "Residual degrees of freedom: 315601\n",
       "Null deviance: 288549.5345960248\n",
       "Residual deviance: 260993.35804886516\n",
       "AIC: 261033.35804886516</pre>\n",
       "<div style='margin: 1em 0 1em 0;'>\n",
       "<style>\n",
       "\n",
       "#h2o-table-38.h2o-container {\n",
       "  overflow-x: auto;\n",
       "}\n",
       "#h2o-table-38 .h2o-table {\n",
       "  /* width: 100%; */\n",
       "  margin-top: 1em;\n",
       "  margin-bottom: 1em;\n",
       "}\n",
       "#h2o-table-38 .h2o-table caption {\n",
       "  white-space: nowrap;\n",
       "  caption-side: top;\n",
       "  text-align: left;\n",
       "  /* margin-left: 1em; */\n",
       "  margin: 0;\n",
       "  font-size: larger;\n",
       "}\n",
       "#h2o-table-38 .h2o-table thead {\n",
       "  white-space: nowrap; \n",
       "  position: sticky;\n",
       "  top: 0;\n",
       "  box-shadow: 0 -1px inset;\n",
       "}\n",
       "#h2o-table-38 .h2o-table tbody {\n",
       "  overflow: auto;\n",
       "}\n",
       "#h2o-table-38 .h2o-table th,\n",
       "#h2o-table-38 .h2o-table td {\n",
       "  text-align: right;\n",
       "  /* border: 1px solid; */\n",
       "}\n",
       "#h2o-table-38 .h2o-table tr:nth-child(even) {\n",
       "  /* background: #F5F5F5 */\n",
       "}\n",
       "\n",
       "</style>      \n",
       "<div id=\"h2o-table-38\" class=\"h2o-container\">\n",
       "  <table class=\"h2o-table\">\n",
       "    <caption>Confusion Matrix (Act/Pred) for max f1 @ threshold = 0.18971920421108096</caption>\n",
       "    <thead><tr><th></th>\n",
       "<th>0</th>\n",
       "<th>1</th>\n",
       "<th>Error</th>\n",
       "<th>Rate</th></tr></thead>\n",
       "    <tbody><tr><td>0</td>\n",
       "<td>201427.0</td>\n",
       "<td>60294.0</td>\n",
       "<td>0.2304</td>\n",
       "<td> (60294.0/261721.0)</td></tr>\n",
       "<tr><td>1</td>\n",
       "<td>23967.0</td>\n",
       "<td>29933.0</td>\n",
       "<td>0.4447</td>\n",
       "<td> (23967.0/53900.0)</td></tr>\n",
       "<tr><td>Total</td>\n",
       "<td>225394.0</td>\n",
       "<td>90227.0</td>\n",
       "<td>0.267</td>\n",
       "<td> (84261.0/315621.0)</td></tr></tbody>\n",
       "  </table>\n",
       "</div>\n",
       "</div>\n",
       "<div style='margin: 1em 0 1em 0;'>\n",
       "<style>\n",
       "\n",
       "#h2o-table-39.h2o-container {\n",
       "  overflow-x: auto;\n",
       "}\n",
       "#h2o-table-39 .h2o-table {\n",
       "  /* width: 100%; */\n",
       "  margin-top: 1em;\n",
       "  margin-bottom: 1em;\n",
       "}\n",
       "#h2o-table-39 .h2o-table caption {\n",
       "  white-space: nowrap;\n",
       "  caption-side: top;\n",
       "  text-align: left;\n",
       "  /* margin-left: 1em; */\n",
       "  margin: 0;\n",
       "  font-size: larger;\n",
       "}\n",
       "#h2o-table-39 .h2o-table thead {\n",
       "  white-space: nowrap; \n",
       "  position: sticky;\n",
       "  top: 0;\n",
       "  box-shadow: 0 -1px inset;\n",
       "}\n",
       "#h2o-table-39 .h2o-table tbody {\n",
       "  overflow: auto;\n",
       "}\n",
       "#h2o-table-39 .h2o-table th,\n",
       "#h2o-table-39 .h2o-table td {\n",
       "  text-align: right;\n",
       "  /* border: 1px solid; */\n",
       "}\n",
       "#h2o-table-39 .h2o-table tr:nth-child(even) {\n",
       "  /* background: #F5F5F5 */\n",
       "}\n",
       "\n",
       "</style>      \n",
       "<div id=\"h2o-table-39\" class=\"h2o-container\">\n",
       "  <table class=\"h2o-table\">\n",
       "    <caption>Maximum Metrics: Maximum metrics at their respective thresholds</caption>\n",
       "    <thead><tr><th>metric</th>\n",
       "<th>threshold</th>\n",
       "<th>value</th>\n",
       "<th>idx</th></tr></thead>\n",
       "    <tbody><tr><td>max f1</td>\n",
       "<td>0.1897192</td>\n",
       "<td>0.4153698</td>\n",
       "<td>249.0</td></tr>\n",
       "<tr><td>max f2</td>\n",
       "<td>0.0865748</td>\n",
       "<td>0.5611124</td>\n",
       "<td>329.0</td></tr>\n",
       "<tr><td>max f0point5</td>\n",
       "<td>0.3721408</td>\n",
       "<td>0.4042064</td>\n",
       "<td>158.0</td></tr>\n",
       "<tr><td>max accuracy</td>\n",
       "<td>0.6339003</td>\n",
       "<td>0.8333413</td>\n",
       "<td>73.0</td></tr>\n",
       "<tr><td>max precision</td>\n",
       "<td>0.9947910</td>\n",
       "<td>0.6842105</td>\n",
       "<td>0.0</td></tr>\n",
       "<tr><td>max recall</td>\n",
       "<td>0.0057386</td>\n",
       "<td>1.0</td>\n",
       "<td>399.0</td></tr>\n",
       "<tr><td>max specificity</td>\n",
       "<td>0.9947910</td>\n",
       "<td>0.9999541</td>\n",
       "<td>0.0</td></tr>\n",
       "<tr><td>max absolute_mcc</td>\n",
       "<td>0.2387301</td>\n",
       "<td>0.2724944</td>\n",
       "<td>220.0</td></tr>\n",
       "<tr><td>max min_per_class_accuracy</td>\n",
       "<td>0.1452447</td>\n",
       "<td>0.6680320</td>\n",
       "<td>281.0</td></tr>\n",
       "<tr><td>max mean_per_class_accuracy</td>\n",
       "<td>0.1452447</td>\n",
       "<td>0.6692386</td>\n",
       "<td>281.0</td></tr>\n",
       "<tr><td>max tns</td>\n",
       "<td>0.9947910</td>\n",
       "<td>261709.0</td>\n",
       "<td>0.0</td></tr>\n",
       "<tr><td>max fns</td>\n",
       "<td>0.9947910</td>\n",
       "<td>53874.0</td>\n",
       "<td>0.0</td></tr>\n",
       "<tr><td>max fps</td>\n",
       "<td>0.0057386</td>\n",
       "<td>261721.0</td>\n",
       "<td>399.0</td></tr>\n",
       "<tr><td>max tps</td>\n",
       "<td>0.0057386</td>\n",
       "<td>53900.0</td>\n",
       "<td>399.0</td></tr>\n",
       "<tr><td>max tnr</td>\n",
       "<td>0.9947910</td>\n",
       "<td>0.9999541</td>\n",
       "<td>0.0</td></tr>\n",
       "<tr><td>max fnr</td>\n",
       "<td>0.9947910</td>\n",
       "<td>0.9995176</td>\n",
       "<td>0.0</td></tr>\n",
       "<tr><td>max fpr</td>\n",
       "<td>0.0057386</td>\n",
       "<td>1.0</td>\n",
       "<td>399.0</td></tr>\n",
       "<tr><td>max tpr</td>\n",
       "<td>0.0057386</td>\n",
       "<td>1.0</td>\n",
       "<td>399.0</td></tr></tbody>\n",
       "  </table>\n",
       "</div>\n",
       "</div>\n",
       "<div style='margin: 1em 0 1em 0;'>\n",
       "<style>\n",
       "\n",
       "#h2o-table-40.h2o-container {\n",
       "  overflow-x: auto;\n",
       "}\n",
       "#h2o-table-40 .h2o-table {\n",
       "  /* width: 100%; */\n",
       "  margin-top: 1em;\n",
       "  margin-bottom: 1em;\n",
       "}\n",
       "#h2o-table-40 .h2o-table caption {\n",
       "  white-space: nowrap;\n",
       "  caption-side: top;\n",
       "  text-align: left;\n",
       "  /* margin-left: 1em; */\n",
       "  margin: 0;\n",
       "  font-size: larger;\n",
       "}\n",
       "#h2o-table-40 .h2o-table thead {\n",
       "  white-space: nowrap; \n",
       "  position: sticky;\n",
       "  top: 0;\n",
       "  box-shadow: 0 -1px inset;\n",
       "}\n",
       "#h2o-table-40 .h2o-table tbody {\n",
       "  overflow: auto;\n",
       "}\n",
       "#h2o-table-40 .h2o-table th,\n",
       "#h2o-table-40 .h2o-table td {\n",
       "  text-align: right;\n",
       "  /* border: 1px solid; */\n",
       "}\n",
       "#h2o-table-40 .h2o-table tr:nth-child(even) {\n",
       "  /* background: #F5F5F5 */\n",
       "}\n",
       "\n",
       "</style>      \n",
       "<div id=\"h2o-table-40\" class=\"h2o-container\">\n",
       "  <table class=\"h2o-table\">\n",
       "    <caption>Gains/Lift Table: Avg response rate: 17.08 %, avg score: 16.92 %</caption>\n",
       "    <thead><tr><th>group</th>\n",
       "<th>cumulative_data_fraction</th>\n",
       "<th>lower_threshold</th>\n",
       "<th>lift</th>\n",
       "<th>cumulative_lift</th>\n",
       "<th>response_rate</th>\n",
       "<th>score</th>\n",
       "<th>cumulative_response_rate</th>\n",
       "<th>cumulative_score</th>\n",
       "<th>capture_rate</th>\n",
       "<th>cumulative_capture_rate</th>\n",
       "<th>gain</th>\n",
       "<th>cumulative_gain</th>\n",
       "<th>kolmogorov_smirnov</th></tr></thead>\n",
       "    <tbody><tr><td>1</td>\n",
       "<td>0.0100025</td>\n",
       "<td>0.8084780</td>\n",
       "<td>3.5575511</td>\n",
       "<td>3.5575511</td>\n",
       "<td>0.6075388</td>\n",
       "<td>0.8813516</td>\n",
       "<td>0.6075388</td>\n",
       "<td>0.8813516</td>\n",
       "<td>0.0355844</td>\n",
       "<td>0.0355844</td>\n",
       "<td>255.7551103</td>\n",
       "<td>255.7551103</td>\n",
       "<td>0.0308504</td></tr>\n",
       "<tr><td>2</td>\n",
       "<td>0.0200018</td>\n",
       "<td>0.7144052</td>\n",
       "<td>3.3453061</td>\n",
       "<td>3.4514454</td>\n",
       "<td>0.5712928</td>\n",
       "<td>0.7582569</td>\n",
       "<td>0.5894187</td>\n",
       "<td>0.8198140</td>\n",
       "<td>0.0334508</td>\n",
       "<td>0.0690353</td>\n",
       "<td>234.5306070</td>\n",
       "<td>245.1445396</td>\n",
       "<td>0.0591316</td></tr>\n",
       "<tr><td>3</td>\n",
       "<td>0.0300012</td>\n",
       "<td>0.6469853</td>\n",
       "<td>3.0465849</td>\n",
       "<td>3.3165061</td>\n",
       "<td>0.5202788</td>\n",
       "<td>0.6791539</td>\n",
       "<td>0.5663745</td>\n",
       "<td>0.7729323</td>\n",
       "<td>0.0304638</td>\n",
       "<td>0.0994991</td>\n",
       "<td>204.6584895</td>\n",
       "<td>231.6506148</td>\n",
       "<td>0.0838106</td></tr>\n",
       "<tr><td>4</td>\n",
       "<td>0.0400005</td>\n",
       "<td>0.5904816</td>\n",
       "<td>2.9000074</td>\n",
       "<td>3.2123897</td>\n",
       "<td>0.4952471</td>\n",
       "<td>0.6182077</td>\n",
       "<td>0.5485941</td>\n",
       "<td>0.7342542</td>\n",
       "<td>0.0289981</td>\n",
       "<td>0.1284972</td>\n",
       "<td>190.0007425</td>\n",
       "<td>221.2389715</td>\n",
       "<td>0.1067221</td></tr>\n",
       "<tr><td>5</td>\n",
       "<td>0.0500030</td>\n",
       "<td>0.5454468</td>\n",
       "<td>2.6746552</td>\n",
       "<td>3.1048224</td>\n",
       "<td>0.4567627</td>\n",
       "<td>0.5674849</td>\n",
       "<td>0.5302243</td>\n",
       "<td>0.7008940</td>\n",
       "<td>0.0267532</td>\n",
       "<td>0.1552505</td>\n",
       "<td>167.4655209</td>\n",
       "<td>210.4822370</td>\n",
       "<td>0.1269226</td></tr>\n",
       "<tr><td>6</td>\n",
       "<td>0.1000029</td>\n",
       "<td>0.3903078</td>\n",
       "<td>2.2838662</td>\n",
       "<td>2.6943573</td>\n",
       "<td>0.3900260</td>\n",
       "<td>0.4588280</td>\n",
       "<td>0.4601274</td>\n",
       "<td>0.5798648</td>\n",
       "<td>0.1141929</td>\n",
       "<td>0.2694434</td>\n",
       "<td>128.3866234</td>\n",
       "<td>169.4357307</td>\n",
       "<td>0.2043359</td></tr>\n",
       "<tr><td>7</td>\n",
       "<td>0.1500027</td>\n",
       "<td>0.3038798</td>\n",
       "<td>1.8400800</td>\n",
       "<td>2.4096042</td>\n",
       "<td>0.3142386</td>\n",
       "<td>0.3436687</td>\n",
       "<td>0.4114988</td>\n",
       "<td>0.5011344</td>\n",
       "<td>0.0920037</td>\n",
       "<td>0.3614471</td>\n",
       "<td>84.0080042</td>\n",
       "<td>140.9604233</td>\n",
       "<td>0.2549902</td></tr>\n",
       "<tr><td>8</td>\n",
       "<td>0.2000025</td>\n",
       "<td>0.2481878</td>\n",
       "<td>1.5628992</td>\n",
       "<td>2.1979313</td>\n",
       "<td>0.2669032</td>\n",
       "<td>0.2740635</td>\n",
       "<td>0.3753505</td>\n",
       "<td>0.4443676</td>\n",
       "<td>0.0781447</td>\n",
       "<td>0.4395918</td>\n",
       "<td>56.2899200</td>\n",
       "<td>119.7931328</td>\n",
       "<td>0.2889314</td></tr>\n",
       "<tr><td>9</td>\n",
       "<td>0.3000022</td>\n",
       "<td>0.1818921</td>\n",
       "<td>1.3235663</td>\n",
       "<td>1.9064794</td>\n",
       "<td>0.2260313</td>\n",
       "<td>0.2116904</td>\n",
       "<td>0.3255780</td>\n",
       "<td>0.3668094</td>\n",
       "<td>0.1323562</td>\n",
       "<td>0.5719481</td>\n",
       "<td>32.3566346</td>\n",
       "<td>90.6479412</td>\n",
       "<td>0.3279516</td></tr>\n",
       "<tr><td>10</td>\n",
       "<td>0.4000019</td>\n",
       "<td>0.1408814</td>\n",
       "<td>1.0868309</td>\n",
       "<td>1.7015689</td>\n",
       "<td>0.1856029</td>\n",
       "<td>0.1602470</td>\n",
       "<td>0.2905845</td>\n",
       "<td>0.3151692</td>\n",
       "<td>0.1086827</td>\n",
       "<td>0.6806308</td>\n",
       "<td>8.6830902</td>\n",
       "<td>70.1568908</td>\n",
       "<td>0.3384229</td></tr>\n",
       "<tr><td>11</td>\n",
       "<td>0.5000016</td>\n",
       "<td>0.1107148</td>\n",
       "<td>0.8916540</td>\n",
       "<td>1.5395870</td>\n",
       "<td>0.1522717</td>\n",
       "<td>0.1251037</td>\n",
       "<td>0.2629221</td>\n",
       "<td>0.2771563</td>\n",
       "<td>0.0891651</td>\n",
       "<td>0.7697959</td>\n",
       "<td>-10.8345969</td>\n",
       "<td>53.9586959</td>\n",
       "<td>0.3253570</td></tr>\n",
       "<tr><td>12</td>\n",
       "<td>0.6000013</td>\n",
       "<td>0.0870744</td>\n",
       "<td>0.7309856</td>\n",
       "<td>1.4048208</td>\n",
       "<td>0.1248337</td>\n",
       "<td>0.0984491</td>\n",
       "<td>0.2399075</td>\n",
       "<td>0.2473719</td>\n",
       "<td>0.0730983</td>\n",
       "<td>0.8428942</td>\n",
       "<td>-26.9014382</td>\n",
       "<td>40.4820780</td>\n",
       "<td>0.2929155</td></tr>\n",
       "<tr><td>13</td>\n",
       "<td>0.7000010</td>\n",
       "<td>0.0679492</td>\n",
       "<td>0.5807068</td>\n",
       "<td>1.2870908</td>\n",
       "<td>0.0991699</td>\n",
       "<td>0.0772079</td>\n",
       "<td>0.2198022</td>\n",
       "<td>0.2230629</td>\n",
       "<td>0.0580705</td>\n",
       "<td>0.9009647</td>\n",
       "<td>-41.9293151</td>\n",
       "<td>28.7090752</td>\n",
       "<td>0.2423512</td></tr>\n",
       "<tr><td>14</td>\n",
       "<td>0.8000006</td>\n",
       "<td>0.0516014</td>\n",
       "<td>0.4437862</td>\n",
       "<td>1.1816781</td>\n",
       "<td>0.0757873</td>\n",
       "<td>0.0595907</td>\n",
       "<td>0.2018004</td>\n",
       "<td>0.2026290</td>\n",
       "<td>0.0443785</td>\n",
       "<td>0.9453432</td>\n",
       "<td>-55.6213807</td>\n",
       "<td>18.1678099</td>\n",
       "<td>0.1752751</td></tr>\n",
       "<tr><td>15</td>\n",
       "<td>0.9000003</td>\n",
       "<td>0.0363350</td>\n",
       "<td>0.3307988</td>\n",
       "<td>1.0871363</td>\n",
       "<td>0.0564920</td>\n",
       "<td>0.0439684</td>\n",
       "<td>0.1856551</td>\n",
       "<td>0.1850001</td>\n",
       "<td>0.0330798</td>\n",
       "<td>0.9784230</td>\n",
       "<td>-66.9201178</td>\n",
       "<td>8.7136290</td>\n",
       "<td>0.0945734</td></tr>\n",
       "<tr><td>16</td>\n",
       "<td>1.0</td>\n",
       "<td>0.0003206</td>\n",
       "<td>0.2157706</td>\n",
       "<td>1.0</td>\n",
       "<td>0.0368481</td>\n",
       "<td>0.0267425</td>\n",
       "<td>0.1707744</td>\n",
       "<td>0.1691744</td>\n",
       "<td>0.0215770</td>\n",
       "<td>1.0</td>\n",
       "<td>-78.4229372</td>\n",
       "<td>0.0</td>\n",
       "<td>0.0</td></tr></tbody>\n",
       "  </table>\n",
       "</div>\n",
       "</div>"
      ],
      "text/plain": [
       "ModelMetricsBinomialGLM: glm\n",
       "** Reported on test data. **\n",
       "\n",
       "MSE: 0.12818605686114784\n",
       "RMSE: 0.358030804346704\n",
       "LogLoss: 0.4134600645217923\n",
       "AUC: 0.7325938132903483\n",
       "AUCPR: 0.37233309164729506\n",
       "Gini: 0.4651876265806967\n",
       "Null degrees of freedom: 315620\n",
       "Residual degrees of freedom: 315601\n",
       "Null deviance: 288549.5345960248\n",
       "Residual deviance: 260993.35804886516\n",
       "AIC: 261033.35804886516\n",
       "\n",
       "Confusion Matrix (Act/Pred) for max f1 @ threshold = 0.18971920421108096\n",
       "       0       1      Error    Rate\n",
       "-----  ------  -----  -------  ------------------\n",
       "0      201427  60294  0.2304   (60294.0/261721.0)\n",
       "1      23967   29933  0.4447   (23967.0/53900.0)\n",
       "Total  225394  90227  0.267    (84261.0/315621.0)\n",
       "\n",
       "Maximum Metrics: Maximum metrics at their respective thresholds\n",
       "metric                       threshold    value     idx\n",
       "---------------------------  -----------  --------  -----\n",
       "max f1                       0.189719     0.41537   249\n",
       "max f2                       0.0865748    0.561112  329\n",
       "max f0point5                 0.372141     0.404206  158\n",
       "max accuracy                 0.6339       0.833341  73\n",
       "max precision                0.994791     0.684211  0\n",
       "max recall                   0.00573859   1         399\n",
       "max specificity              0.994791     0.999954  0\n",
       "max absolute_mcc             0.23873      0.272494  220\n",
       "max min_per_class_accuracy   0.145245     0.668032  281\n",
       "max mean_per_class_accuracy  0.145245     0.669239  281\n",
       "max tns                      0.994791     261709    0\n",
       "max fns                      0.994791     53874     0\n",
       "max fps                      0.00573859   261721    399\n",
       "max tps                      0.00573859   53900     399\n",
       "max tnr                      0.994791     0.999954  0\n",
       "max fnr                      0.994791     0.999518  0\n",
       "max fpr                      0.00573859   1         399\n",
       "max tpr                      0.00573859   1         399\n",
       "\n",
       "Gains/Lift Table: Avg response rate: 17.08 %, avg score: 16.92 %\n",
       "group    cumulative_data_fraction    lower_threshold    lift      cumulative_lift    response_rate    score      cumulative_response_rate    cumulative_score    capture_rate    cumulative_capture_rate    gain      cumulative_gain    kolmogorov_smirnov\n",
       "-------  --------------------------  -----------------  --------  -----------------  ---------------  ---------  --------------------------  ------------------  --------------  -------------------------  --------  -----------------  --------------------\n",
       "1        0.0100025                   0.808478           3.55755   3.55755            0.607539         0.881352   0.607539                    0.881352            0.0355844       0.0355844                  255.755   255.755            0.0308504\n",
       "2        0.0200018                   0.714405           3.34531   3.45145            0.571293         0.758257   0.589419                    0.819814            0.0334508       0.0690353                  234.531   245.145            0.0591316\n",
       "3        0.0300012                   0.646985           3.04658   3.31651            0.520279         0.679154   0.566374                    0.772932            0.0304638       0.0994991                  204.658   231.651            0.0838106\n",
       "4        0.0400005                   0.590482           2.90001   3.21239            0.495247         0.618208   0.548594                    0.734254            0.0289981       0.128497                   190.001   221.239            0.106722\n",
       "5        0.050003                    0.545447           2.67466   3.10482            0.456763         0.567485   0.530224                    0.700894            0.0267532       0.15525                    167.466   210.482            0.126923\n",
       "6        0.100003                    0.390308           2.28387   2.69436            0.390026         0.458828   0.460127                    0.579865            0.114193        0.269443                   128.387   169.436            0.204336\n",
       "7        0.150003                    0.30388            1.84008   2.4096             0.314239         0.343669   0.411499                    0.501134            0.0920037       0.361447                   84.008    140.96             0.25499\n",
       "8        0.200003                    0.248188           1.5629    2.19793            0.266903         0.274064   0.37535                     0.444368            0.0781447       0.439592                   56.2899   119.793            0.288931\n",
       "9        0.300002                    0.181892           1.32357   1.90648            0.226031         0.21169    0.325578                    0.366809            0.132356        0.571948                   32.3566   90.6479            0.327952\n",
       "10       0.400002                    0.140881           1.08683   1.70157            0.185603         0.160247   0.290584                    0.315169            0.108683        0.680631                   8.68309   70.1569            0.338423\n",
       "11       0.500002                    0.110715           0.891654  1.53959            0.152272         0.125104   0.262922                    0.277156            0.0891651       0.769796                   -10.8346  53.9587            0.325357\n",
       "12       0.600001                    0.0870744          0.730986  1.40482            0.124834         0.0984491  0.239907                    0.247372            0.0730983       0.842894                   -26.9014  40.4821            0.292915\n",
       "13       0.700001                    0.0679492          0.580707  1.28709            0.0991699        0.0772079  0.219802                    0.223063            0.0580705       0.900965                   -41.9293  28.7091            0.242351\n",
       "14       0.800001                    0.0516014          0.443786  1.18168            0.0757873        0.0595907  0.2018                      0.202629            0.0443785       0.945343                   -55.6214  18.1678            0.175275\n",
       "15       0.9                         0.036335           0.330799  1.08714            0.056492         0.0439684  0.185655                    0.185               0.0330798       0.978423                   -66.9201  8.71363            0.0945734\n",
       "16       1                           0.000320633        0.215771  1                  0.0368481        0.0267425  0.170774                    0.169174            0.021577        1                          -78.4229  0                  0"
      ]
     },
     "execution_count": 94,
     "metadata": {},
     "output_type": "execute_result"
    }
   ],
   "source": [
    "glm_binom_v1.model_performance(test_te)"
   ]
  },
  {
   "cell_type": "code",
   "execution_count": 96,
   "id": "7af1d4a5",
   "metadata": {},
   "outputs": [
    {
     "data": {
      "text/html": [
       "\n",
       "<style>\n",
       "\n",
       "#h2o-table-42.h2o-container {\n",
       "  overflow-x: auto;\n",
       "}\n",
       "#h2o-table-42 .h2o-table {\n",
       "  /* width: 100%; */\n",
       "  margin-top: 1em;\n",
       "  margin-bottom: 1em;\n",
       "}\n",
       "#h2o-table-42 .h2o-table caption {\n",
       "  white-space: nowrap;\n",
       "  caption-side: top;\n",
       "  text-align: left;\n",
       "  /* margin-left: 1em; */\n",
       "  margin: 0;\n",
       "  font-size: larger;\n",
       "}\n",
       "#h2o-table-42 .h2o-table thead {\n",
       "  white-space: nowrap; \n",
       "  position: sticky;\n",
       "  top: 0;\n",
       "  box-shadow: 0 -1px inset;\n",
       "}\n",
       "#h2o-table-42 .h2o-table tbody {\n",
       "  overflow: auto;\n",
       "}\n",
       "#h2o-table-42 .h2o-table th,\n",
       "#h2o-table-42 .h2o-table td {\n",
       "  text-align: right;\n",
       "  /* border: 1px solid; */\n",
       "}\n",
       "#h2o-table-42 .h2o-table tr:nth-child(even) {\n",
       "  /* background: #F5F5F5 */\n",
       "}\n",
       "\n",
       "</style>      \n",
       "<div id=\"h2o-table-42\" class=\"h2o-container\">\n",
       "  <table class=\"h2o-table\">\n",
       "    <caption>Coefficients: glm coefficients</caption>\n",
       "    <thead><tr><th>names</th>\n",
       "<th>coefficients</th>\n",
       "<th>standardized_coefficients</th></tr></thead>\n",
       "    <tbody><tr><td>Intercept</td>\n",
       "<td>-5.4219961</td>\n",
       "<td>-1.9535554</td></tr>\n",
       "<tr><td>City_trg</td>\n",
       "<td>5.2306597</td>\n",
       "<td>0.3272758</td></tr>\n",
       "<tr><td>State_trg</td>\n",
       "<td>-4.5978726</td>\n",
       "<td>-0.1869991</td></tr>\n",
       "<tr><td>Zip_trg</td>\n",
       "<td>8.2161615</td>\n",
       "<td>0.5089089</td></tr>\n",
       "<tr><td>Bank_trg</td>\n",
       "<td>5.0875066</td>\n",
       "<td>0.5742275</td></tr>\n",
       "<tr><td>BankState_trg</td>\n",
       "<td>0.9566536</td>\n",
       "<td>0.0678808</td></tr>\n",
       "<tr><td>RevLineCr_trg</td>\n",
       "<td>1.4619114</td>\n",
       "<td>0.0683728</td></tr>\n",
       "<tr><td>LowDoc_trg</td>\n",
       "<td>1.5748624</td>\n",
       "<td>0.0493113</td></tr>\n",
       "<tr><td>index</td>\n",
       "<td>-0.0000000</td>\n",
       "<td>-0.0108213</td></tr>\n",
       "<tr><td>NAICS</td>\n",
       "<td>-0.0000001</td>\n",
       "<td>-0.0301686</td></tr>\n",
       "<tr><td>NoEmp</td>\n",
       "<td>-0.0003101</td>\n",
       "<td>-0.0223792</td></tr>\n",
       "<tr><td>NewExist</td>\n",
       "<td>0.1597590</td>\n",
       "<td>0.0722468</td></tr>\n",
       "<tr><td>CreateJob</td>\n",
       "<td>0.0001340</td>\n",
       "<td>0.0322616</td></tr>\n",
       "<tr><td>RetainedJob</td>\n",
       "<td>0.0001395</td>\n",
       "<td>0.0336382</td></tr>\n",
       "<tr><td>FranchiseCode</td>\n",
       "<td>0.0000026</td>\n",
       "<td>0.0332407</td></tr>\n",
       "<tr><td>UrbanRural</td>\n",
       "<td>0.4896229</td>\n",
       "<td>0.3178291</td></tr>\n",
       "<tr><td>DisbursementGross</td>\n",
       "<td>0.0000001</td>\n",
       "<td>0.0382704</td></tr>\n",
       "<tr><td>BalanceGross</td>\n",
       "<td>-0.0000053</td>\n",
       "<td>-0.0103533</td></tr>\n",
       "<tr><td>GrAppv</td>\n",
       "<td>-0.0000001</td>\n",
       "<td>-0.0318590</td></tr>\n",
       "<tr><td>SBA_Appv</td>\n",
       "<td>-0.0000010</td>\n",
       "<td>-0.2215723</td></tr></tbody>\n",
       "  </table>\n",
       "</div>\n"
      ],
      "text/plain": [
       "Coefficients: glm coefficients\n",
       "names              coefficients    standardized_coefficients\n",
       "-----------------  --------------  ---------------------------\n",
       "Intercept          -5.422          -1.95356\n",
       "City_trg           5.23066         0.327276\n",
       "State_trg          -4.59787        -0.186999\n",
       "Zip_trg            8.21616         0.508909\n",
       "Bank_trg           5.08751         0.574228\n",
       "BankState_trg      0.956654        0.0678808\n",
       "RevLineCr_trg      1.46191         0.0683728\n",
       "LowDoc_trg         1.57486         0.0493113\n",
       "index              -4.63329e-08    -0.0108213\n",
       "NAICS              -1.14119e-07    -0.0301686\n",
       "NoEmp              -0.000310059    -0.0223792\n",
       "NewExist           0.159759        0.0722468\n",
       "CreateJob          0.000133955     0.0322616\n",
       "RetainedJob        0.000139548     0.0336382\n",
       "FranchiseCode      2.58921e-06     0.0332407\n",
       "UrbanRural         0.489623        0.317829\n",
       "DisbursementGross  1.32596e-07     0.0382704\n",
       "BalanceGross       -5.25111e-06    -0.0103533\n",
       "GrAppv             -1.11959e-07    -0.031859\n",
       "SBA_Appv           -9.63188e-07    -0.221572"
      ]
     },
     "execution_count": 96,
     "metadata": {},
     "output_type": "execute_result"
    }
   ],
   "source": [
    "glm_binom_v1._model_json['output']['coefficients_table']"
   ]
  },
  {
   "cell_type": "code",
   "execution_count": 100,
   "id": "2177a71a",
   "metadata": {},
   "outputs": [
    {
     "data": {
      "image/png": "[encoded data removed]",
      "text/plain": [
       "<Figure size 1400x1000 with 1 Axes>"
      ]
     },
     "metadata": {},
     "output_type": "display_data"
    },
    {
     "data": {
      "text/plain": [
       "<h2o.plot._plot_result._MObject at 0x29f9ebf3130>"
      ]
     },
     "execution_count": 100,
     "metadata": {},
     "output_type": "execute_result"
    },
    {
     "data": {
      "text/plain": [
       "<Figure size 640x480 with 0 Axes>"
      ]
     },
     "metadata": {},
     "output_type": "display_data"
    }
   ],
   "source": [
    "glm_binom_v1.varimp_plot()"
   ]
  },
  {
   "cell_type": "code",
   "execution_count": 99,
   "id": "553c7d11",
   "metadata": {},
   "outputs": [
    {
     "name": "stdout",
     "output_type": "stream",
     "text": [
      "glm prediction progress: |"
     ]
    },
    {
     "name": "stdout",
     "output_type": "stream",
     "text": [
      "███████████████████████████████████████████████████████| (done) 100%\n"
     ]
    },
    {
     "data": {
      "text/html": [
       "<table class='dataframe'>\n",
       "<thead>\n",
       "<tr><th style=\"text-align: right;\">  predict</th><th style=\"text-align: right;\">      p0</th><th style=\"text-align: right;\">       p1</th></tr>\n",
       "</thead>\n",
       "<tbody>\n",
       "<tr><td style=\"text-align: right;\">        0</td><td style=\"text-align: right;\">0.936866</td><td style=\"text-align: right;\">0.0631339</td></tr>\n",
       "<tr><td style=\"text-align: right;\">        0</td><td style=\"text-align: right;\">0.892328</td><td style=\"text-align: right;\">0.107672 </td></tr>\n",
       "<tr><td style=\"text-align: right;\">        0</td><td style=\"text-align: right;\">0.910948</td><td style=\"text-align: right;\">0.0890522</td></tr>\n",
       "<tr><td style=\"text-align: right;\">        0</td><td style=\"text-align: right;\">0.898462</td><td style=\"text-align: right;\">0.101538 </td></tr>\n",
       "<tr><td style=\"text-align: right;\">        0</td><td style=\"text-align: right;\">0.797991</td><td style=\"text-align: right;\">0.202009 </td></tr>\n",
       "<tr><td style=\"text-align: right;\">        0</td><td style=\"text-align: right;\">0.978571</td><td style=\"text-align: right;\">0.0214295</td></tr>\n",
       "<tr><td style=\"text-align: right;\">        0</td><td style=\"text-align: right;\">0.97722 </td><td style=\"text-align: right;\">0.0227796</td></tr>\n",
       "<tr><td style=\"text-align: right;\">        0</td><td style=\"text-align: right;\">0.807746</td><td style=\"text-align: right;\">0.192254 </td></tr>\n",
       "<tr><td style=\"text-align: right;\">        1</td><td style=\"text-align: right;\">0.380285</td><td style=\"text-align: right;\">0.619715 </td></tr>\n",
       "<tr><td style=\"text-align: right;\">        0</td><td style=\"text-align: right;\">0.923419</td><td style=\"text-align: right;\">0.0765811</td></tr>\n",
       "</tbody>\n",
       "</table><pre style='font-size: smaller; margin-bottom: 1em;'>[315621 rows x 3 columns]</pre>"
      ],
      "text/plain": [
       "  predict        p0         p1\n",
       "---------  --------  ---------\n",
       "        0  0.936866  0.0631339\n",
       "        0  0.892328  0.107672\n",
       "        0  0.910948  0.0890522\n",
       "        0  0.898462  0.101538\n",
       "        0  0.797991  0.202009\n",
       "        0  0.978571  0.0214295\n",
       "        0  0.97722   0.0227796\n",
       "        0  0.807746  0.192254\n",
       "        1  0.380285  0.619715\n",
       "        0  0.923419  0.0765811\n",
       "[315621 rows x 3 columns]\n"
      ]
     },
     "execution_count": 99,
     "metadata": {},
     "output_type": "execute_result"
    }
   ],
   "source": [
    "glm_binom_v1.predict(test_te)"
   ]
  },
  {
   "cell_type": "markdown",
   "id": "6d577786",
   "metadata": {},
   "source": [
    "# Feature extraction\n",
    "\n",
    "we can improve its predictive capacity. We'll do a combination of binning (by converting several numeric fields to categorical) and interaction variables"
   ]
  },
  {
   "cell_type": "code",
   "execution_count": 116,
   "id": "2d71637b",
   "metadata": {},
   "outputs": [
    {
     "data": {
      "text/html": [
       "<pre style='margin: 1em 0 1em 0;'>Rows:474537\n",
       "Cols:20\n",
       "</pre>"
      ],
      "text/plain": [
       "Rows:474537\n",
       "Cols:20\n"
      ]
     },
     "metadata": {},
     "output_type": "display_data"
    },
    {
     "data": {
      "text/html": [
       "<table class='dataframe'>\n",
       "<thead>\n",
       "<tr><th>       </th><th>City_trg            </th><th>State_trg          </th><th>Zip_trg            </th><th>Bank_trg             </th><th>BankState_trg      </th><th>RevLineCr_trg       </th><th>LowDoc_trg         </th><th>index             </th><th>NAICS             </th><th>NoEmp            </th><th>NewExist           </th><th>CreateJob        </th><th>RetainedJob       </th><th>FranchiseCode     </th><th>UrbanRural        </th><th>DisbursementGross  </th><th>BalanceGross      </th><th>GrAppv            </th><th>SBA_Appv          </th><th>MIS_Status  </th></tr>\n",
       "</thead>\n",
       "<tbody>\n",
       "<tr><td>type   </td><td>real                </td><td>real               </td><td>real               </td><td>real                 </td><td>real               </td><td>real                </td><td>real               </td><td>int               </td><td>int               </td><td>int              </td><td>int                </td><td>int              </td><td>int               </td><td>int               </td><td>int               </td><td>int                </td><td>int               </td><td>int               </td><td>int               </td><td>enum        </td></tr>\n",
       "<tr><td>mins   </td><td>0.050250119367146476</td><td>0.05378190361767601</td><td>0.06035538515099934</td><td>-0.014823829423143397</td><td>0.0364146736947475 </td><td>0.005640814144486292</td><td>0.0757603055693507 </td><td>1.0               </td><td>0.0               </td><td>0.0              </td><td>0.0                </td><td>0.0              </td><td>0.0               </td><td>0.0               </td><td>0.0               </td><td>0.0                </td><td>0.0               </td><td>200.0             </td><td>100.0             </td><td>            </td></tr>\n",
       "<tr><td>mean   </td><td>0.17122785690918718 </td><td>0.17002790025736367</td><td>0.16997025504804622</td><td>0.17786347875335332  </td><td>0.17006039529938144</td><td>0.17003231884667125 </td><td>0.17003200304891508</td><td>404422.7399170138 </td><td>396568.1153292578 </td><td>11.42516389659816</td><td>1.281088724377657  </td><td>8.660351036905448</td><td>11.002457131899094</td><td>2787.471153987991 </td><td>0.7518655025846238</td><td>203078.02506443136 </td><td>5.024807338521549 </td><td>195041.55395891154</td><td>151669.76895584536</td><td>            </td></tr>\n",
       "<tr><td>maxs   </td><td>0.5961687120121717  </td><td>0.27320350506365837</td><td>0.5950282970191646 </td><td>0.7500016309323115   </td><td>0.39503970722759324</td><td>0.26818237944165724 </td><td>0.19646223190933038</td><td>809246.0          </td><td>928120.0          </td><td>9999.0           </td><td>2.0                </td><td>8800.0           </td><td>8800.0            </td><td>99999.0           </td><td>2.0               </td><td>11446325.0         </td><td>996262.0          </td><td>5000000.0         </td><td>5000000.0         </td><td>            </td></tr>\n",
       "<tr><td>sigma  </td><td>0.06256874932894671 </td><td>0.04067078265752939</td><td>0.06193998100036642</td><td>0.11287012761429108  </td><td>0.07095655305557438</td><td>0.04676942874365501 </td><td>0.03131151200894823</td><td>233555.75581549632</td><td>264359.56648609537</td><td>72.17700511416847</td><td>0.45222330083931095</td><td>240.8391863161609</td><td>241.05158981485943</td><td>12838.182180485299</td><td>0.6491304741391511</td><td>288624.88181677787 </td><td>1971.6433976029557</td><td>284560.5303583031 </td><td>230040.42890459258</td><td>            </td></tr>\n",
       "<tr><td>zeros  </td><td>0                   </td><td>0                  </td><td>0                  </td><td>0                    </td><td>0                  </td><td>0                   </td><td>0                  </td><td>0                 </td><td>108556            </td><td>3400             </td><td>576                </td><td>333035           </td><td>235957            </td><td>107883            </td><td>173461            </td><td>100                </td><td>474531            </td><td>0                 </td><td>0                 </td><td>            </td></tr>\n",
       "<tr><td>missing</td><td>0                   </td><td>0                  </td><td>0                  </td><td>0                    </td><td>0                  </td><td>0                   </td><td>0                  </td><td>0                 </td><td>0                 </td><td>0                </td><td>0                  </td><td>0                </td><td>0                 </td><td>0                 </td><td>0                 </td><td>0                  </td><td>0                 </td><td>0                 </td><td>0                 </td><td>0           </td></tr>\n",
       "<tr><td>0      </td><td>0.1269873580269154  </td><td>0.12071165346538923</td><td>0.13944230254355583</td><td>0.2720282910214418   </td><td>0.21905467926204408</td><td>0.1420542693631385  </td><td>0.17864290658145712</td><td>1.0               </td><td>722410.0          </td><td>20.0             </td><td>1.0                </td><td>0.0              </td><td>0.0               </td><td>1.0               </td><td>0.0               </td><td>137000.0           </td><td>0.0               </td><td>137000.0          </td><td>109737.0          </td><td>0           </td></tr>\n",
       "<tr><td>1      </td><td>0.17466434076794354 </td><td>0.1514526228355938 </td><td>0.18494444954974698</td><td>0.1696889359187519   </td><td>0.15412173091678047</td><td>0.14305760150120003 </td><td>0.0889439779974818 </td><td>4.0               </td><td>0.0               </td><td>2.0              </td><td>2.0                </td><td>0.0              </td><td>0.0               </td><td>1.0               </td><td>0.0               </td><td>52500.0            </td><td>0.0               </td><td>52500.0           </td><td>42000.0           </td><td>0           </td></tr>\n",
       "<tr><td>2      </td><td>0.14324606573690019 </td><td>0.16740034475755117</td><td>0.15443920201046177</td><td>0.04924806155129522  </td><td>0.1639812755515995 </td><td>0.15291714613601906 </td><td>0.18950578335433768</td><td>5.0               </td><td>234110.0          </td><td>5.0              </td><td>1.0                </td><td>2.0              </td><td>0.0               </td><td>1.0               </td><td>0.0               </td><td>52000.0            </td><td>0.0               </td><td>52000.0           </td><td>52000.0           </td><td>0           </td></tr>\n",
       "<tr><td>3      </td><td>0.14095661525506584 </td><td>0.16647462905033922</td><td>0.15131527121719873</td><td>0.07160091641725055  </td><td>0.20813890161942666</td><td>0.24430848582307357 </td><td>0.17258833829074668</td><td>6.0               </td><td>445310.0          </td><td>3.0              </td><td>1.0                </td><td>0.0              </td><td>0.0               </td><td>1.0               </td><td>0.0               </td><td>50000.0            </td><td>0.0               </td><td>50000.0           </td><td>25000.0           </td><td>0           </td></tr>\n",
       "<tr><td>4      </td><td>0.18695955994255797 </td><td>0.21124559510812213</td><td>0.23775146534196953</td><td>0.2674321238146776   </td><td>0.21445851205527988</td><td>0.2457668869070198  </td><td>0.17404673937469292</td><td>7.0               </td><td>812990.0          </td><td>1.0              </td><td>1.0                </td><td>2.0              </td><td>1.0               </td><td>0.0               </td><td>1.0               </td><td>38619.0            </td><td>0.0               </td><td>25000.0           </td><td>12500.0           </td><td>1           </td></tr>\n",
       "<tr><td>5      </td><td>0.19118686784458944 </td><td>0.2155484255472049 </td><td>0.17978669238672218</td><td>0.13150191029177327  </td><td>0.1692662377845488 </td><td>0.24257069869557876 </td><td>0.17085055116325187</td><td>8.0               </td><td>561421.0          </td><td>10.0             </td><td>1.0                </td><td>1.0              </td><td>11.0              </td><td>1.0               </td><td>1.0               </td><td>32714.0            </td><td>0.0               </td><td>20000.0           </td><td>10000.0           </td><td>1           </td></tr>\n",
       "<tr><td>6      </td><td>0.12481495655516778 </td><td>0.16504312515839434</td><td>0.15000959601054795</td><td>0.1683459786861865   </td><td>0.20670739772748178</td><td>0.13456819718048318 </td><td>0.1711568343988018 </td><td>10.0              </td><td>0.0               </td><td>3.0              </td><td>1.0                </td><td>0.0              </td><td>0.0               </td><td>0.0               </td><td>0.0               </td><td>100000.0           </td><td>0.0               </td><td>100000.0          </td><td>90000.0           </td><td>0           </td></tr>\n",
       "<tr><td>7      </td><td>0.1318622413658092  </td><td>0.22002394179905016</td><td>0.2024474313318744 </td><td>0.24112086278345846  </td><td>0.12978951803066713</td><td>0.14166381917852383 </td><td>0.17428869072109032</td><td>11.0              </td><td>323110.0          </td><td>18.0             </td><td>1.0                </td><td>0.0              </td><td>18.0              </td><td>1.0               </td><td>1.0               </td><td>500000.0           </td><td>0.0               </td><td>500000.0          </td><td>375000.0          </td><td>0           </td></tr>\n",
       "<tr><td>8      </td><td>0.16557423697942875 </td><td>0.17638460747808812</td><td>0.15664059124863405</td><td>0.05455021970470646  </td><td>0.13893157571123263</td><td>0.13321632807419045 </td><td>0.16980496529250907</td><td>13.0              </td><td>721110.0          </td><td>1.0              </td><td>1.0                </td><td>0.0              </td><td>15.0              </td><td>22470.0           </td><td>1.0               </td><td>856000.0           </td><td>0.0               </td><td>856000.0          </td><td>856000.0          </td><td>0           </td></tr>\n",
       "<tr><td>9      </td><td>0.3143082611408121  </td><td>0.2628836551110394 </td><td>0.29231470779787755</td><td>0.19163953471173578  </td><td>0.1632316803863468 </td><td>0.15216755097076637 </td><td>0.188756188189085  </td><td>14.0              </td><td>0.0               </td><td>3.0              </td><td>1.0                </td><td>0.0              </td><td>0.0               </td><td>1.0               </td><td>0.0               </td><td>185100.0           </td><td>0.0               </td><td>185100.0          </td><td>138825.0          </td><td>0           </td></tr>\n",
       "</tbody>\n",
       "</table><pre style='font-size: smaller; margin-bottom: 1em;'>[474537 rows x 20 columns]</pre>"
      ],
      "text/plain": [
       "         City_trg              State_trg            Zip_trg              Bank_trg               BankState_trg        RevLineCr_trg         LowDoc_trg           index               NAICS               NoEmp              NewExist             CreateJob          RetainedJob         FranchiseCode       UrbanRural          DisbursementGross    BalanceGross        GrAppv              SBA_Appv            MIS_Status\n",
       "-------  --------------------  -------------------  -------------------  ---------------------  -------------------  --------------------  -------------------  ------------------  ------------------  -----------------  -------------------  -----------------  ------------------  ------------------  ------------------  -------------------  ------------------  ------------------  ------------------  ------------\n",
       "type     real                  real                 real                 real                   real                 real                  real                 int                 int                 int                int                  int                int                 int                 int                 int                  int                 int                 int                 enum\n",
       "mins     0.050250119367146476  0.05378190361767601  0.06035538515099934  -0.014823829423143397  0.0364146736947475   0.005640814144486292  0.0757603055693507   1.0                 0.0                 0.0                0.0                  0.0                0.0                 0.0                 0.0                 0.0                  0.0                 200.0               100.0\n",
       "mean     0.17122785690918718   0.17002790025736367  0.16997025504804622  0.17786347875335332    0.17006039529938144  0.17003231884667125   0.17003200304891508  404422.7399170138   396568.1153292578   11.42516389659816  1.281088724377657    8.660351036905448  11.002457131899094  2787.471153987991   0.7518655025846238  203078.02506443136   5.024807338521549   195041.55395891154  151669.76895584536\n",
       "maxs     0.5961687120121717    0.27320350506365837  0.5950282970191646   0.7500016309323115     0.39503970722759324  0.26818237944165724   0.19646223190933038  809246.0            928120.0            9999.0             2.0                  8800.0             8800.0              99999.0             2.0                 11446325.0           996262.0            5000000.0           5000000.0\n",
       "sigma    0.06256874932894671   0.04067078265752939  0.06193998100036642  0.11287012761429108    0.07095655305557438  0.04676942874365501   0.03131151200894823  233555.75581549632  264359.56648609537  72.17700511416847  0.45222330083931095  240.8391863161609  241.05158981485943  12838.182180485299  0.6491304741391511  288624.88181677787   1971.6433976029557  284560.5303583031   230040.42890459258\n",
       "zeros    0                     0                    0                    0                      0                    0                     0                    0                   108556              3400               576                  333035             235957              107883              173461              100                  474531              0                   0\n",
       "missing  0                     0                    0                    0                      0                    0                     0                    0                   0                   0                  0                    0                  0                   0                   0                   0                    0                   0                   0                   0\n",
       "0        0.1269873580269154    0.12071165346538923  0.13944230254355583  0.2720282910214418     0.21905467926204408  0.1420542693631385    0.17864290658145712  1.0                 722410.0            20.0               1.0                  0.0                0.0                 1.0                 0.0                 137000.0             0.0                 137000.0            109737.0            0\n",
       "1        0.17466434076794354   0.1514526228355938   0.18494444954974698  0.1696889359187519     0.15412173091678047  0.14305760150120003   0.0889439779974818   4.0                 0.0                 2.0                2.0                  0.0                0.0                 1.0                 0.0                 52500.0              0.0                 52500.0             42000.0             0\n",
       "2        0.14324606573690019   0.16740034475755117  0.15443920201046177  0.04924806155129522    0.1639812755515995   0.15291714613601906   0.18950578335433768  5.0                 234110.0            5.0                1.0                  2.0                0.0                 1.0                 0.0                 52000.0              0.0                 52000.0             52000.0             0\n",
       "3        0.14095661525506584   0.16647462905033922  0.15131527121719873  0.07160091641725055    0.20813890161942666  0.24430848582307357   0.17258833829074668  6.0                 445310.0            3.0                1.0                  0.0                0.0                 1.0                 0.0                 50000.0              0.0                 50000.0             25000.0             0\n",
       "4        0.18695955994255797   0.21124559510812213  0.23775146534196953  0.2674321238146776     0.21445851205527988  0.2457668869070198    0.17404673937469292  7.0                 812990.0            1.0                1.0                  2.0                1.0                 0.0                 1.0                 38619.0              0.0                 25000.0             12500.0             1\n",
       "5        0.19118686784458944   0.2155484255472049   0.17978669238672218  0.13150191029177327    0.1692662377845488   0.24257069869557876   0.17085055116325187  8.0                 561421.0            10.0               1.0                  1.0                11.0                1.0                 1.0                 32714.0              0.0                 20000.0             10000.0             1\n",
       "6        0.12481495655516778   0.16504312515839434  0.15000959601054795  0.1683459786861865     0.20670739772748178  0.13456819718048318   0.1711568343988018   10.0                0.0                 3.0                1.0                  0.0                0.0                 0.0                 0.0                 100000.0             0.0                 100000.0            90000.0             0\n",
       "7        0.1318622413658092    0.22002394179905016  0.2024474313318744   0.24112086278345846    0.12978951803066713  0.14166381917852383   0.17428869072109032  11.0                323110.0            18.0               1.0                  0.0                18.0                1.0                 1.0                 500000.0             0.0                 500000.0            375000.0            0\n",
       "8        0.16557423697942875   0.17638460747808812  0.15664059124863405  0.05455021970470646    0.13893157571123263  0.13321632807419045   0.16980496529250907  13.0                721110.0            1.0                1.0                  0.0                15.0                22470.0             1.0                 856000.0             0.0                 856000.0            856000.0            0\n",
       "9        0.3143082611408121    0.2628836551110394   0.29231470779787755  0.19163953471173578    0.1632316803863468   0.15216755097076637   0.188756188189085    14.0                0.0                 3.0                1.0                  0.0                0.0                 1.0                 0.0                 185100.0             0.0                 185100.0            138825.0            0\n",
       "[474537 rows x 20 columns]\n"
      ]
     },
     "metadata": {},
     "output_type": "display_data"
    }
   ],
   "source": [
    "train_te.describe()"
   ]
  },
  {
   "cell_type": "code",
   "execution_count": 104,
   "id": "d13c4aa7",
   "metadata": {},
   "outputs": [
    {
     "data": {
      "text/plain": [
       "['1', 'A', 'C', 'N', 'R', 'S', 'Unknown', 'Y']"
      ]
     },
     "execution_count": 104,
     "metadata": {},
     "output_type": "execute_result"
    }
   ],
   "source": [
    "import numpy as np\n",
    "column_to_bin = col = \"Elevation\"\n",
    "col_np_array = np.array(train[column_to_bin].as_data_frame(use_pandas=True)[column_to_bin].values, dtype=np.int64) # Convert single column to numpy array\n",
    "\n",
    "counts, breaks = np.histogram(col_np_array, bins=5)"
   ]
  },
  {
   "cell_type": "markdown",
   "id": "ced690c6",
   "metadata": {},
   "source": [
    "## Model Tuning\n",
    "\n",
    "You should tune two types of models: one Sklearn and one H2O-3. Perform tuning for the selected model type from the set of Linear models available in Sklearn and H2O-3:\n",
    "- Hyper-parameter tuning. Your hyper-parameter search space should have at least 50 combinations.\n",
    "- To avoid overfitting and provide you with reasonable estimate of model performance on hold-out dataset, you will need to split your dataset as following:\n",
    "    - Train, will be used to train model\n",
    "    - Validation, will be used to validate model each round of training\n",
    "    - Testing, will be used to provide final performance metrics, used only once on the final model\n",
    "- Feature engineering. See project description\n",
    "\n",
    "**Select final model that produces best performance on the Test dataset.**\n",
    "- For the best model, calculate probability threshold to maximize F1. "
   ]
  },
  {
   "cell_type": "code",
   "execution_count": null,
   "id": "674ab5b8",
   "metadata": {},
   "outputs": [],
   "source": []
  },
  {
   "cell_type": "markdown",
   "id": "30bc381c",
   "metadata": {},
   "source": [
    "## Save all artifacts\n",
    "\n",
    "Save all artifacts needed for scoring function:\n",
    "- Trained model\n",
    "- Encoders\n",
    "- Any other arficats you will need for scoring\n",
    "\n",
    "**You should stop your notebook here. Scoring function should be in a separate file/notebook.**"
   ]
  },
  {
   "cell_type": "markdown",
   "id": "f1861176",
   "metadata": {},
   "source": [
    "## Project Summary and Conclusion\n",
    "\n",
    "Provide your summary and conclusion. The summary should include:\n",
    "- Summary of your work\n",
    "- Summary of your findings\n",
    "- Summary of your model performance\n",
    "- Summary of your recommendations"
   ]
  },
  {
   "cell_type": "markdown",
   "id": "b556b0fe",
   "metadata": {},
   "source": [
    "## Stop Here. Create new file/notebook\n",
    "\n",
    "Don't include scoring function in the same notebook as your project. Create a new notebook or python file for scoring function."
   ]
  },
  {
   "cell_type": "code",
   "execution_count": null,
   "id": "213f71c6",
   "metadata": {},
   "outputs": [],
   "source": []
  },
  {
   "cell_type": "markdown",
   "id": "a0d2e830",
   "metadata": {},
   "source": [
    "### Model Scoring\n",
    "\n",
    "Write function that will load artifacts from above, transform and score on a new dataset.\n",
    "Your function should return Python list of labels. For example: [0,1,0,1,1,0,0]\n"
   ]
  },
  {
   "cell_type": "code",
   "execution_count": 1,
   "id": "ae1929ab",
   "metadata": {},
   "outputs": [],
   "source": [
    "def project_1_scoring(data):\n",
    "    \"\"\"\n",
    "    Function to score input dataset.\n",
    "    \n",
    "    Input: dataset in Pandas DataFrame format\n",
    "    Output: Python list of labels in the same order as input records\n",
    "    \n",
    "    Flow:\n",
    "        - Load artifacts\n",
    "        - Transform dataset\n",
    "        - Score dataset\n",
    "        - Return pandas DF with following columns:\n",
    "            - index\n",
    "            - label\n",
    "            - probability_0\n",
    "            - probability_1\n",
    "    \"\"\"\n",
    "    pass"
   ]
  },
  {
   "cell_type": "code",
   "execution_count": null,
   "id": "3cc128b9",
   "metadata": {},
   "outputs": [],
   "source": []
  },
  {
   "cell_type": "markdown",
   "id": "16157e5c",
   "metadata": {},
   "source": [
    "### Example of Scoring function\n",
    "\n",
    "Don't copy the code as is. It is provided as an example only. \n",
    "- Function `train_model` - you need to focus on model and artifacts saving:\n",
    "    ```\n",
    "    pickle.dump(obj=artifacts_dict, file=artifacts_dict_file)\n",
    "    ```\n",
    "- Function `project_1_scoring` - you should have similar function with name `project_1_scoring`. The function will:\n",
    "    - Get Pandas dataframe as parameter\n",
    "    - Will load model and all needed encoders\n",
    "    - Will perform needed manipulations on the input Pandas DF - in the exact same format as input file for the project, minus MIS_Status feature\n",
    "    - Return Pandas DataFrame\n",
    "        - record index\n",
    "        - predicted class for threshold maximizing F1\n",
    "        - probability for class 0 (PIF)\n",
    "        - probability for class 1 (CHGOFF)\n"
   ]
  },
  {
   "cell_type": "markdown",
   "id": "5135cbce",
   "metadata": {},
   "source": [
    "Don't copy the below cell code in any way!!! The code is provided as an example only.  \n",
    "- The code is provided as an example of generating artifacts for scoring function\n",
    "- Your scoring function code should not have model training part!!!!"
   ]
  },
  {
   "cell_type": "code",
   "execution_count": 2,
   "id": "2847fc04",
   "metadata": {},
   "outputs": [],
   "source": [
    "\"\"\"\n",
    "Don't copy of use the cell code in any way!!!\n",
    "The code is provided as an example of generating artifacts for scoring function\n",
    "Your scoring function code should not have model training part!!!!\n",
    "\"\"\"\n",
    "import pandas as pd\n",
    "import numpy as np\n",
    "def train_model(data):\n",
    "    \"\"\"\n",
    "    Train sample model and save artifacts\n",
    "    \"\"\"\n",
    "    from sklearn.preprocessing import OneHotEncoder\n",
    "    from copy import deepcopy\n",
    "    from sklearn.linear_model import LogisticRegression\n",
    "    import pickle\n",
    "    from sklearn.impute import SimpleImputer\n",
    "    \n",
    "    target_col = \"Survived\"\n",
    "    cols_to_drop = ['Name', 'Ticket', 'Cabin','SibSp', 'Parch', 'Sex','Embarked','PassengerId','Survived']\n",
    "    y = data[target_col]\n",
    "    X = data.drop(columns=[target_col])\n",
    "    \n",
    "    # Impute Embarked\n",
    "    X['Embarked'].replace(np.NaN, 'S',inplace = True)\n",
    "    \n",
    "    # Create new feature\n",
    "    X['FamilySize'] = X['SibSp'] + X['Parch']\n",
    "    \n",
    "    # Mean impute Age\n",
    "    imp_age_mean = SimpleImputer(missing_values=np.nan, strategy='mean')\n",
    "    imp_age_mean.fit(X[['Age']])\n",
    "    X['Age'] = imp_age_mean.transform(X[['Age']])\n",
    "\n",
    "\n",
    "    ohe_orig_columns = [\"Embarked\",\"Sex\"]\n",
    "    cat_encoders = {}\n",
    "    for col in ohe_orig_columns:\n",
    "        enc = OneHotEncoder(handle_unknown='ignore', sparse_output=False)\n",
    "        enc.fit(X[[col]])\n",
    "        result = enc.transform(X[[col]])\n",
    "        ohe_columns = [col+\"_\"+str(x) for x in enc.categories_[0]]\n",
    "        result_train = pd.DataFrame(result, columns=ohe_columns)\n",
    "        X= pd.concat([X, result_train], axis=1)\n",
    "        cat_encoders[col] = [deepcopy(enc),\"ohe\"]\n",
    "        \n",
    "    clf = LogisticRegression(max_iter=1000, random_state=0)\n",
    "    \n",
    "    columns_to_train = [x for x in X.columns if x not in cols_to_drop]\n",
    "    print(\"Training on following columns:\", columns_to_train)\n",
    "    clf.fit(X[columns_to_train], y)\n",
    "    \n",
    "    # Todo: Add code to calculate optimal threshold. Replace 0.5 !!!!!\n",
    "    threshold = 0.5\n",
    "    # End Todo\n",
    "    \n",
    "    artifacts_dict = {\n",
    "        \"model\": clf,\n",
    "        \"cat_encoders\": cat_encoders,\n",
    "        \"imp_age_mean\": imp_age_mean,\n",
    "        \"ohe_columns\": ohe_orig_columns,\n",
    "        \"columns_to_train\":columns_to_train,\n",
    "        \"threshold\": threshold\n",
    "    }\n",
    "    artifacts_dict_file = open(\"./artifacts/artifacts_dict_file.pkl\", \"wb\")\n",
    "    pickle.dump(obj=artifacts_dict, file=artifacts_dict_file)\n",
    "    \n",
    "    artifacts_dict_file.close()    \n",
    "    return clf"
   ]
  },
  {
   "cell_type": "code",
   "execution_count": 3,
   "id": "719dcec9",
   "metadata": {},
   "outputs": [
    {
     "name": "stdout",
     "output_type": "stream",
     "text": [
      "Training on following columns: ['Pclass', 'Age', 'Fare', 'FamilySize', 'Embarked_C', 'Embarked_Q', 'Embarked_S', 'Sex_female', 'Sex_male']\n"
     ]
    },
    {
     "data": {
      "text/html": [
       "<style>#sk-container-id-1 {color: black;}#sk-container-id-1 pre{padding: 0;}#sk-container-id-1 div.sk-toggleable {background-color: white;}#sk-container-id-1 label.sk-toggleable__label {cursor: pointer;display: block;width: 100%;margin-bottom: 0;padding: 0.3em;box-sizing: border-box;text-align: center;}#sk-container-id-1 label.sk-toggleable__label-arrow:before {content: \"▸\";float: left;margin-right: 0.25em;color: #696969;}#sk-container-id-1 label.sk-toggleable__label-arrow:hover:before {color: black;}#sk-container-id-1 div.sk-estimator:hover label.sk-toggleable__label-arrow:before {color: black;}#sk-container-id-1 div.sk-toggleable__content {max-height: 0;max-width: 0;overflow: hidden;text-align: left;background-color: #f0f8ff;}#sk-container-id-1 div.sk-toggleable__content pre {margin: 0.2em;color: black;border-radius: 0.25em;background-color: #f0f8ff;}#sk-container-id-1 input.sk-toggleable__control:checked~div.sk-toggleable__content {max-height: 200px;max-width: 100%;overflow: auto;}#sk-container-id-1 input.sk-toggleable__control:checked~label.sk-toggleable__label-arrow:before {content: \"▾\";}#sk-container-id-1 div.sk-estimator input.sk-toggleable__control:checked~label.sk-toggleable__label {background-color: #d4ebff;}#sk-container-id-1 div.sk-label input.sk-toggleable__control:checked~label.sk-toggleable__label {background-color: #d4ebff;}#sk-container-id-1 input.sk-hidden--visually {border: 0;clip: rect(1px 1px 1px 1px);clip: rect(1px, 1px, 1px, 1px);height: 1px;margin: -1px;overflow: hidden;padding: 0;position: absolute;width: 1px;}#sk-container-id-1 div.sk-estimator {font-family: monospace;background-color: #f0f8ff;border: 1px dotted black;border-radius: 0.25em;box-sizing: border-box;margin-bottom: 0.5em;}#sk-container-id-1 div.sk-estimator:hover {background-color: #d4ebff;}#sk-container-id-1 div.sk-parallel-item::after {content: \"\";width: 100%;border-bottom: 1px solid gray;flex-grow: 1;}#sk-container-id-1 div.sk-label:hover label.sk-toggleable__label {background-color: #d4ebff;}#sk-container-id-1 div.sk-serial::before {content: \"\";position: absolute;border-left: 1px solid gray;box-sizing: border-box;top: 0;bottom: 0;left: 50%;z-index: 0;}#sk-container-id-1 div.sk-serial {display: flex;flex-direction: column;align-items: center;background-color: white;padding-right: 0.2em;padding-left: 0.2em;position: relative;}#sk-container-id-1 div.sk-item {position: relative;z-index: 1;}#sk-container-id-1 div.sk-parallel {display: flex;align-items: stretch;justify-content: center;background-color: white;position: relative;}#sk-container-id-1 div.sk-item::before, #sk-container-id-1 div.sk-parallel-item::before {content: \"\";position: absolute;border-left: 1px solid gray;box-sizing: border-box;top: 0;bottom: 0;left: 50%;z-index: -1;}#sk-container-id-1 div.sk-parallel-item {display: flex;flex-direction: column;z-index: 1;position: relative;background-color: white;}#sk-container-id-1 div.sk-parallel-item:first-child::after {align-self: flex-end;width: 50%;}#sk-container-id-1 div.sk-parallel-item:last-child::after {align-self: flex-start;width: 50%;}#sk-container-id-1 div.sk-parallel-item:only-child::after {width: 0;}#sk-container-id-1 div.sk-dashed-wrapped {border: 1px dashed gray;margin: 0 0.4em 0.5em 0.4em;box-sizing: border-box;padding-bottom: 0.4em;background-color: white;}#sk-container-id-1 div.sk-label label {font-family: monospace;font-weight: bold;display: inline-block;line-height: 1.2em;}#sk-container-id-1 div.sk-label-container {text-align: center;}#sk-container-id-1 div.sk-container {/* jupyter's `normalize.less` sets `[hidden] { display: none; }` but bootstrap.min.css set `[hidden] { display: none !important; }` so we also need the `!important` here to be able to override the default hidden behavior on the sphinx rendered scikit-learn.org. See: https://github.com/scikit-learn/scikit-learn/issues/21755 */display: inline-block !important;position: relative;}#sk-container-id-1 div.sk-text-repr-fallback {display: none;}</style><div id=\"sk-container-id-1\" class=\"sk-top-container\"><div class=\"sk-text-repr-fallback\"><pre>LogisticRegression(max_iter=1000, random_state=0)</pre><b>In a Jupyter environment, please rerun this cell to show the HTML representation or trust the notebook. <br />On GitHub, the HTML representation is unable to render, please try loading this page with nbviewer.org.</b></div><div class=\"sk-container\" hidden><div class=\"sk-item\"><div class=\"sk-estimator sk-toggleable\"><input class=\"sk-toggleable__control sk-hidden--visually\" id=\"sk-estimator-id-1\" type=\"checkbox\" checked><label for=\"sk-estimator-id-1\" class=\"sk-toggleable__label sk-toggleable__label-arrow\">LogisticRegression</label><div class=\"sk-toggleable__content\"><pre>LogisticRegression(max_iter=1000, random_state=0)</pre></div></div></div></div></div>"
      ],
      "text/plain": [
       "LogisticRegression(max_iter=1000, random_state=0)"
      ]
     },
     "execution_count": 3,
     "metadata": {},
     "output_type": "execute_result"
    }
   ],
   "source": [
    "from sklearn.model_selection import train_test_split\n",
    "df = pd.read_csv('titanic.csv')\n",
    "target_col = \"Survived\"\n",
    "y = df[target_col]\n",
    "X = df.drop(columns=[target_col])\n",
    "X_train, X_test, y_train, y_test = train_test_split(X, y, test_size=0.1, random_state=142)\n",
    "\n",
    "# Reset index to avoid bug with OHE encoder due to index mismatch\n",
    "X_train.reset_index(inplace=True, drop=True)\n",
    "y_train.reset_index(inplace=True, drop=True)\n",
    "X_test.reset_index(inplace=True, drop=True)\n",
    "y_test.reset_index(inplace=True, drop=True)\n",
    "\n",
    "\n",
    "df_train = X_train.copy()\n",
    "df_train[target_col] = y_train\n",
    "train_model(df_train)"
   ]
  },
  {
   "cell_type": "markdown",
   "id": "aa88cb35",
   "metadata": {},
   "source": [
    "### Example scoring function\n",
    "\n",
    "This is example only. Don't copy the code as is!!!   \n",
    "You must place scoring function in a separate Python file or Jupyter notebook.   \n",
    "\n",
    "**Don't place function in the same notebook as rest of the code**"
   ]
  },
  {
   "cell_type": "code",
   "execution_count": 4,
   "id": "46d3d7f8",
   "metadata": {},
   "outputs": [],
   "source": [
    "def project_1_scoring(data):\n",
    "    \"\"\"\n",
    "    Function to score input dataset.\n",
    "    \n",
    "    Input: dataset in Pandas DataFrame format\n",
    "    Output: Python list of labels in the same order as input records\n",
    "    \n",
    "    Flow:\n",
    "        - Load artifacts\n",
    "        - Transform dataset\n",
    "        - Score dataset\n",
    "        - Return labels\n",
    "    \n",
    "    \"\"\"\n",
    "    from sklearn.preprocessing import OneHotEncoder\n",
    "    from copy import deepcopy\n",
    "    from sklearn.linear_model import LogisticRegression\n",
    "    import pickle\n",
    "    \n",
    "    X = data.copy()\n",
    "    \n",
    "    '''Load Artifacts'''\n",
    "    artifacts_dict_file = open(\"./artifacts/artifacts_dict_file.pkl\", \"rb\")\n",
    "    artifacts_dict = pickle.load(file=artifacts_dict_file)\n",
    "    artifacts_dict_file.close()\n",
    "    \n",
    "    clf = artifacts_dict[\"model\"]\n",
    "    cat_encoders = artifacts_dict[\"cat_encoders\"]\n",
    "    imp_age_mean = artifacts_dict[\"imp_age_mean\"]\n",
    "    ohe_columns = artifacts_dict[\"ohe_columns\"]\n",
    "    columns_to_score = artifacts_dict[\"columns_to_train\"]\n",
    "    threshold = artifacts_dict[\"threshold\"]\n",
    "    \n",
    "    # Impute Embarked\n",
    "    X['Embarked'].replace(np.NaN, 'S',inplace = True)\n",
    "    \n",
    "    # Create new feature\n",
    "    X['FamilySize'] = X['SibSp'] + X['Parch']\n",
    "    \n",
    "    # Mean impute Age\n",
    "    X['Age'] = imp_age_mean.transform(X[['Age']])\n",
    "    \n",
    "    '''Encode categorical columns'''\n",
    "    for col in ohe_columns:\n",
    "        enc = cat_encoders[col][0]\n",
    "        result = enc.transform(X[[col]])\n",
    "        ohe_columns = [col+\"_\"+str(x) for x in enc.categories_[0]]\n",
    "        result_train = pd.DataFrame(result, columns=ohe_columns)\n",
    "        X = pd.concat([X, result_train], axis=1)\n",
    "        \n",
    "    y_pred_proba = clf.predict_proba(X[columns_to_score])\n",
    "    y_pred = (y_pred_proba[:,0] < threshold).astype(np.int16)\n",
    "    d = {\"index\":data[\"PassengerId\"],\n",
    "         \"label\":y_pred,\n",
    "         \"probability_0\":y_pred_proba[:,0],\n",
    "         \"probability_1\":y_pred_proba[:,1]}\n",
    "    \n",
    "    return pd.DataFrame(d)"
   ]
  },
  {
   "cell_type": "code",
   "execution_count": 5,
   "id": "fd9dbc26",
   "metadata": {},
   "outputs": [
    {
     "data": {
      "text/html": [
       "<div>\n",
       "<style scoped>\n",
       "    .dataframe tbody tr th:only-of-type {\n",
       "        vertical-align: middle;\n",
       "    }\n",
       "\n",
       "    .dataframe tbody tr th {\n",
       "        vertical-align: top;\n",
       "    }\n",
       "\n",
       "    .dataframe thead th {\n",
       "        text-align: right;\n",
       "    }\n",
       "</style>\n",
       "<table border=\"1\" class=\"dataframe\">\n",
       "  <thead>\n",
       "    <tr style=\"text-align: right;\">\n",
       "      <th></th>\n",
       "      <th>index</th>\n",
       "      <th>label</th>\n",
       "      <th>probability_0</th>\n",
       "      <th>probability_1</th>\n",
       "    </tr>\n",
       "  </thead>\n",
       "  <tbody>\n",
       "    <tr>\n",
       "      <th>0</th>\n",
       "      <td>118</td>\n",
       "      <td>0</td>\n",
       "      <td>0.795493</td>\n",
       "      <td>0.204507</td>\n",
       "    </tr>\n",
       "    <tr>\n",
       "      <th>1</th>\n",
       "      <td>302</td>\n",
       "      <td>0</td>\n",
       "      <td>0.913022</td>\n",
       "      <td>0.086978</td>\n",
       "    </tr>\n",
       "    <tr>\n",
       "      <th>2</th>\n",
       "      <td>285</td>\n",
       "      <td>0</td>\n",
       "      <td>0.538932</td>\n",
       "      <td>0.461068</td>\n",
       "    </tr>\n",
       "    <tr>\n",
       "      <th>3</th>\n",
       "      <td>477</td>\n",
       "      <td>0</td>\n",
       "      <td>0.823059</td>\n",
       "      <td>0.176941</td>\n",
       "    </tr>\n",
       "    <tr>\n",
       "      <th>4</th>\n",
       "      <td>109</td>\n",
       "      <td>0</td>\n",
       "      <td>0.922561</td>\n",
       "      <td>0.077439</td>\n",
       "    </tr>\n",
       "  </tbody>\n",
       "</table>\n",
       "</div>"
      ],
      "text/plain": [
       "   index  label  probability_0  probability_1\n",
       "0    118      0       0.795493       0.204507\n",
       "1    302      0       0.913022       0.086978\n",
       "2    285      0       0.538932       0.461068\n",
       "3    477      0       0.823059       0.176941\n",
       "4    109      0       0.922561       0.077439"
      ]
     },
     "execution_count": 5,
     "metadata": {},
     "output_type": "execute_result"
    }
   ],
   "source": [
    "project_1_scoring(X_test).head()"
   ]
  }
 ],
 "metadata": {
  "kernelspec": {
   "display_name": "ml-fall-2023",
   "language": "python",
   "name": "python3"
  },
  "language_info": {
   "codemirror_mode": {
    "name": "ipython",
    "version": 3
   },
   "file_extension": ".py",
   "mimetype": "text/x-python",
   "name": "python",
   "nbconvert_exporter": "python",
   "pygments_lexer": "ipython3",
   "version": "3.10.11"
  }
 },
 "nbformat": 4,
 "nbformat_minor": 5
}
